{
 "cells": [
  {
   "cell_type": "code",
   "execution_count": 6,
   "metadata": {},
   "outputs": [
    {
     "name": "stdout",
     "output_type": "stream",
     "text": [
      "True\n"
     ]
    }
   ],
   "source": [
    "def divisor(numero, divisor):\n",
    "  return numero % divisor\n",
    "\n",
    "\n",
    "#return\n",
    "t = int(input('Quiero saber si: '))\n",
    "v = int(input('es divisible entre: '))\n",
    "\n",
    "revisar= divisor(t, v)\n",
    "\n",
    "if revisar == 0:\n",
    "  print(True)\n",
    "else:\n",
    "  print(False)"
   ]
  },
  {
   "cell_type": "markdown",
   "metadata": {},
   "source": [
    "<h2>Ejercicio 23</h2>\n",
    "Desarrollar un algoritmo que calcule la suma de los elementos de un arreglo (a) de numeros reales:\n",
    "\n",
    "\\begin{equation*}\n",
    "  \\begin{array}{crll}\n",
    "    \\text{Suma arreglo: } & \\mathbb{R}^{n} & \\longrightarrow & \\mathbb{R} \\\\\n",
    "      & (a) & \\longmapsto & \\displaystyle \\sum_{i=0}^{n-1}a_{i}\\\\\n",
    "  \\end{array}\n",
    "\\end{equation*}\n"
   ]
  },
  {
   "cell_type": "code",
   "execution_count": 8,
   "metadata": {},
   "outputs": [
    {
     "name": "stdout",
     "output_type": "stream",
     "text": [
      "El resultado es: 729\n"
     ]
    }
   ],
   "source": [
    "def calcular_potencia(base, exponente):\n",
    "  return base ** exponente\n",
    "# Funcion principal\n",
    "x = int(input('Diga la base:'))\n",
    "y = int(input('Diga el exponente:'))\n",
    "\n",
    "potencia = calcular_potencia(x, y)\n",
    "\n",
    "print(\"El resultado es:\", potencia) "
   ]
  }
 ],
 "metadata": {
  "kernelspec": {
   "display_name": "Python 3",
   "language": "python",
   "name": "python3"
  },
  "language_info": {
   "codemirror_mode": {
    "name": "ipython",
    "version": 3
   },
   "file_extension": ".py",
   "mimetype": "text/x-python",
   "name": "python",
   "nbconvert_exporter": "python",
   "pygments_lexer": "ipython3",
   "version": "3.13.1"
  }
 },
 "nbformat": 4,
 "nbformat_minor": 2
}
