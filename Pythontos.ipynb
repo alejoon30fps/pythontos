{
  "cells": [
    {
      "cell_type": "markdown",
      "metadata": {
        "id": "QElw4k_KP3e2"
      },
      "source": [
        "# 1. La $  $ Granja$\n",
        "\n",
        "\n"
      ]
    },
    {
      "cell_type": "markdown",
      "metadata": {
        "id": "igXuhCFQNQMJ"
      },
      "source": [
        "## Produccion de leche\n",
        "Desarrollar un algoritmo que calcule la produccion de leche en una granja dados el numero de vacas $v$, el ancho $n$ y largo $m$ del corral y la cantidad de pasto requerida por la vaca $r$ para producir $l$ litros de leche. Donde $v$ $ \\in  \\mathbb{N}$ y $n$, $m$, $r$, $l$ $ \\in  \\mathbb{R}^{+}$:\n",
        "\n",
        "\\begin{equation*}\n",
        "  \\begin{array}{crll}\n",
        "    \\text{LecheTotal: } & \\mathbb{N} \\times \\mathbb{R}^{+} \\times \\mathbb{R}^{+} \\times \\mathbb{R}^{+} \\times \\mathbb{R}^{+,0} & \\longrightarrow & \\mathbb{R}^{+,0} \\\\\n",
        "      & (v, n, m, r, l) & \\longmapsto & \\begin{cases}\n",
        "        0 & \\text{si } v = 0, \\\\\n",
        "        \\frac{n \\cdot m}{r} \\cdot l & \\text{en otro caso.}\n",
        "      \\end{cases}\n",
        "      \\\\\n",
        "  \\end{array}\n",
        "\\end{equation*}\n"
      ]
    },
    {
      "cell_type": "code",
      "execution_count": null,
      "metadata": {
        "colab": {
          "base_uri": "https://localhost:8080/"
        },
        "id": "g9nzhgJpjkG7",
        "outputId": "4b204e16-882c-4d37-981d-6460132315b2"
      },
      "outputs": [],
      "source": [
        "def lecheTotal(v, n, m, r, l):\n",
        "  if(v==0):\n",
        "    return 0\n",
        "  else:\n",
        "    return (n*m/r)*l\n",
        "\n",
        "#Controlar entradas\n",
        "def realesPositivos(mnsj):\n",
        "  x = float(input(mnsj+'? '))\n",
        "  while(x <= 0.0):\n",
        "    print(x,'no es un real positivo, intente de nuevo')\n",
        "    x = float(input(mnsj+'? '))\n",
        "  return x\n",
        "\n",
        "def realesPositivosCero(mensaje):\n",
        "  l = float(input(mensaje+'? '))\n",
        "  while(l < 0.0):\n",
        "    print(l,'no puede ser negativo, intente de nuevo')\n",
        "    l = float(input(mensaje+'? '))\n",
        "  return l\n",
        "\n",
        "#Programa principal (llama a la funcion)\n",
        "vacas= int(input('Cuantas vacas hay? '))\n",
        "largo= realesPositivos('Cual es el largo del terreno')\n",
        "ancho= realesPositivos('Cual es el ancho del terreno') #lectura\n",
        "minimo= realesPositivos('Cual es el minimo de terreno')\n",
        "leches= realesPositivosCero('Cual es la cantidad de leche por el minimo')\n",
        "\n",
        "total= lecheTotal(vacas, largo, ancho, minimo, leches) #calculo/procesa\n",
        "\n",
        "print(\"La cantidad de leche producida es\", total , 'litros1')\n",
        "#interaccion/imprime"
      ]
    },
    {
      "cell_type": "markdown",
      "metadata": {
        "id": "IHBCrhwygQVC"
      },
      "source": [
        "## Produccion de huevos\n",
        "Desarrollar un algoritmo que calcule la produccion de huevos en una granja en un mes (30 dias) dado el numero de aves $a$ donde $a$ $ \\in  \\mathbb{N}$, de las cuales $\\frac{1}{3}$ son gallinas, por ende podemos definir esta cantidad de la siguiente manera:\n",
        "\n",
        "\\begin{equation*}\n",
        "g = \\left\\lfloor \\frac{a}{3} \\right\\rfloor\n",
        "\\end{equation*}\n",
        "\n",
        "Ahora $g$ es el numero limpio de gallinas, de este valor la mitad produce un huevo cada 3 dias y la otra mitad uno cada 5 dias. Asi entonces la funcion que calcula la produccion se define como:\n",
        "\n",
        "\\begin{equation*}\n",
        "  \\begin{array}{crll}\n",
        "    \\text{huevosTotal: } & \\mathbb{N} & \\longrightarrow & \\mathbb{N} \\\\\n",
        "    & \\quad (a) & \\longmapsto & 10 \\cdot \\left\\lfloor \\frac{g}{2} \\right\\rfloor + 6 \\cdot \\left( g - \\left\\lfloor \\frac{g}{2} \\right\\rfloor \\right)\n",
        "  \\end{array}\n",
        "\\end{equation*}"
      ]
    },
    {
      "cell_type": "code",
      "execution_count": null,
      "metadata": {
        "colab": {
          "base_uri": "https://localhost:8080/"
        },
        "id": "jL0LcN9gDtPw",
        "outputId": "fcb5c831-b942-465e-b1be-bc4f55a0d983"
      },
      "outputs": [
        {
          "name": "stdout",
          "output_type": "stream",
          "text": [
            "Cuantas aves hay: -3\n",
            "-3 no es un numero natural, intente de nuevo\n",
            "Cuantas aves hay: 33\n",
            "La cantidad de huevos producidos es 86\n"
          ]
        }
      ],
      "source": [
        "def huevosTotal(a):\n",
        "  g = int(a/3)\n",
        "  return 10*int(g/2)+6*(g-(int(g/2)))\n",
        "\n",
        "#Controlar Entradas\n",
        "def naturales(mnsj2):\n",
        "  y = int(input(mnsj2))\n",
        "  while(y < 0):\n",
        "    print(y,'no es un numero natural, intente de nuevo')\n",
        "    y = int(input(mnsj2))\n",
        "  return y\n",
        "\n",
        "#Progrma principal\n",
        "aves= naturales('Cuantas aves hay: ')\n",
        "\n",
        "huevos= huevosTotal(aves)\n",
        "\n",
        "print(\"La cantidad de huevos producidos es\", huevos)"
      ]
    },
    {
      "cell_type": "markdown",
      "metadata": {
        "id": "aofsXzLHl41K"
      },
      "source": [
        "## Kilo de escorpion\n",
        "Desarrollar un algoritmo que calcule cuantos kilos de escorpiones se pueden vender a China sin que decresca la poblacion a menos de $ \\frac{2}{3} $ dados los valores $g$, $m$, $p$ que representan respectivamente la  cantidad de escorpiones grandes, medianos y pequeños disponibles en las vitrinas de la granja. Donde $g$, $m$, $p$ $\\in \\mathbb{N}$.\n",
        "\n",
        "Sea $t$ el tercio entero de la población total de escorpiones disponibles (es decir el tercio que se puede vender sin que decresca la poblacion a menos de dos tercios) , definido como:\n",
        "\\begin{equation*}\n",
        "t = \\left\\lfloor \\frac{g + m + p}{3} \\right\\rfloor\n",
        "\\end{equation*}\n",
        "\n",
        "La función que calcula la cantidad de escorpiones que puede venderse, en kilogramos, se define como:\n",
        "\n",
        "\\begin{equation*}\n",
        "  \\begin{array}{crll}\n",
        "    \\text{kiloEscorpion: } & \\mathbb{N} \\times \\mathbb{N} \\times \\mathbb{N} & \\longrightarrow & \\mathbb{R} \\\\\n",
        "      & (g,m,p) & \\longmapsto & \\begin{cases}\n",
        "        0.05 \\cdot t & \\text{si } g \\ge t, \\\\\n",
        "        0.05 \\cdot g + 0.03 \\cdot (t-g) & \\text{si } g+m \\ge t, \\\\\n",
        "        0.05 \\cdot g + 0.03 \\cdot m + 0.02 \\cdot (t-g-m) & \\text{en otro caso.}\n",
        "      \\end{cases}\n",
        "      \\\\\n",
        "  \\end{array}\n",
        "\\end{equation*}\n"
      ]
    },
    {
      "cell_type": "code",
      "execution_count": null,
      "metadata": {
        "colab": {
          "base_uri": "https://localhost:8080/"
        },
        "id": "kMpqK-g5mhzs",
        "outputId": "da912081-1afb-4249-fac7-e2a6494b1d86"
      },
      "outputs": [
        {
          "name": "stdout",
          "output_type": "stream",
          "text": [
            "Cuantos escorpiones grandes hay: 44\n",
            "Cuantos escorpiones medianos hay: 55\n",
            "Cuantos escorpiones pequenos hay: 66\n",
            "La cantidad de kilos vendidos es de 2.53\n"
          ]
        }
      ],
      "source": [
        "def kiloEscorpion(g, m, p):\n",
        "  t = int((g+m+p)/3)\n",
        "  if g >= t:\n",
        "    return 0.05*t\n",
        "  if g+m >= t:\n",
        "    return 0.05*g + 0.03*(t-g)\n",
        "  else:\n",
        "    return 0.05*g + 0.03*m + 0.02*(t-g-m)\n",
        "\n",
        "#Controlar Entradas\n",
        "def naturales(mnsj2):\n",
        "  y = int(input(mnsj2))\n",
        "  while(y < 0):\n",
        "    print(y,'no es un numero natural, intente de nuevo')\n",
        "    y = int(input(mnsj2))\n",
        "  return y\n",
        "\n",
        "\n",
        "#Programa principal\n",
        "gran= naturales('Cuantos escorpiones grandes hay: ')\n",
        "medi= naturales('Cuantos escorpiones medianos hay: ')\n",
        "pequ= naturales('Cuantos escorpiones pequenos hay: ')\n",
        "\n",
        "kilos= kiloEscorpion(gran, medi, pequ)\n",
        "\n",
        "print(\"La cantidad de kilos vendidos es de\", round(kilos,25))"
      ]
    },
    {
      "cell_type": "markdown",
      "metadata": {
        "id": "dE6X6dYtyg3b"
      },
      "source": [
        "## Cercar el corrral\n",
        "Se tiene un corral de tamano conocido de dimenciones $n \\cdot m$ que debe volver a cercarse, dado el costo por metro de $p$ alambre, $s$ varilla y $q$ madera teniendo en cuenta que de alambre se nececitan 5 hileras, de varilla 8 y de madera 4, determinar cual es mas economico para recercar (en la funcion no es necesario tener en cuenta el perimetro ya que se simplifica al hacer todas las pomaraciones).\n",
        "\n",
        "La función que calcula la mejor opcion de compra, se define como:\n",
        "\n",
        "\\begin{equation*}\n",
        "  \\begin{array}{crll}\n",
        "    \\text{recercar: } & \\mathbb{R}^{+} \\times \\mathbb{R}^{+} \\times \\mathbb{R}^{+} & \\longrightarrow & \\mathbb{S} \\\\\n",
        "      & (p,s,q) & \\longmapsto & \\begin{cases}\n",
        "        'Alambre' & \\text{si } p \\cdot 5 < s \\cdot 8 \\ \\land \\ p \\cdot 5 < q \\cdot 4,\\\\\n",
        "        'Varilla' & \\text{si } s \\cdot 2 < q, \\\\\n",
        "        'Madera' & \\text{en otro caso.}\n",
        "      \\end{cases}\n",
        "      \\\\\n",
        "  \\end{array}\n",
        "\\end{equation*}"
      ]
    },
    {
      "cell_type": "code",
      "execution_count": null,
      "metadata": {
        "colab": {
          "base_uri": "https://localhost:8080/"
        },
        "id": "Bb6xuEDnyj-v",
        "outputId": "80d7eccf-1ce6-45de-c104-471d104a3742"
      },
      "outputs": [
        {
          "name": "stdout",
          "output_type": "stream",
          "text": [
            "Precio del alambre por metro: 2\n",
            "Precio de la varilla por metro: 1\n",
            "Precio de la madera por metro: 9\n",
            "La opcion mas economica es Varilla\n"
          ]
        }
      ],
      "source": [
        "def recercar(p,s,q):\n",
        "  if p*5 < s*8 and p*5 < q*4:\n",
        "    return 'Alambre'\n",
        "  if s*2 < q:\n",
        "    return 'Varilla'\n",
        "  else:\n",
        "    return 'Madera'\n",
        "\n",
        "#Controlar Entradas\n",
        "def realesPositivosCero(mensaje):\n",
        "  l = float(input(mensaje))\n",
        "  while(l < 0.0):\n",
        "    print(l,'no puede ser negativo, intente de nuevo')\n",
        "    l = float(input(mensaje))\n",
        "  return l\n",
        "\n",
        "#Programa principal\n",
        "alam= realesPositivosCero('Precio del alambre por metro: ')\n",
        "vari= realesPositivosCero('Precio de la varilla por metro: ')\n",
        "tabl= realesPositivosCero('Precio de la madera por metro: ')\n",
        "\n",
        "cerca= recercar(alam, vari, tabl)\n",
        "\n",
        "print(\"La opcion mas economica es\", cerca)"
      ]
    },
    {
      "cell_type": "markdown",
      "metadata": {
        "id": "vg1wATaMd0pu"
      },
      "source": [
        "# $2. Numericos $\n",
        "\n",
        "\n"
      ]
    },
    {
      "cell_type": "markdown",
      "metadata": {
        "id": "3xZxBUmVeYG9"
      },
      "source": [
        "## Potencia entre enteros\n",
        "Dados dos numeros $a$ y $b$, donde $a, b$ $\\in \\mathbb{Z}$. Calcular el resultado de elevar al primero por el segundo (para fines practicos se define $0^{0} = 1$).\n",
        "\n",
        "\\begin{equation*}\n",
        "  \\begin{array}{crll}\n",
        "    \\text{potencia: } & \\mathbb{Z} \\times \\mathbb{Z} & \\longrightarrow & \\mathbb{Q} \\\\\n",
        "      & (a,b) & \\longmapsto &  a^{b}\n",
        "      \\\\\n",
        "  \\end{array}\n",
        "\\end{equation*}"
      ]
    },
    {
      "cell_type": "code",
      "execution_count": null,
      "metadata": {
        "colab": {
          "base_uri": "https://localhost:8080/"
        },
        "id": "iJp7IAoNScve",
        "outputId": "5ea7d9ef-497e-4e20-a8f6-a32b0a66af7c"
      },
      "outputs": [
        {
          "name": "stdout",
          "output_type": "stream",
          "text": [
            "Diga la base:0\n",
            "Diga el exponente:5\n",
            "El resultado es: 0\n"
          ]
        }
      ],
      "source": [
        "def potencia(base, exponente):\n",
        "  return base ** exponente\n",
        "\n",
        "#Programa principal\n",
        "x = int(input('Diga la base:'))\n",
        "y = int(input('Diga el exponente:'))\n",
        "\n",
        "calcularPotencia = potencia(x, y)\n",
        "\n",
        "print(\"El resultado es:\", calcularPotencia)"
      ]
    },
    {
      "cell_type": "markdown",
      "metadata": {
        "id": "Y3NLjSNgmETw"
      },
      "source": [
        "## Comprobar divisivilidad\n",
        "Dados dos numeros $x$ y $y$, donde $x, y$ $\\in \\mathbb{N}$ y $ y \\neq 0$. Determinar si $y \\mid x$.\n",
        "\n",
        "\\begin{equation*}\n",
        "  \\begin{array}{crll}\n",
        "    \\text{divisor: } & \\mathbb{N} \\times \\mathbb{N} & \\longrightarrow & \\mathbb{B} \\\\\n",
        "      & (x,y) & \\longmapsto &  \\begin{cases}\n",
        "        T & \\text{si } mod(x,y) = 0, \\\\\n",
        "        F & \\text{en otro caso. }\n",
        "      \\end{cases}\n",
        "      \\\\\n",
        "  \\end{array}\n",
        "\\end{equation*}"
      ]
    },
    {
      "cell_type": "code",
      "execution_count": null,
      "metadata": {
        "colab": {
          "base_uri": "https://localhost:8080/"
        },
        "id": "CDrhMdx-jgOs",
        "outputId": "c6fd4164-069f-4eba-82d2-8878c0ffb2f3"
      },
      "outputs": [
        {
          "name": "stdout",
          "output_type": "stream",
          "text": [
            "Quiero saber si: 2\n",
            "es divisible entre: 0\n",
            "no puede ser 0 ni negativo, intente de nuevo\n",
            "es divisible entre: 2\n",
            "True\n"
          ]
        }
      ],
      "source": [
        "def divisor(numero, divisor):\n",
        "  x = numero % divisor\n",
        "  if x == 0:\n",
        "    return True\n",
        "  return False\n",
        "\n",
        "#Controlar entradas\n",
        "def naturales(mnsj2):\n",
        "  y = int(input(mnsj2))\n",
        "  while(y < 0):\n",
        "    print(y,'no es un numero natural, intente de nuevo')\n",
        "    y = int(input(mnsj2))\n",
        "  return y\n",
        "\n",
        "def CeroNatural(mnsj3):\n",
        "  z = int(input(mnsj3))\n",
        "  while(z <= 0):\n",
        "    print('no puede ser 0 ni negativo, intente de nuevo')\n",
        "    z = int(input(mnsj3))\n",
        "  return z\n",
        "\n",
        "#Programa principal\n",
        "t = naturales('Quiero saber si: ')\n",
        "v = CeroNatural('es divisible entre: ')\n",
        "\n",
        "revisar= divisor(t, v)\n",
        "\n",
        "print(revisar)\n"
      ]
    },
    {
      "cell_type": "markdown",
      "metadata": {
        "id": "73SDclzEX8h4"
      },
      "source": [
        "## Numeros primos\n",
        "Dado un numero $x$ determinar si este es un numero primo.\n",
        "\n",
        "Un numero es primo si es un numero natural $n$ mayor que uno y solo tiene exactamente dos divisores, el uno y si mismo (el 1 no es primo por definicion). Es decir $n$ es primo si no existen otro natural $ \\ d \\ $ tal que $2 < d< n \\ $ y $ \\ d \\mid n$. Sin embargo un metodo mas eficiente es verificar esto hasta $\\sqrt{n}$ ya que si $n$ tiene un divisor $d$ mayor a su raiz, tambien tendra un divisor $k$ menor a esta, pues $n = k \\cdot d \\Leftrightarrow \\frac{n}{d}= k, \\ d \\neq 0$.\n",
        "\n",
        "\\begin{equation*}\n",
        "  \\begin{array}{crll}\n",
        "    \\text{esPrimo: } & \\mathbb{N} & \\longrightarrow & \\mathbb{B} \\\\\n",
        "      & (n) & \\longmapsto &  \\begin{cases}\n",
        "        F & \\text{si } n \\leq 1, \\\\\n",
        "        \\forall k \\in \\mathbb{N} : 2 \\leq k \\leq \\lfloor \\sqrt{n} \\rfloor, \\ \\text{se verifica que} \\ mod(n,k) \\neq 0 & \\text{en otro caso. }\n",
        "      \\end{cases}\n",
        "      \\\\\n",
        "  \\end{array}\n",
        "\\end{equation*}"
      ]
    },
    {
      "cell_type": "code",
      "execution_count": null,
      "metadata": {
        "colab": {
          "base_uri": "https://localhost:8080/"
        },
        "id": "pPBRtulCumPU",
        "outputId": "6ca5bbdb-129b-4413-ff7c-5ce70801e198"
      },
      "outputs": [
        {
          "name": "stdout",
          "output_type": "stream",
          "text": [
            "Es primo?: 7\n",
            "True\n"
          ]
        }
      ],
      "source": [
        "def esPrimo(n):\n",
        "  if (n<=1):\n",
        "    return False\n",
        "  else:\n",
        "    m = int(n**0.5)\n",
        "    for k in range(2, m+1):\n",
        "      if ((n%k) == 0):\n",
        "        return False\n",
        "    return True\n",
        "\n",
        "#Programa principal\n",
        "\n",
        "x = int(input('Es primo?: '))\n",
        "primo= esPrimo(x)\n",
        "\n",
        "print(primo)"
      ]
    },
    {
      "cell_type": "markdown",
      "metadata": {
        "id": "L4ZqMFIcdr9H"
      },
      "source": [
        "## Primos relativos o coprimos\n",
        "\n",
        "Dados dos numeros $a$, $b$ tal que $a,b \\in \\mathbb{N}$ determinar si son primos relativos.\n",
        "\n",
        "Dos numeros son primos relativos si no comparten divisores, es decir que su maximo comun divisor es el 1 (divisor de todos los numeros), la manera mas eficiente de comprobarlo es mediante el **algoritmo de euclides** el cual permite calcular el maximo comun divisor sin necesidad de descomponer en factores primos. Este se define de la siguiente forma:\n",
        "\\begin{equation*}\n",
        "  \\begin{array}{crll}\n",
        "    \\text{mcd: } & \\mathbb{N} & \\longrightarrow & \\mathbb{N} \\\\\n",
        "      & (a,b) & \\longmapsto &  \\begin{cases}\n",
        "        a &  \\text{si} \\ b=0,  \\\\\n",
        "        mcd(b, \\ mod(a,b)) & \\text{si} \\ b \\neq 0.\n",
        "      \\end{cases}\n",
        "      \\\\\n",
        "  \\end{array}\n",
        "\\end{equation*}\n",
        "\n",
        "Lo que permite este algoritmo recursivo es que mientras el residuo del modulo entre $a$ y $b$ sea diferente de 0 se debe repetir la operacion con $b$ y el residuo anterior asi entonces cuando $b=0$ el resultado previo (o sea $a$) sera el maximo comun divisor, tal como se puede ver acontinuacion:\n",
        "\n",
        "\\begin{equation*}\n",
        "a_0 = a, \\quad b_0 = b\n",
        "\\end{equation*}\n",
        "\n",
        "\\begin{equation*}\n",
        "a_1 = b_0, \\quad b_1 = mod(a_0 , b_0)\n",
        "\\end{equation*}\n",
        "\n",
        "\\begin{equation*}\n",
        "a_2 = b_1, \\quad b_2 = mod(a_1 , b_1)\n",
        "\\end{equation*}\n",
        "\n",
        "\\begin{equation*}\n",
        "\\vdots\n",
        "\\end{equation*}\n",
        "\n",
        "\\begin{equation*}\n",
        "\\text{Hasta que } b_n = 0, \\ \\text{entonces } \\text{mcd}(a, b) = a_n\n",
        "\\end{equation*}\n",
        "\n",
        "Con ayuda de este algoritmo podemos determinar si una pareja de numeros es prima relativa.\n",
        "\n",
        "\\begin{equation*}\n",
        "  \\begin{array}{crll}\n",
        "    \\text{primoRelativo: } & \\mathbb{N} & \\longrightarrow & \\mathbb{B} \\\\\n",
        "      & (x, y) & \\longmapsto &  \\begin{cases}\n",
        "        T &  \\text{si} \\ mcd(x,y) = 1, \\\\\n",
        "        F & \\text{en otro caso. }\n",
        "      \\end{cases}\n",
        "      \\\\\n",
        "  \\end{array}\n",
        "\\end{equation*}\n"
      ]
    },
    {
      "cell_type": "code",
      "execution_count": null,
      "metadata": {
        "colab": {
          "base_uri": "https://localhost:8080/"
        },
        "id": "mNs8l52NegPU",
        "outputId": "a0493e44-526c-4d70-de57-1626ee1d3e58"
      },
      "outputs": [
        {
          "name": "stdout",
          "output_type": "stream",
          "text": [
            "Quiero saber si: 0\n",
            "es coprimo con: 1\n",
            "True\n"
          ]
        }
      ],
      "source": [
        "def mcd(a, b):\n",
        "  if b == 0:\n",
        "    return a\n",
        "  else:\n",
        "    return mcd(b, (a%b))\n",
        "\n",
        "def primoRelativo(x,y):\n",
        "  if mcd(x,y) == 1:\n",
        "    return True\n",
        "  return False\n",
        "\n",
        "#Controlar entradas\n",
        "def naturales(mnsj2):\n",
        "  y = int(input(mnsj2))\n",
        "  while(y < 0):\n",
        "    print(y,'no es un numero natural, intente de nuevo')\n",
        "    y = int(input(mnsj2))\n",
        "  return y\n",
        "\n",
        "#Programa principal\n",
        "primero = naturales('Quiero saber si: ')\n",
        "segundo = naturales('es coprimo con: ')\n",
        "\n",
        "coPrimos= primoRelativo(primero, segundo)\n",
        "\n",
        "print(coPrimos)\n"
      ]
    },
    {
      "cell_type": "markdown",
      "metadata": {
        "id": "du8RhPmiFZRu"
      },
      "source": [
        "## Determinar si es multiplo\n",
        "\n",
        "Dados tres numeros $x$, $y$, $z$ donde $x$, $y$, $z$ $\\in \\mathbb{Z}$ y $y+z \\neq 0$. Determinar si $x$ es multiplo de la suma entre $y$ y $z$.\n",
        "\n",
        "$\\textbf{Nota}: a$ es multiplo de $b \\Leftrightarrow b$ es divisor de $a$. $\\ \\forall a, b \\in \\mathbb{Z}, \\ a $ es divisible por $ b \\iff \\exists k \\in \\mathbb{Z} $ tal que $ a = k \\cdot b.$\n",
        "\n",
        "\\begin{equation*}\n",
        "  \\begin{array}{crll}\n",
        "    \\text{multiplo: } & \\mathbb{Z} \\times \\mathbb{Z} \\times \\mathbb{Z} & \\longrightarrow & \\mathbb{B} \\\\\n",
        "      & (x,y,z) & \\longmapsto &  \\begin{cases}\n",
        "        T & \\text{si } mod(x,(y+z)) = 0, \\\\\n",
        "        F & \\text{en otro caso. }\n",
        "      \\end{cases}\n",
        "      \\\\\n",
        "  \\end{array}\n",
        "\\end{equation*}"
      ]
    },
    {
      "cell_type": "code",
      "execution_count": null,
      "metadata": {
        "colab": {
          "base_uri": "https://localhost:8080/"
        },
        "id": "5m6rALECLkQK",
        "outputId": "4f6a2545-1f79-4486-ea48-e40e80e39c8b"
      },
      "outputs": [
        {
          "name": "stdout",
          "output_type": "stream",
          "text": [
            "Quiero saber si: 3\n",
            "es multiplo de: 3\n",
            "sumado con: 3\n",
            "False\n"
          ]
        }
      ],
      "source": [
        "def multiplo(multiplo,num2,num3):\n",
        "  a = multiplo % (num2+num3)\n",
        "  if a == 0:\n",
        "    return True\n",
        "  return False\n",
        "\n",
        "#Programa principal\n",
        "m = int(input('Quiero saber si: '))\n",
        "d = int(input('es multiplo de: '))\n",
        "s = int(input('sumado con: '))\n",
        "\n",
        "rectificar= multiplo(m, d, s)\n",
        "\n",
        "print(rectificar)\n"
      ]
    },
    {
      "cell_type": "markdown",
      "metadata": {
        "id": "oK_cFwv5SNj1"
      },
      "source": [
        "## Polinomio de grado dos\n",
        "Teniendo en cuenta la formula general para un polinomio de grado dos $P(x) = hx^2 + jx + k$, donde $h,j$ y $k$ son constantes reales y $h \\neq 0$. Dados cuatro numeros $a$, $b$, $c$ y $y$ donde $a$, $b$, $c$, $y$ $\\in \\mathbb{R}$ y $a \\neq 0$. Determinar el valor de $P(y)$ para los valores de $a$, $b$ y $c$ como coeficientes cuadratico, lineal y constante respectivamente.\n",
        "\n",
        "\\begin{equation*}\n",
        "  \\begin{array}{crll}\n",
        "    \\text{cuadratica: } & \\mathbb{R} \\times \\mathbb{R} \\times \\mathbb{R} \\times \\mathbb{R} & \\longrightarrow & \\mathbb{R} \\\\\n",
        "      & (a, b, c, x) & \\longmapsto & ax^2+bx+c\n",
        "      \\\\\n",
        "  \\end{array}\n",
        "\\end{equation*}"
      ]
    },
    {
      "cell_type": "code",
      "execution_count": null,
      "metadata": {
        "colab": {
          "base_uri": "https://localhost:8080/"
        },
        "id": "YQZjhDqaVR2t",
        "outputId": "9c5d5527-39a6-4493-b2c4-d47490f1306c"
      },
      "outputs": [
        {
          "name": "stdout",
          "output_type": "stream",
          "text": [
            "Coeficiente cuadratico:2\n",
            "Coeficiente lineal:0\n",
            "Coeficiente constante:0\n",
            "Evaluado en:1\n",
            "El resultado es: 2.0\n"
          ]
        }
      ],
      "source": [
        "def cuadratica(cuadratico, lineal, constante, variable):\n",
        "  return cuadratico*variable**2 + lineal*variable + constante\\\n",
        "\n",
        "# Programa principal\n",
        "cua = float(input('Coeficiente cuadratico:'))\n",
        "lin = float(input('Coeficiente lineal:'))\n",
        "con = float(input('Coeficiente constante:'))\n",
        "var = float(input('Evaluado en:'))\n",
        "\n",
        "evaluaren = cuadratica(cua, lin, con, var)\n",
        "\n",
        "print(\"El resultado es:\", evaluaren)"
      ]
    },
    {
      "cell_type": "markdown",
      "metadata": {
        "id": "p3McXr7Yso8m"
      },
      "source": [
        "## Coeficiente lineal de la derivada\n",
        "Dados tres numeros $a$, $b$ y $c$ donde $a$, $b$, $c$ $\\in \\mathbb{R}$ y $a \\neq 0$. Calcular el valor del coeficiente lineal de la primera derivada partiendo de un polinomio de grado dos.\n",
        "\n",
        "$\\textbf{Nota}:$ La derivada de una ecuacion cuadratica es $P'(x) = 2ax + b$.\n",
        "\n",
        "\\begin{equation*}\n",
        "  \\begin{array}{crll}\n",
        "    \\text{derivada: } & \\mathbb{R} \\times \\mathbb{R} \\times \\mathbb{R} & \\longrightarrow & \\mathbb{R} \\\\\n",
        "      & (a, b, c) & \\longmapsto & 2a\n",
        "      \\\\\n",
        "  \\end{array}\n",
        "\\end{equation*}"
      ]
    },
    {
      "cell_type": "code",
      "execution_count": null,
      "metadata": {
        "colab": {
          "base_uri": "https://localhost:8080/"
        },
        "id": "6cj7YPyZaMdk",
        "outputId": "87ee2965-afa8-45f8-d091-a451cf9b3f2e"
      },
      "outputs": [
        {
          "name": "stdout",
          "output_type": "stream",
          "text": [
            "Coeficiente cuadratico:0\n",
            "Coeficiente lineal:0\n",
            "Coeficiente constante:0\n",
            "El resultado es: 0.0\n"
          ]
        }
      ],
      "source": [
        "def derivada(a,b,c):\n",
        "  return 2*a\n",
        "\n",
        "# Programa principal\n",
        "cuad = float(input('Coeficiente cuadratico:'))\n",
        "line = float(input('Coeficiente lineal:'))\n",
        "cons = float(input('Coeficiente constante:'))\n",
        "\n",
        "derivacion = derivada(cuad, line, cons)\n",
        "\n",
        "print(\"El resultado es:\", derivacion)\n"
      ]
    },
    {
      "cell_type": "markdown",
      "metadata": {
        "id": "cWe7uzcOM4S4"
      },
      "source": [
        "## Evaluar la derivada\n",
        "Teniendo en cuenta la derivada para un polinomio de grado dos $P'(x) = 2ax + b$, donde $a$ y $b$ son constantes reales y $a \\neq 0$. Dados cuatro numeros $v$, $n$, $m$ y $y$ donde $v$, $n$, $m$, $y$ $\\in \\mathbb{R}$ y $v \\neq 0$. Calcultar el valor de $P'(y)$ para los valores de $v$, $n$ y $m$ como coeficientes cuadratico, lineal y constante respectivamente de la funcion original.\n",
        "\n",
        "\\begin{equation*}\n",
        "  \\begin{array}{crll}\n",
        "    \\text{derivada: } & \\mathbb{R} \\times \\mathbb{R} \\times \\mathbb{R} \\times \\mathbb{R} & \\longrightarrow & \\mathbb{R} \\\\\n",
        "      & (v, n, m, y) & \\longmapsto & 2vy+n\n",
        "      \\\\\n",
        "  \\end{array}\n",
        "\\end{equation*}"
      ]
    },
    {
      "cell_type": "code",
      "execution_count": null,
      "metadata": {
        "colab": {
          "base_uri": "https://localhost:8080/"
        },
        "id": "4gEW7BDwe3AN",
        "outputId": "85904d8d-6248-4c66-e717-d3459a403c57"
      },
      "outputs": [
        {
          "name": "stdout",
          "output_type": "stream",
          "text": [
            "Coeficiente cuadratico:3\n",
            "Coeficiente lineal:5\n",
            "Coeficiente constante:-7\n",
            "Evaluado en:2\n",
            "El resultado es: 17.0\n"
          ]
        }
      ],
      "source": [
        "def evaluarDerivada(v, n, m, y):\n",
        "  return 2*v*y + n\n",
        "\n",
        "# Programa principal\n",
        "cuadorig = float(input('Coeficiente cuadratico:'))\n",
        "lineorig = float(input('Coeficiente lineal:'))\n",
        "consorig = float(input('Coeficiente constante:'))\n",
        "variable = float(input('Evaluado en:'))\n",
        "\n",
        "derivadaEvaluada = evaluarDerivada(cuadorig, lineorig, consorig, variable)\n",
        "\n",
        "print(\"El resultado es:\", derivadaEvaluada)\n"
      ]
    },
    {
      "cell_type": "markdown",
      "metadata": {
        "id": "1pDvjHqg5cBn"
      },
      "source": [
        "## Serie de Fibonacci\n",
        "Dado un numero $x$, donde $x \\in \\mathbb{N}$, determinar si este hace parte de la sucesion de Fibonacci.\n",
        "\n",
        "La serie de Fibonacci es una sucesion matematica en la que cada número es la suma de los dos anteriores. Los dos primeros terminos son el 0 y el 1 por definicion. La forma de esta sucecion por ende es la siguiente:\n",
        "\n",
        "\\begin{equation*}\n",
        "F(0) = 0\n",
        "\\quad F(1) = 1\n",
        "\\end{equation*}\n",
        "\n",
        "\\begin{equation*}\n",
        "\\quad F(n) = F(n-1) + F(n-2) \\quad \\text{para } n \\geq 2\n",
        "\\end{equation*}\n",
        "\n",
        "Ahora bien podemos transformar esta serie en una funcion que calcule el siguiente termino de la sucesion dados los dos anteriores y compruebe si la entrada es verdadera con la siguiente funcion:\n",
        "\n",
        "\\begin{equation*}\n",
        "  \\begin{array}{crll}\n",
        "    \\text{fibonacci: } & \\mathbb{N} \\times \\mathbb{N}^2 & \\longrightarrow & \\mathbb{B} \\\\\n",
        "      & (n,([a,b])) & \\longmapsto &  \n",
        "        \\begin{cases}\n",
        "          T & \\text{si } n = a \\lor n = b, \\\\\n",
        "          F & \\text{si } n < b, \\\\\n",
        "          \\text{fibonacci}(n,[b,a+b]) & \\text{en otro caso.}\n",
        "        \\end{cases}\n",
        "  \\end{array}\n",
        "\\end{equation*}\n",
        "\n",
        "\\\n",
        "La funcion principal es la siguiente, que con ayuda de  $fibonacci(x)$ determina si $n$ es un numero de fibonacci donde $a$ y $b$ inician como 0 y 1 pues estos son los primeros terminos de la serie por definicion:\n",
        "\n",
        "\\begin{equation*}\n",
        "[a, b] = [0,1]\n",
        "\\end{equation*}\n",
        "\n",
        "\n",
        "\\begin{equation*}\n",
        "  \\begin{array}{crll}\n",
        "    \\text{esFibo: } & \\mathbb{N} & \\longrightarrow & \\mathbb{B} \\\\\n",
        "      & (n) & \\longmapsto &  \n",
        "         fibonacci(n, [0, 1]) \\\\\n",
        "  \\end{array}\n",
        "\\end{equation*}"
      ]
    },
    {
      "cell_type": "code",
      "execution_count": 3,
      "metadata": {
        "colab": {
          "base_uri": "https://localhost:8080/"
        },
        "id": "BgPXEgC1djcQ",
        "outputId": "ee1e6676-45c0-40e2-8568-b4013046462a"
      },
      "outputs": [
        {
          "name": "stdout",
          "output_type": "stream",
          "text": [
            "True\n"
          ]
        }
      ],
      "source": [
        "#Esta version supera por lo menos los primeros 1001 numeros de fibonacci\n",
        " ##(al parecer hubo actualizacion y ahora solo llega al 950)\n",
        "def fibonacci(n,x):\n",
        "  c=[x[1],x[0]+x[1]]\n",
        "  if n == x[0] or n == x[1]:\n",
        "    return True\n",
        "  if n < x[1]:\n",
        "    return False\n",
        "  return fibonacci(n,c)\n",
        "\n",
        "def esFibo(n):\n",
        "  return fibonacci(n,[0,1])\n",
        "\n",
        "def esFiboW(n):\n",
        "  return fibonacci(n,[0,1])\n",
        "\n",
        "def fiboWhile(n,x):\n",
        "  while c[1] < n:\n",
        "    c=[x[1],x[0]+x[1]]\n",
        "    if n == x[0] or n == x[1]:\n",
        "      return True\n",
        "  return False\n",
        "\n",
        "#Controlar Entradas\n",
        "def naturales(mnsj2):\n",
        "  y = int(input(mnsj2))\n",
        "  while(y < 0):\n",
        "    print(y,'no es un numero natural, intente de nuevo')\n",
        "    y = int(input(mnsj2))\n",
        "  return y\n",
        "\n",
        "#Programa principal\n",
        "\n",
        "num = naturales('Es fibonacci?:')\n",
        "\n",
        "fibo = esFiboW(num)\n",
        "\n",
        "print(fibo)"
      ]
    },
    {
      "cell_type": "markdown",
      "metadata": {
        "id": "91ErW3nlpxDy"
      },
      "source": [
        "### Version dos de Fibonacci\n",
        "Ahora bien un dato interesante y util es la relacion de esta serie y la proporcion aurea, pues al hacer la razon entre dos numeros consecutivos de la sucesion, el resultado sera cada vez mas sercano a $ \\varphi $. Esto significa que podemos ayudarnos de la **formula de Binet** que nos permite conocer el *n-esimo* numero de la sucesion de fibonacci. Esta se define como:\n",
        "\n",
        "\\begin{equation*}\n",
        "f(n) = \\frac{\\varphi^n - (- \\varphi^{-n})}{\\sqrt{5}}\n",
        "\\end{equation*}\n",
        "\n",
        "Podemos usar la funcion asi:\n",
        "\n",
        "\\begin{equation*}\n",
        "  \\begin{array}{crll}\n",
        "    \\text{binet: } & \\mathbb{N}  & \\longrightarrow & \\mathbb{N} \\\\\n",
        "      & (n) & \\longmapsto & \\frac{\\varphi^n - (- \\varphi^{-n})}{\\sqrt{5}}\n",
        "      \\\\\n",
        "  \\end{array}\n",
        "\\end{equation*}\n",
        "\n",
        "Con base en esta funcion podemos comparar el resultado hasta que sea mayor o igual con la siguiente funcion.\n",
        "\n",
        "\\begin{equation*}\n",
        "  \\begin{array}{crll}\n",
        "    \\text{fibonacci: } & \\mathbb{N} & \\longrightarrow & \\mathbb{B} \\\\\n",
        "      & (x) & \\longmapsto &  \n",
        "        \\exists i \\in \\mathbb{N}: 0 \\leq i \\leq x, \\ \\text{tal que } binet(i)=x \\\\\n",
        "      \\\\\n",
        "  \\end{array}\n",
        "\\end{equation*}\n",
        "Todo esto mientras $binet(i) \\leq x$."
      ]
    },
    {
      "cell_type": "code",
      "execution_count": 4,
      "metadata": {
        "colab": {
          "base_uri": "https://localhost:8080/"
        },
        "id": "3gyPu8HRiSwl",
        "outputId": "3452ae7f-2ecd-4672-f560-5e3c61195a82"
      },
      "outputs": [
        {
          "name": "stdout",
          "output_type": "stream",
          "text": [
            "True\n",
            "4176188314410464025148116525118839856571907649518456624120477965205524606115754507996484677228773\n"
          ]
        }
      ],
      "source": [
        "#alterar la presicion decimal para mejores resultados\n",
        "from decimal import Decimal, getcontext\n",
        "\n",
        "getcontext().prec = 100\n",
        "\n",
        "## esta version sirve hasta el numero 464 de fibonacci\n",
        "\n",
        "def binet(n):\n",
        "  phi = (Decimal(1) + Decimal(5).sqrt()) / Decimal(2)\n",
        "  sqrt_5 = Decimal(5).sqrt()\n",
        "  return int(((phi**n)-((-phi)**(-n)))/sqrt_5)\n",
        "\n",
        "\n",
        "def fibonacci(x):\n",
        "  for i in range(0, x+2):\n",
        "    p = binet(i)\n",
        "    if p == x:\n",
        "      return True\n",
        "    if p > x:\n",
        "      return False\n",
        "  else:\n",
        "    return False\n",
        "\n",
        "#Controlar Entradas\n",
        "def naturales(mnsj2):\n",
        "  y = int(input(mnsj2))\n",
        "  while(y < 0):\n",
        "    print(y,'no es un numero natural, intente de nuevo')\n",
        "    y = int(input(mnsj2))\n",
        "  return y\n",
        "\n",
        "# Programa principal\n",
        "\n",
        "ph = naturales('Es fibo?:')\n",
        "\n",
        "fibo = fibonacci(ph)\n",
        "\n",
        "print(fibo)\n",
        "\n",
        "p= binet(464)\n",
        "print(p)"
      ]
    },
    {
      "cell_type": "markdown",
      "metadata": {
        "id": "-xTnDRTQASuH"
      },
      "source": [
        "# $3. Geometricos $"
      ]
    },
    {
      "cell_type": "markdown",
      "metadata": {
        "id": "z1vyqMp-qpAj"
      },
      "source": [
        "## Funcion lineal\n",
        "Teniendo en cuenta la funcion lineal descrita de la forma $f(x) = mx + b$, donde $m, b \\in \\mathbb{R}$. La pendiente, inclinacion o razon de cambio es representada por la constante $m$, mientras que la ordenada al origen o el valor de la recta en $x=0$ es representada por la constante $b$ es decir el corte en $y$ ocurre en el punto $ (0,b)$.\n",
        "\n",
        "Dadas las pendientes $m_{1} , m_{2}$ y las ordenadas al origen $b_{1} , b_{2}$ determinar si las rectas construidas a partir de estas funciones ($g(x) , p(x)$) son, paralelas, perpendiculares o ninguna de las dos.\n",
        "\n",
        "Son **paralelas** si y solo si tienen la misma pendiente esto significa que tienen la misma inclinación pero pueden tener diferentes intersecciones con el eje $y$.:\n",
        "\n",
        "\\begin{equation*}\n",
        "m_1 = m_2\n",
        "\\end{equation*}\n",
        "\n",
        "Por otro lado dos rectas son **perpendiculares** si el producto de sus pendientes es igual a $-1$, esto indica que una recta es la inclinación inversa y opuesta de la otra:\n",
        "\n",
        "\\begin{equation*}\n",
        "m_1 \\cdot m_2 = -1\n",
        "\\end{equation*}\n",
        "\n",
        "Asi entonces la funcion se define como:\n",
        "\n",
        "\\begin{equation*}\n",
        "  \\begin{array}{crll}\n",
        "    \\text{lineal: } & \\mathbb{R} \\times \\mathbb{R} \\times \\mathbb{R} \\times \\mathbb{R} & \\longrightarrow & \\mathbb{S} \\\\\n",
        "      & (m_1, b_1, m_2, b_2) & \\longmapsto &\n",
        "      \\begin{cases}\n",
        "        'iguales' & \\text{si } m_2 = m_1 \\ \\land \\ b_1 = b_2, \\\\\n",
        "        'paralelas' & \\text{si } m_1=m_2, \\\\\n",
        "        'perpendiculares' & \\text{si } m_1 \\cdot m_2 = -1, \\\\\n",
        "        'ninguna' & \\text{en otro caso. }\n",
        "      \\end{cases}\n",
        "      \\\\\n",
        "  \\end{array}\n",
        "\\end{equation*}"
      ]
    },
    {
      "cell_type": "code",
      "execution_count": null,
      "metadata": {
        "colab": {
          "base_uri": "https://localhost:8080/"
        },
        "id": "n2wY-QV38Udd",
        "outputId": "f8992bdf-7201-4cef-bea8-cc38c911d6ed"
      },
      "outputs": [
        {
          "name": "stdout",
          "output_type": "stream",
          "text": [
            "Primera pendiente (m1):1\n",
            "Coeficiente (b1):2\n",
            "La primera funcion es f(x)= 1.0 x + 2.0\n",
            "Segunda pendiente (m2):3\n",
            "Coeficiente (b2):4\n",
            "La segunda funcion es g(x)= 3.0 x + 4.0\n",
            "Las funciones son ninguna\n"
          ]
        }
      ],
      "source": [
        "def lineal(m1, b1, m2, b2):\n",
        "  if (m1 == m2 and b1 == b2):\n",
        "    return 'iguales'\n",
        "  if (m1 == m2):\n",
        "    return 'paralelas'\n",
        "  if (m1 * m2 == -1):\n",
        "    return 'perpendiculares'\n",
        "  else:\n",
        "    return 'ninguna'\n",
        "\n",
        "#Programa principal\n",
        "pendiente1 = float(input('Primera pendiente (m1):'))\n",
        "constante1 = float(input('Coeficiente (b1):'))\n",
        "print(\"La primera funcion es f(x)=\" ,pendiente1, \"x +\", constante1 )\n",
        "pendiente2 = float(input('Segunda pendiente (m2):'))\n",
        "constante2 = float(input('Coeficiente (b2):'))\n",
        "print(\"La segunda funcion es g(x)=\" ,pendiente2, \"x +\" ,constante2 )\n",
        "\n",
        "\n",
        "comprobar= lineal(pendiente1, constante1, pendiente2, constante2)\n",
        "\n",
        "print(\"Las funciones son\", comprobar)"
      ]
    },
    {
      "cell_type": "markdown",
      "metadata": {
        "id": "ZzDegXbEOln4"
      },
      "source": [
        "## Punto de corte en x\n",
        "Dadas las pendiendes $m_{1},m_{2}$ y el punto de corte con y $b_{1},b_{2}$ de dos rectas, donde $ m_{1},m_{2},b_{1},b_{2} \\in \\mathbb{R}$. Determinar el punto de interseccion entre las dos rectas (par ordenado).\n",
        "\n",
        "Las dos rectas son:\n",
        "\n",
        "\\begin{equation}\n",
        "y_1 = m_1 x + b_1\n",
        "\\end{equation}\n",
        "\n",
        "\\begin{equation}\n",
        "y_2 = m_2 x + b_2\n",
        "\\end{equation}\n",
        "\n",
        "Para encontrar el punto de intersección, igualamos las ecuaciones:\n",
        "\n",
        "\\begin{equation}\n",
        "m_1 x + b_1 = m_2 x + b_2\n",
        "\\end{equation}\n",
        "\n",
        "Ahora despejamos la x, esto se hace asi para encontrar la solucion comun y por ende la abscisa del punto de interseccion:\n",
        "\n",
        "\\begin{equation}\n",
        "m_1 x - m_2 x = b_2 - b_1\n",
        "\\end{equation}\n",
        "\n",
        "\\begin{equation}\n",
        "x (m_1 - m_2) = b_2 - b_1\n",
        "\\end{equation}\n",
        "\n",
        "\\begin{equation}\n",
        "x = \\frac{b_2 - b_1}{m_1 - m_2}\n",
        "\\end{equation}\n",
        "\n",
        "Y para hallar la abscisa, podemos ramplazar en cualquira de las dos ecuaciones, en nuestro caso $y_1$:\n",
        "\n",
        "\\begin{equation}\n",
        "y = m_1 \\left(\\frac{b_2 - b_1}{m_1 - m_2}\\right) + b_1\n",
        "\\end{equation}\n",
        "\n",
        "El punto de intersección entonces es la pareja ordenada $ (x, y) $. La funcion que calcula esto es:\n",
        "\n",
        "$\\textbf{Nota}:$ Es importante recalcar que para que esta funcion tenga logica, las rectas deben tocarse, por ende el codigo se ayudara de la funcion $lineal(x)$ usada en el ejercicio anterior.\n",
        "\n",
        "\\begin{array}{crll}\n",
        "  \\text{interseccion: } & \\mathbb{R} \\times \\mathbb{R} \\times \\mathbb{R} \\times \\mathbb{R} & \\longrightarrow & \\mathbb{R}^{2} \\\\\n",
        "    & (m_1, b_1, m_2, b_2) & \\longmapsto &\n",
        "      \\begin{cases}\n",
        "        [x \\ , \\ y] & \\text{si } lineal(m_1, b_1, m_2, b_2) = \\ 'perpendiculares' \\ \\lor \\ 'ninguna' \\\\\n",
        "        [ \\quad , \\quad ] & \\text{en otro caso. }\n",
        "      \\end{cases}\n",
        "    \\\\\n",
        "\\end{array}\n",
        "\n",
        "\n"
      ]
    },
    {
      "cell_type": "code",
      "execution_count": null,
      "metadata": {
        "colab": {
          "base_uri": "https://localhost:8080/"
        },
        "id": "wKVOGAAW_Rys",
        "outputId": "cf047b91-ab87-45a5-c75f-7d298ca6ca8c"
      },
      "outputs": [
        {
          "name": "stdout",
          "output_type": "stream",
          "text": [
            "Primera pendiente (m1):1\n",
            "Corte (b1):0\n",
            "La primera funcion es f(x)= 1.0 x + 0.0\n",
            "Segunda pendiente (m2):-1\n",
            "Corte (b2):4\n",
            "La segunda funcion es g(x)= -1.0 x + 4.0\n",
            "El punto de interseccion es [2.0, 2.0]\n"
          ]
        }
      ],
      "source": [
        "def interseccion(m1,b1,m2,b2):\n",
        "  a = lineal(m1,b1,m2,b2)\n",
        "  if  a == 'perpendiculares' or a == 'ninguna':\n",
        "    x = (b2 - b1) / (m1 -m2)\n",
        "    y = m1*x+b1\n",
        "    return [x,y]\n",
        "  else:\n",
        "    return []\n",
        "\n",
        "#Programa principal\n",
        "muno = float(input('Primera pendiente (m1):'))\n",
        "corteuno = float(input('Corte (b1):'))\n",
        "print(\"La primera funcion es f(x)=\" ,muno, \"x +\", corteuno )\n",
        "mdos = float(input('Segunda pendiente (m2):'))\n",
        "cortedos = float(input('Corte (b2):'))\n",
        "print(\"La segunda funcion es g(x)=\" ,mdos, \"x +\" ,cortedos )\n",
        "\n",
        "\n",
        "puntointer= interseccion(muno, corteuno, mdos, cortedos)\n",
        "\n",
        "print(\"El punto de interseccion es\", puntointer)\n"
      ]
    },
    {
      "cell_type": "markdown",
      "metadata": {
        "id": "3heBAFn7E8HR"
      },
      "source": [
        "## Triangulo equilatero circunscrito\n",
        "Teniendo en cuenta un triángulo equilátero con una circunferencia inscrita en su interior, el radio de la circunferencia inscrita es denotado como $r$, donde $ r \\in \\mathbb{R}^{+} $. El triángulo equilátero tiene todos sus lados de igual longitud $ a $.Dado $r$ calcular el area del triangulo.\n",
        "\n",
        "El radio $ r $ de la circunferencia inscrita está relacionado con el lado $ a $ del triángulo equilátero mediante la siguiente fórmula (con base en la altura de un triangulo equilatero $ \\frac{\\sqrt{3}a}{2} $ y la relacion del triangulo equilatero inscrito en la circunferencia $ 2:1 $ ):\n",
        "\n",
        "\\begin{equation*}\n",
        "r = \\frac{h}{3} = \\frac{\\frac{ \\sqrt{3}a}{2}}{3} = \\frac{ \\sqrt{3}a}{6}\n",
        "\\end{equation*}\n",
        "\n",
        "Esto significa que $ r $ depende de $ a $, y se puede despejar $ a $ en función de $ r $:\n",
        "\n",
        "\\begin{equation*}\n",
        "a = \\frac{6r}{\\sqrt{3}} = 2r\\sqrt{3}\n",
        "\\end{equation*}\n",
        "\n",
        "Por otro lado, el área $ A $ del triángulo equilátero se calcula como (esta formula deriva de la formula general de area de un triangulo $A = \\frac{b \\cdot h}{2}$ donde la altura de un triangulo equilatero es $ \\frac{\\sqrt{3}a}{2}$) :\n",
        "\n",
        "\n",
        "\\begin{equation*}\n",
        "A = \\frac{\\sqrt{3}}{4} a^2\n",
        "\\end{equation*}\n",
        "\n",
        "Sustituyendo la expresión de $ a $:\n",
        "\n",
        "\\begin{equation*}\n",
        "A = \\frac{\\sqrt{3}}{4} (2r\\sqrt{3})^2 = \\frac{12\\sqrt{3} r^2}{4} = 3\\sqrt{3} r^2\n",
        "\\end{equation*}\n",
        "\n",
        "Así, dado el radio $ r $ de la circunferencia inscrita, podemos determinar el área del triángulo equilátero.\n",
        "\n",
        "Por lo tanto, la función que permite calcular el área del triángulo equilátero dado solo el radio de la circunferencia inscrita se define como:\n",
        "\n",
        "\\begin{equation*}\n",
        "\\begin{array}{crll}\n",
        "  \\text{areaTriangulo: } & \\mathbb{R}^{+} & \\longrightarrow & \\mathbb{R}^{+} \\\\\n",
        "    & (r) & \\longmapsto & 3\\sqrt{3} r^2\n",
        "  \\end{array}\n",
        "\\end{equation*}\n",
        "\n",
        "Este problema está orientado a calcular el área de un triángulo equilátero a partir de su radio inscrito ya que con cualquier otro tipo de triangulo es imposible generar resultado sin tener algun otro dato."
      ]
    },
    {
      "cell_type": "code",
      "execution_count": null,
      "metadata": {
        "colab": {
          "base_uri": "https://localhost:8080/"
        },
        "id": "W5m87gjsKGcr",
        "outputId": "cf95568c-9626-4127-a81c-d1f5ab61671d"
      },
      "outputs": [
        {
          "name": "stdout",
          "output_type": "stream",
          "text": [
            "Cual es el radio de la circunferencia:? 20\n",
            "El area del triangulo es 2078.461 unidades cuadradas\n"
          ]
        }
      ],
      "source": [
        "def areaTriangulo(r):\n",
        "  return (3 * (3**0.5))*(r**2)\n",
        "\n",
        "#Controlar entradas\n",
        "def realesPositivos(mnsj):\n",
        "  x = float(input(mnsj+'? '))\n",
        "  while(x <= 0.0):\n",
        "    print(x,'no es un real positivo, intente de nuevo')\n",
        "    x = float(input(mnsj+'? '))\n",
        "  return x\n",
        "\n",
        "#Programa principal\n",
        "radio = realesPositivos('Cual es el radio de la circunferencia:')\n",
        "\n",
        "area = areaTriangulo(radio)\n",
        "\n",
        "print(\"El area del triangulo es\",round(area,3), \"unidades cuadradas\")"
      ]
    },
    {
      "cell_type": "markdown",
      "metadata": {
        "id": "YT0cUbbj-DcF"
      },
      "source": [
        "## Polígonos inscritos y circunscritos en un círculo\n",
        "\n",
        "Consideramos tres polígonos regulares: el cuadrado, el pentágono y el hexágono, tanto en su versión inscrita (dentro del círculo) como circunscrita (alrededor del círculo).Desarrollar un algoritmo que dado el radio $r$ del circulo, donde $r \\in \\mathbb{R}^{+}$ calcule el volumen para cada uno de los casos.\n",
        "\n",
        "$\\textbf{Nota}:$ Para el calculo de las figuras pentagono y hexagono se utilizo la relacion de las figuras regulares con su descomposicion en triangulos isoceles y equilateros en cada caso.\n",
        "\n",
        "### 1.Cuadrado\n",
        "\n",
        "#### Inscrito\n",
        "\n",
        "El lado $ a $ del cuadrado inscrito en un círculo de radio $ r $ se determina con el diámetro de la circunferencia que lo contiene, esta relacion se puede hacer ya que el diametro del circulo coincide con la diagonal del cuadrado que se define de manera general como $\\sqrt{2}l$ donde $l$ corresponde al lado:\n",
        "\n",
        "<p align=\"center\">\n",
        "    <img src=\"https://drive.google.com/uc?id=1xuE2u1D_1SyhXUh1rZlCrkn0NKVeXo7m\" width=\"300\">\n",
        "</p>\n",
        "\n",
        "\\begin{equation*}\n",
        "\\sqrt{2}a = 2r \\Leftrightarrow a = r\\sqrt{2}\n",
        "\\end{equation*}\n",
        "\n",
        "\n",
        "\\begin{equation*}\n",
        "\\begin{array}{crll}\n",
        "  \\text{ladoCuadradoIns: } & \\mathbb{R}^{+} & \\longrightarrow & \\mathbb{R}^{+} \\\\\n",
        "    & (r) & \\longmapsto & r\\sqrt{2}\n",
        "  \\end{array}\n",
        "\\end{equation*}\n",
        "\n",
        "\\\n",
        "Con base en el lado podemos hallar el área $ A_{ci} $ y el perímetro $ P_{ci} $ del cuadrado inscrito:\n",
        "\n",
        "\\begin{equation*}\n",
        "A_{ci} = a^2 = (r\\sqrt{2})^2 = 2r^2\n",
        "\\end{equation*}\n",
        "\n",
        "\n",
        "\\begin{equation*}\n",
        "\\begin{array}{crll}\n",
        "  \\text{areaCuadradoIns: } & \\mathbb{R}^{+} & \\longrightarrow & \\mathbb{R}^{+} \\\\\n",
        "    & (r) & \\longmapsto & (ladoCuadradoIns(r))^2\n",
        "  \\end{array}\n",
        "\\end{equation*}\n",
        "\n",
        "\n",
        "\\begin{equation*}\n",
        "P_{ci} = 4a = 4r\\sqrt{2}\n",
        "\\end{equation*}\n",
        "\n",
        "\n",
        "\\begin{equation*}\n",
        "\\begin{array}{crll}\n",
        "  \\text{perimetroCuadradoIns: } & \\mathbb{R}^{+} & \\longrightarrow & \\mathbb{R}^{+} \\\\\n",
        "    & (r) & \\longmapsto & ladoCuadradoIns(r)\\cdot 4\n",
        "  \\end{array}\n",
        "\\end{equation*}\n",
        "\n",
        "#### Circunscrito\n",
        "\n",
        "El lado $ b $ del cuadrado circunscrito se obtiene directamente del diámetro del círculo ya que este coincide con la altura del cuadrado que al ser regular, significa que su altura es igual a su lado:\n",
        "\n",
        "<p align=\"center\">\n",
        "    <img src=\"https://drive.google.com/uc?id=18Xcr1f13ZpRnUyQes9pg32ZETsUbBQL9\" width=\"300\">\n",
        "</p>\n",
        "\n",
        "\\begin{equation*}\n",
        "b = 2r\n",
        "\\end{equation*}\n",
        "\n",
        "\n",
        "\\begin{equation*}\n",
        "\\begin{array}{crll}\n",
        "  \\text{ladoCuadradoCir: } & \\mathbb{R}^{+} & \\longrightarrow & \\mathbb{R}^{+} \\\\\n",
        "    & (r) & \\longmapsto & 2r\n",
        "  \\end{array}\n",
        "\\end{equation*}\n",
        "\n",
        "\n",
        "El área $ A_{cc} $ y el perímetro $ P_{cc} $ del cuadrado inscrito:\n",
        "\\begin{equation*}\n",
        "A_{cc} = b^2 = (2r)^2 = 4r^2\n",
        "\\end{equation*}\n",
        "\n",
        "\n",
        "\\begin{equation*}\n",
        "\\begin{array}{crll}\n",
        "  \\text{areaCuadradoCir: } & \\mathbb{R}^{+} & \\longrightarrow & \\mathbb{R}^{+} \\\\\n",
        "    & (r) & \\longmapsto & (ladoCuadradoCir(r))^2\n",
        "  \\end{array}\n",
        "\\end{equation*}\n",
        "\n",
        "\n",
        "\\begin{equation*}\n",
        "P_{cc} = 4b = 8r\n",
        "\\end{equation*}\n",
        "\n",
        "\n",
        "\\begin{equation*}\n",
        "\\begin{array}{crll}\n",
        "  \\text{perimetroCuadradoCir: } & \\mathbb{R}^{+} & \\longrightarrow & \\mathbb{R}^{+} \\\\\n",
        "    & (r) & \\longmapsto & ladoCuadradoCir(r)\\cdot 4\n",
        "  \\end{array}\n",
        "\\end{equation*}\n",
        "\n",
        "### 2.Pentágono\n",
        "\n",
        "#### Inscrito\n",
        "\n",
        "El lado $ a $ del pentágono inscrito en el círculo está relacionado con el radio mediante el analisis del angulo central descrito por cada uno de los 5 triangulos isoceles que lo conforman, es decir se dividio el valor de la circunferencia en 5 y usando el seno podemos relacionar el lado en funcion del radio $\\left(\\frac{2 \\pi}{5}\\right)$:\n",
        "\n",
        "\n",
        "<p align=\"center\">\n",
        "    <img src=\"https://drive.google.com/uc?id=1cII7HsnhY177m1P8Hwkf4QLH-ZQ0kba_\" width=\"300\">\n",
        "</p>\n",
        "\n",
        "\n",
        "\\begin{equation*}\n",
        "c = 2r\\sin\\left(\\frac{\\pi}{5}\\right)\n",
        "\\end{equation*}\n",
        "\n",
        "\\begin{equation*}\n",
        "\\begin{array}{crll}\n",
        "  \\text{ladoPentagonoIns: } & \\mathbb{R}^{+} & \\longrightarrow & \\mathbb{R}^{+} \\\\\n",
        "    & (r) & \\longmapsto & 2r\\sin\\left(\\frac{\\pi}{5}\\right)\n",
        "  \\end{array}\n",
        "\\end{equation*}\n",
        "\n",
        "\\\n",
        "Con base en el lado podemos hallar el área $ A_{pi} $ y el perímetro $ P_{pi} $ del pentagono inscrito:\n",
        "\n",
        "\\begin{equation*}\n",
        "A_{pi} = \\frac{5}{4} c^2 \\cot \\left(\\frac{\\pi}{5}\\right)=\\frac{5}{4} \\left(2r\\sin\\left(\\frac{\\pi}{5}\\right)\\right)^2 \\cot \\left(\\frac{\\pi}{5}\\right)\n",
        "\\end{equation*}\n",
        "\n",
        "\n",
        "\\begin{equation*}\n",
        "A_{pi} = 5r^2 \\sin^2\\left(\\frac{\\pi}{5}\\right) \\cot \\left(\\frac{\\pi}{5}\\right)\n",
        "\\end{equation*}\n",
        "\n",
        "\n",
        "\\begin{equation*}\n",
        "\\begin{array}{crll}\n",
        "  \\text{areaPentagonoIns: } & \\mathbb{R}^{+} & \\longrightarrow & \\mathbb{R}^{+} \\\\\n",
        "    & (r) & \\longmapsto & \\frac{5}{4} \\cdot (ladoPentagonoIns(r))^2 \\cdot \\cot \\left(\\frac{\\pi}{5}\\right)\n",
        "  \\end{array}\n",
        "\\end{equation*}\n",
        "\n",
        "\n",
        "\\begin{equation*}\n",
        "P_{pi} = 5c = 10r\\sin\\left(\\frac{2\\pi}{5}\\right)\n",
        "\\end{equation*}\n",
        "\n",
        "\n",
        "\\begin{equation*}\n",
        "\\begin{array}{crll}\n",
        "  \\text{perimetroPentagonoIns: } & \\mathbb{R}^{+} & \\longrightarrow & \\mathbb{R}^{+} \\\\\n",
        "    & (r) & \\longmapsto & 5 \\cdot ladoPentagonoIns(r)\n",
        "  \\end{array}\n",
        "\\end{equation*}\n",
        "\n",
        "#### Circunscrito\n",
        "\n",
        "Haciendo un analisis parecido al anterior podemos concluir que este lado se obtiene a partir de la tangente:\n",
        "\n",
        "<p align=\"center\">\n",
        "    <img src=\"https://drive.google.com/uc?id=1q92Jj2wEf1mBslFgn9gqK5_kziM7H9Vb\" width=\"300\">\n",
        "</p>\n",
        "\n",
        "\\begin{equation*}\n",
        "d = 2r \\tan\\left(\\frac{\\pi}{5}\\right)\n",
        "\\end{equation*}\n",
        "\n",
        "\n",
        "\\begin{equation*}\n",
        "\\begin{array}{crll}\n",
        "  \\text{ladoPentagonoCir: } & \\mathbb{R}^{+} & \\longrightarrow & \\mathbb{R}^{+} \\\\\n",
        "    & (r) & \\longmapsto & 2r \\tan\\left(\\frac{\\pi}{5}\\right)\n",
        "  \\end{array}\n",
        "\\end{equation*}\n",
        "\n",
        "\\\n",
        "El área $ A_{pc} $ y el perímetro $ P_{pc} $ del pentagono inscrito:\n",
        "\n",
        "\\begin{equation*}\n",
        "A_{pc} = \\frac{5}{4} d^2 \\cot \\left(\\frac{2\\pi}{5}\\right)= \\frac{5}{4} (2r \\tan\\left(\\frac{\\pi}{5}\\right))^2 \\cot \\left(\\frac{\\pi}{5}\\right)\n",
        "\\end{equation*}\n",
        "\n",
        "\\begin{equation*}\n",
        "A_{pc} = 5r^2 \\frac{\\tan^2\\left(\\frac{\\pi}{5}\\right)}{\\tan\\left(\\frac{2\\pi}{5}\\right)}\n",
        "\\end{equation*}\n",
        "\n",
        "\n",
        "\\begin{equation*}\n",
        "\\begin{array}{crll}\n",
        "  \\text{areaPentagonoCir: } & \\mathbb{R}^{+} & \\longrightarrow & \\mathbb{R}^{+} \\\\\n",
        "    & (r) & \\longmapsto & \\frac{5}{4} \\cdot (ladoPentagonoCir(r))^2 \\cdot \\cot \\left(\\frac{\\pi}{5}\\right)\n",
        "  \\end{array}\n",
        "\\end{equation*}\n",
        "\n",
        "\n",
        "\\begin{equation*}\n",
        "P_{pc} = 5d = 10r \\tan\\left(\\frac{\\pi}{5}\\right)\n",
        "\\end{equation*}\n",
        "\n",
        "\n",
        "\\begin{equation*}\n",
        "\\begin{array}{crll}\n",
        "  \\text{perimetroPentagonoCir: } & \\mathbb{R}^{+} & \\longrightarrow & \\mathbb{R}^{+} \\\\\n",
        "    & (r) & \\longmapsto & 5 \\cdot ladoPentagonoCir(r)\n",
        "  \\end{array}\n",
        "\\end{equation*}\n",
        "\n",
        "### 3.Hexágono\n",
        "\n",
        "#### Inscrito\n",
        "\n",
        "El hexágono regular inscrito tiene lados iguales al radio del círculo ya que este se divide en 6 triangulos equilateros donde todos sus lados son iguales, sin embargo se puede sustentar con la siguiente igualdad (en este caso no necesitamos funcion para el lado):\n",
        "\n",
        "<p align=\"center\">\n",
        "    <img src=\"https://drive.google.com/uc?id=1ORQQTGV7nWiwZZKh_8RrkG9CJCgjEF8m\" width=\"300\">\n",
        "</p>\n",
        "\n",
        "\\begin{equation*}\n",
        "\\sin \\left(\\frac{\\pi}{3}\\right) = \\frac{\\frac{f}{2}}{r} \\Leftrightarrow \\frac{1}{2} r = \\frac{f}{2}\n",
        "\\end{equation*}\n",
        "\n",
        "\\begin{equation*}\n",
        "f = r\n",
        "\\end{equation*}\n",
        "\n",
        "Con base en el lado podemos hallar el área $ A_{hi} $ y el perímetro $ P_{hi} $ del hexagono inscrito:\n",
        "\n",
        "\\begin{equation*}\n",
        "A_{hi} = \\frac{3\\sqrt{3}}{2} r^2\n",
        "\\end{equation*}\n",
        "\n",
        "\n",
        "\\begin{equation*}\n",
        "\\begin{array}{crll}\n",
        "  \\text{areaHexagonoIns: } & \\mathbb{R}^{+} & \\longrightarrow & \\mathbb{R}^{+} \\\\\n",
        "    & (r) & \\longmapsto & \\frac{3\\sqrt{3}}{2} r^2\n",
        "  \\end{array}\n",
        "\\end{equation*}\n",
        "\n",
        "\n",
        "\\begin{equation*}\n",
        "P_{hi} = 6r\n",
        "\\end{equation*}\n",
        "\n",
        "\n",
        "\\begin{equation*}\n",
        "\\begin{array}{crll}\n",
        "  \\text{perimetroHexagonoIns: } & \\mathbb{R}^{+} & \\longrightarrow & \\mathbb{R}^{+} \\\\\n",
        "    & (r) & \\longmapsto & 6r\n",
        "  \\end{array}\n",
        "\\end{equation*}\n",
        "\n",
        "#### Circunscrito\n",
        "\n",
        "El lado del hexágono circunscrito con base en la relacion del radio con la tangente de $ \\frac{\\pi}{6}$:\n",
        "\n",
        "<p align=\"center\">\n",
        "    <img src=\"https://drive.google.com/uc?id=1VNliZ7huPIUdV4epv2DuYBDIKttulaJz\" width=\"300\">\n",
        "</p>\n",
        "\n",
        "\\begin{equation*}\n",
        "g = 2r \\tan\\left(\\frac{\\pi}{6}\\right) = 2r\\frac{\\sqrt{3}}{3} = \\frac{2r\\sqrt{3}}{3}\n",
        "\\end{equation*}\n",
        "\n",
        "\n",
        "\\begin{equation*}\n",
        "\\begin{array}{crll}\n",
        "  \\text{ladoHexagonoCir: } & \\mathbb{R}^{+} & \\longrightarrow & \\mathbb{R}^{+} \\\\\n",
        "    & (r) & \\longmapsto & 2r \\cdot \\tan\\left(\\frac{\\pi}{6}\\right)\n",
        "  \\end{array}\n",
        "\\end{equation*}\n",
        "\n",
        "\\\n",
        "El área $ A_{hc} $ y el perímetro $ P_{hc} $ del pentagono inscrito:\n",
        "\n",
        "\\begin{equation*}\n",
        "A_{hc} =\\frac{3\\sqrt{3}}{2} g^2 = \\frac{3\\sqrt{3}}{2} \\left(\\frac{2r\\sqrt{3}}{3}\\right)^2 = 2\\sqrt{3} r^2\n",
        "\\end{equation*}\n",
        "\n",
        "\n",
        "\\begin{equation*}\n",
        "\\begin{array}{crll}\n",
        "  \\text{areaHexagonoCir: } & \\mathbb{R}^{+} & \\longrightarrow & \\mathbb{R}^{+} \\\\\n",
        "    & (r) & \\longmapsto & \\frac{3\\sqrt{3}}{2} \\cdot (ladoHexagonoCir(r))^2\n",
        "  \\end{array}\n",
        "\\end{equation*}\n",
        "\n",
        "\n",
        "\\begin{equation*}\n",
        "P_{hc} = 6g = 6 \\frac{2r\\sqrt{3}}{3} = 4r\\sqrt{3}\n",
        "\\end{equation*}\n",
        "\n",
        "\n",
        "\\begin{equation*}\n",
        "\\begin{array}{crll}\n",
        "  \\text{perimetroHexagonoCir: } & \\mathbb{R}^{+} & \\longrightarrow & \\mathbb{R}^{+} \\\\\n",
        "    & (r) & \\longmapsto & 6 \\cdot ladoHexagonoCir(r)\n",
        "  \\end{array}\n",
        "\\end{equation*}\n",
        "\n",
        "\\\n",
        "Asi entonces todos los 12 calculos estan en funcion de r y la funcion que permite saber estos datos dado $r$ es:\n",
        "\n",
        "\\begin{equation*}\n",
        "\\begin{array}{crll}\n",
        "  \\text{areasPerimetrosInsCir: } & \\mathbb{R}^{+} & \\longrightarrow & \\mathbb{R}^{12} \\\\\n",
        "    & (r) & \\longmapsto & [(areaCuadradoIns(r)),(perimetroCuadradoIns(r)),(areaCuadradoCir(r)),(perimetroCuadradoCir(r)),(areaPentagonoIns(r)),(perimetroPentagonoIns(r)),(areaPentagonoCir(r)),(perimetroPentagonoCir(r)),(areaHexagonoIns(r)),(perimetroHexagonoIns(r)),(areaHexagonoCir(r)),(perimetroHexagonoCir(r))]\n",
        "  \\end{array}\n",
        "\\end{equation*}\n",
        "\n"
      ]
    },
    {
      "cell_type": "code",
      "execution_count": null,
      "metadata": {
        "colab": {
          "base_uri": "https://localhost:8080/"
        },
        "id": "gz9j1nrFdIUM",
        "outputId": "1314dac6-d9d5-4869-c741-204cc64f89cd"
      },
      "outputs": [
        {
          "name": "stdout",
          "output_type": "stream",
          "text": [
            "Cual es el radio del circulo:? 1\n",
            "Cuadrado Inscrito Area: 2.0 perimetro 5.66\n",
            "Cuadrado Circunscrito Area: 4.0 perimetro 8.0\n",
            "Pentagono Inscrito Area: 2.38 perimetro 5.88\n",
            "Pentagono Circunscrito Area: 3.63 perimetro 7.27\n",
            "Hexagono Inscrito Area: 2.6 perimetro 6.0\n",
            "Hexagono Circunscrito Area: 3.46 perimetro 6.93\n"
          ]
        }
      ],
      "source": [
        "import math\n",
        "#Funciones Secundarias\n",
        "#Funciones para el lado de cada caso\n",
        "def ladoCuadradoIns(r):\n",
        "  return r*(2**0.5)\n",
        "\n",
        "def ladoCuadradoCir(r):\n",
        "  return 2*r\n",
        "\n",
        "def ladoPentagonoIns(r):\n",
        "  return 2*r* (math.sin(math.pi/5))\n",
        "\n",
        "def ladoPentagonoCir(r):\n",
        "  return 2*r* (math.tan(math.pi/5))\n",
        "\n",
        "def ladoHexagonoCir(r):\n",
        "  return 2*r* (math.tan(math.pi/6))\n",
        "\n",
        "#Areas\n",
        "def areaCuadradoIns(r):\n",
        "  a = ladoCuadradoIns(r)\n",
        "  return a**2\n",
        "\n",
        "def areaCuadradoCir(r):\n",
        "  b = ladoCuadradoCir(r)\n",
        "  return b**2\n",
        "\n",
        "def areaPentagonoIns(r):\n",
        "  c = ladoPentagonoIns(r)\n",
        "  return (5 / 4) * c**2 * (1/math.tan(math.pi / 5))\n",
        "\n",
        "def areaPentagonoCir(r):\n",
        "  d = ladoPentagonoCir(r)\n",
        "  return (5 / 4) * d**2 * (1/math.tan(math.pi / 5))\n",
        "\n",
        "def areaHexagonoIns(r):\n",
        "  return ((3*(3**0.5))/2) * (r**2)\n",
        "\n",
        "def areaHexagonoCir(r):\n",
        "  e = ladoHexagonoCir(r)\n",
        "  return ((3*(3**0.5))/2) * (e**2)\n",
        "\n",
        "#Perimetros\n",
        "def perimetroCuadradoIns(r):\n",
        "  return 4 * (ladoCuadradoIns(r))\n",
        "\n",
        "def perimetroCuadradoCir(r):\n",
        "  return 4 * (ladoCuadradoCir(r))\n",
        "\n",
        "def perimetroPentagonoIns(r):\n",
        "  return 5 * (ladoPentagonoIns(r))\n",
        "\n",
        "def perimetroPentagonoCir(r):\n",
        "  return 5 * (ladoPentagonoCir(r))\n",
        "\n",
        "def perimetroHexagonoIns(r):\n",
        "  return 6 * r\n",
        "\n",
        "def perimetroHexagonoCir(r):\n",
        "  return 6 * (ladoHexagonoCir(r))\n",
        "\n",
        "#Funcion Principal\n",
        "def areasPerimetroInsCir(r):\n",
        "  x = [areaCuadradoIns(r),perimetroCuadradoIns(r),areaCuadradoCir(r),perimetroCuadradoCir(r),\n",
        "       areaPentagonoIns(r),perimetroPentagonoIns(r),areaPentagonoCir(r),perimetroPentagonoCir(r),\n",
        "       areaHexagonoIns(r),perimetroHexagonoIns(r),areaHexagonoCir(r),perimetroHexagonoCir(r)]\n",
        "  return x\n",
        "\n",
        "#Controlar entrada\n",
        "def realesPositivos(mnsj):\n",
        "  x = float(input(mnsj+'? '))\n",
        "  while(x <= 0.0):\n",
        "    print(x,'no es un real positivo, intente de nuevo')\n",
        "    x = float(input(mnsj+'? '))\n",
        "  return x\n",
        "\n",
        "#Programa principal\n",
        "radio = realesPositivos('Cual es el radio del circulo:')\n",
        "\n",
        "areaYperimetro = areasPerimetroInsCir(radio)\n",
        "\n",
        "\n",
        "print(\"Cuadrado Inscrito Area:\",round(areaYperimetro[0],2), \"perimetro\",round(areaYperimetro[1],2))\n",
        "print(\"Cuadrado Circunscrito Area:\",round(areaYperimetro[2],2), \"perimetro\",round(areaYperimetro[3],2))\n",
        "print(\"Pentagono Inscrito Area:\",round(areaYperimetro[4],2), \"perimetro\",round(areaYperimetro[5],2))\n",
        "print(\"Pentagono Circunscrito Area:\",round(areaYperimetro[6],2), \"perimetro\",round(areaYperimetro[7],2))\n",
        "print(\"Hexagono Inscrito Area:\",round(areaYperimetro[8],2), \"perimetro\",round(areaYperimetro[9],2))\n",
        "print(\"Hexagono Circunscrito Area:\",round(areaYperimetro[10],2), \"perimetro\",round(areaYperimetro[11],2))"
      ]
    },
    {
      "cell_type": "markdown",
      "metadata": {
        "id": "nthnJzz1DjGl"
      },
      "source": [
        "## Telaraña\n",
        "Si una araña utiliza un patron hexagonal regular para hacer su telaraña y separa cada hexagono con una distancia de 1 cm exacto, si quisiera hacer una telaraña con 'radio' $r$ (en este caso apotema) calcular la cantidad de tela que necesitara para culminar su obra.\n",
        "\n",
        "Para resolver este ejercicio podemos utilizar la propiedad de los hexagonos que relaciona el lado de los 6 triangulos en los que se puede descomponer con el lado del mismo, es decir si $a$ es el lado del triangulo y $l$ el del hexagono se cumple que:\n",
        "\\begin{equation*}\n",
        "a = l\n",
        "\\end{equation*}\n",
        "\n",
        "Se debe tener en cuenta que la distancia entre hexagono y hexagono siempre sera de 1 cm, por ende si el valor de $r$ no es un numero entero se debe sacar su \"piso\" para que cumpla con el patron. A demas se sumara la tela utilizada para hacer los soportes de la telaraña. ilustrada con la siguiente imagen:\n",
        "\n",
        "<p align=\"center\">\n",
        "    <img src=\"https://drive.google.com/uc?id=1QVfIT-Qc6O0sMIUSiK_xtVZvGZ7h-Wl1\" width=\"400\">\n",
        "</p>\n",
        "\n",
        "Ahora bien teniendo esto en cuenta podemos ver que por cada hexagono la arana gastara 6 veces el lado, donde el lado incrementara de un centimetro hasta completar $ \\lfloor r \\rfloor$. Por ende lo podemos relacionar segun la siguiente sumatoria.\n",
        "\n",
        "\\begin{equation*}\n",
        "\\sum_{i=0}^{ \\lfloor r \\rfloor} 6i\n",
        "\\end{equation*}\n",
        "\n",
        "Ya que esta sumatoria esta multiplicada por una constante podemos separarla de la ecuacion, esto es una propiedad de las sumatorias y deriva del factor comun entre terminos:\n",
        "\n",
        "\\begin{equation*}\n",
        " 6 \\cdot \\sum_{i=0}^{ \\lfloor r \\rfloor} i\n",
        "\\end{equation*}\n",
        "\n",
        "Lo que obtenemos ahora es la famosa suma de naturales de **Gauss** que podemos escribir como ecuacion al ser demostrada por induccion tal que asi:\n",
        "\n",
        "\\begin{equation}\n",
        "\\sum_{i=1}^{n} i = \\frac{n(n+1)}{2}\n",
        "\\end{equation}\n",
        "\n",
        "Caso base: Para $ n = 1 $\n",
        "\n",
        "\\begin{equation}\n",
        "\\sum_{i=1}^{1} i = 1\n",
        "\\end{equation}\n",
        "\n",
        "y por la fórmula:\n",
        "\n",
        "\\begin{equation}\n",
        "\\frac{1(1+1)}{2} = \\frac{2}{2} = 1\n",
        "\\end{equation}\n",
        "\n",
        "Por lo que la base de inducción es válida.\n",
        "\n",
        "Hipotesis de induccion: Supongamos que la fórmula es cierta para un número $ k $, es decir, que se cumple:\n",
        "\n",
        "\\begin{equation}\n",
        "\\sum_{i=1}^{k} i = \\frac{k(k+1)}{2}\n",
        "\\end{equation}\n",
        "\n",
        "Queremos probar que también es cierta para $ k+1 $, es decir, que:\n",
        "\n",
        "\\begin{equation}\n",
        "\\sum_{i=1}^{k+1} i = \\frac{(k+1)(k+2)}{2}\n",
        "\\end{equation}\n",
        "\n",
        "Usamos la hipótesis de inducción:\n",
        "\n",
        "\\begin{equation}\n",
        "\\sum_{i=1}^{k+1} i = \\left( \\sum_{i=1}^{k} i \\right) + (k+1)\n",
        "\\end{equation}\n",
        "\n",
        "Sustituyendo la hipótesis de inducción:\n",
        "\n",
        "\\begin{equation}\n",
        "\\frac{k(k+1)}{2} + (k+1)\n",
        "\\end{equation}\n",
        "\n",
        "Factorizamos $ k+1 $:\n",
        "\n",
        "\\begin{equation}\n",
        "\\frac{k(k+1) + 2(k+1)}{2} = \\frac{(k+1)(k+2)}{2}\n",
        "\\end{equation}\n",
        "\n",
        "Aqui obtuvimos, si ponemos antencion la sumatoria original con $n=k+1$ por lo que la hipotesis es correcta y podemos usar la formula para nuestro ejercicio:\n",
        "\n",
        "\\begin{equation}\n",
        "\\frac{(k+1)(k+2)}{2}=\\frac{(k+1)((k+1)+1)}{2}=\\frac{n(n+1)}{2}\n",
        "\\end{equation}\n",
        "\n",
        "Asi entonces la formula para la tela de araña es:\n",
        "\n",
        "\\begin{equation*}\n",
        " 6 \\cdot \\sum_{i=0}^{ \\lfloor r \\rfloor} i\n",
        "\\end{equation*}\n",
        "\n",
        "\\begin{equation*}\n",
        " 6 \\cdot \\frac{\\lfloor r \\rfloor(\\lfloor r \\rfloor+1)}{2}\n",
        "\\end{equation*}\n",
        "\n",
        "\\begin{equation*}\n",
        " 3\\cdot \\lfloor r \\rfloor(\\lfloor r \\rfloor+1)\n",
        "\\end{equation*}\n",
        "\n",
        "Y la funcion que calcula la cantidad de tela es:\n",
        "\n",
        "\\begin{equation*}\n",
        "\\begin{array}{crll}\n",
        "  \\text{telaArana: } & \\mathbb{R}^{+} & \\longrightarrow & \\mathbb{R}^{+} \\\\\n",
        "    & (r) & \\longmapsto & 3\\cdot \\lfloor r \\rfloor(\\lfloor r \\rfloor+1) + 6r\n",
        "  \\end{array}\n",
        "\\end{equation*}"
      ]
    },
    {
      "cell_type": "code",
      "execution_count": null,
      "metadata": {
        "colab": {
          "base_uri": "https://localhost:8080/"
        },
        "id": "TkmB-K43oz1U",
        "outputId": "40583702-cf84-4548-b55f-7f0bfc68a6d4"
      },
      "outputs": [
        {
          "name": "stdout",
          "output_type": "stream",
          "text": [
            "Cual es el radio de la telarana:? 0.1\n",
            "La cantidad de telarana que se requiere es de 0.6000000000000001 cm\n"
          ]
        }
      ],
      "source": [
        "def telaArana(r):\n",
        "  return 3 * int(r)*(int(r)+1) + 6*r\n",
        "\n",
        "#Controlar entradas\n",
        "def realesPositivos(mnsj):\n",
        "  x = float(input(mnsj+'? '))\n",
        "  while(x <= 0.0):\n",
        "    print(x,'no es un real positivo, intente de nuevo')\n",
        "    x = float(input(mnsj+'? '))\n",
        "  return x\n",
        "\n",
        "#Programa principal\n",
        "apotema = realesPositivos('Cual es el radio de la telarana:')\n",
        "\n",
        "tela = telaArana(apotema)\n",
        "\n",
        "print(\"La cantidad de telarana que se requiere es de\",tela, \"cm\")"
      ]
    },
    {
      "cell_type": "markdown",
      "metadata": {
        "id": "atJNcGR4P49X"
      },
      "source": [
        "# $4. Varios $"
      ]
    },
    {
      "cell_type": "markdown",
      "metadata": {
        "id": "GXro-gDmxrtg"
      },
      "source": [
        "## Arboles y hojas\n",
        "\n",
        "Dadas la cantidad de hojas por rama $p$ y la cantidad de ramas por arbol $k$ y la cantidad $t$ de hojas requeridas, donde $p, k, t \\in \\mathbb{N}$. Calcular la cantidad de arboles que se nececitan para cumplir con la meta $t$.\n",
        "\n",
        "$\\textbf{Nota}:$ Se utilizo la **funcion techo** ya que no se considera la posibilidad de cortar fracciones de arbol.\n",
        "\n",
        "Si imaginamos cuantas hojas tiene un arbol tendriamos que realizar la siguiente ecuacion:\n",
        "\\begin{equation*}\n",
        "H = p \\cdot k\n",
        "\\end{equation*}\n",
        "\n",
        "Por ende podemos pensar que la forma en la que calcularemos la cantidad de arboles se nececitan para tener $t$ hojas es:\n",
        "\\begin{equation*}\n",
        "A = \\frac{t}{H} = \\frac{t}{p \\cdot k}\n",
        "\\end{equation*}\n",
        "\n",
        "Sin embargo un ultimo detalle es la funcion techo, cuya funcion es la de saber la cantidad de arboles **enteros** que se necesitan:\n",
        "\\begin{equation*}\n",
        "A =  \\left \\lceil \\frac{t}{p \\cdot k} \\right \\rceil\n",
        "\\end{equation*}\n",
        "\n",
        "Por ende la funcion seria:\n",
        "\n",
        "\\begin{equation*}\n",
        "\\begin{array}{crll}\n",
        "  \\text{arboles: } &  \\mathbb{Z}^{+} \\times \\mathbb{Z}^{+} \\times \\mathbb{N} & \\longrightarrow & \\mathbb{N} \\\\\n",
        "    & (p,k,t) & \\longmapsto & \\left \\lceil \\frac{t}{p \\cdot k} \\right \\rceil\n",
        "  \\end{array}\n",
        "\\end{equation*}"
      ]
    },
    {
      "cell_type": "code",
      "execution_count": null,
      "metadata": {
        "colab": {
          "base_uri": "https://localhost:8080/"
        },
        "id": "NXYx9H6o9oTf",
        "outputId": "335c0b3a-bdaf-4f6d-c45f-ffc349786b46"
      },
      "outputs": [
        {
          "name": "stdout",
          "output_type": "stream",
          "text": [
            "cuantas hojas hay por rama\":?20\n",
            "cuantas ramas hay:?0\n",
            "no puede ser 0 ni negativo, intente de nuevo\n",
            "cuantas ramas hay:25\n",
            "Cuantas hojas quieres:10000\n",
            "Se necesitan podar 20 arboles\n"
          ]
        }
      ],
      "source": [
        "import math\n",
        "\n",
        "def arboles(p,k,t):\n",
        "  return math.ceil(t/(p*k))\n",
        "\n",
        "#Controlar Entradas\n",
        "def naturales(mnsj2):\n",
        "  y = int(input(mnsj2))\n",
        "  while(y < 0):\n",
        "    print(y,'no es un numero natural, intente de nuevo')\n",
        "    y = int(input(mnsj2))\n",
        "  return y\n",
        "\n",
        "def CeroEntero(mnsj3):\n",
        "  z = int(input(mnsj3+'?'))\n",
        "  while(z <= 0):\n",
        "    print('no puede ser 0 ni negativo, intente de nuevo')\n",
        "    z = int(input(mnsj3))\n",
        "  return z\n",
        "#Programa principal\n",
        "hojasporRama = CeroEntero('cuantas hojas hay por rama\":')\n",
        "ramas = CeroEntero('cuantas ramas hay:')\n",
        "hojasNecesarias = naturales('Cuantas hojas quieres:')\n",
        "\n",
        "cantidad = arboles(hojasporRama,ramas,hojasNecesarias)\n",
        "\n",
        "print(\"Se necesitan podar\",cantidad, \"arboles\")"
      ]
    },
    {
      "cell_type": "markdown",
      "metadata": {
        "id": "Zf3RWK7yG7Np"
      },
      "source": [
        "#### Version dos Arboles\n",
        "\n",
        "Ahora bien este problema se puede tomar con otro enfoque, haciendo uso de un ciclo while, donde se agrege un arbol mientras la condicion $hojasAcumuladas < t$\n",
        "esto definido asi:\n",
        "\n",
        "\\begin{equation*}\n",
        "\\begin{array}{crll}\n",
        "  \\text{arbolesNecesarios: } & \\mathbb{Z}^{+} \\times \\mathbb{Z}^{+} \\times \\mathbb{N} & \\longrightarrow & \\mathbb{N} \\\\\n",
        "    & (k, p, t) & \\longmapsto & \\min \\{ n \\in \\mathbb{N} \\mid n \\cdot (k \\cdot p) \\geq t \\}\n",
        "\\end{array}\n",
        "\\end{equation*}\n",
        "\n",
        "Con esta funcion encontraremos el menor número natural $n$ tal que al multiplicar $n$ por $k \\cdot p$, el resultado es mayor o igual que $t$."
      ]
    },
    {
      "cell_type": "code",
      "execution_count": null,
      "metadata": {
        "colab": {
          "base_uri": "https://localhost:8080/"
        },
        "id": "uQ2RJbJg-iIU",
        "outputId": "ba0bcbad-744e-4d79-93bd-b0749d2a9040"
      },
      "outputs": [
        {
          "name": "stdout",
          "output_type": "stream",
          "text": [
            "cuantas hojas hay por rama\":?1\n",
            "cuantas ramas hay:?2\n",
            "Cuantas hojas quieres:10\n",
            "Se necesitan podar 20 arboles\n"
          ]
        }
      ],
      "source": [
        "def arbolesNecesarios(k, p, t):\n",
        "    hojasPorArbol = k * p\n",
        "    hojasAcumuladas = 0\n",
        "    arbolesPodados = 0\n",
        "\n",
        "    while (hojasAcumuladas < t):\n",
        "        hojasAcumuladas += hojasPorArbol\n",
        "        arbolesPodados += 1\n",
        "    return arbolesPodados\n",
        "\n",
        "#Controlar Entradas\n",
        "def naturales(mnsj2):\n",
        "  y = int(input(mnsj2))\n",
        "  while(y < 0):\n",
        "    print(y,'no es un numero natural, intente de nuevo')\n",
        "    y = int(input(mnsj2))\n",
        "  return y\n",
        "\n",
        "def CeroEntero(mnsj3):\n",
        "  z = int(input(mnsj3+'?'))\n",
        "  while(z <= 0):\n",
        "    print('no puede ser 0 ni negativo, intente de nuevo')\n",
        "    z = int(input(mnsj3))\n",
        "  return z\n",
        "#Programa principal\n",
        "hojasRama = CeroEntero('cuantas hojas hay por rama\":')\n",
        "ramaCantidad = CeroEntero('cuantas ramas hay:')\n",
        "hojasCortadas = naturales('Cuantas hojas quieres:')\n",
        "\n",
        "arbolePoda = arbolesNecesarios(hojasporRama,ramas,hojasNecesarias)\n",
        "\n",
        "print(\"Se necesitan podar\",arbolePoda, \"arboles\")"
      ]
    },
    {
      "cell_type": "markdown",
      "metadata": {
        "id": "ZAsDrC9hbBBT"
      },
      "source": [
        "## Interes simple y compuesto\n",
        "Dados la cantidad de capital $k$ prestados e $i$ el interes diario expresado como una cantidad constante de pesos, donde $k, i \\in \\mathbb{R}^{+}$. Calcular el interes simple y compuesto durante una semana con base en los valores de $k$ e $i$.\n",
        "\n",
        "Las formulas que permiten calcular el interes simple y compuesta de manera generalizada son:\n",
        "\n",
        "#### $Interes \\ simple$\n",
        "\n",
        "\\begin{equation*}\n",
        "A = P(1 + rt)\n",
        "\\end{equation*}\n",
        "\n",
        "Donde:\n",
        "- ( $A$ ): Monto final después de aplicar el interés.\n",
        "- ( $P$ ): Capital inicial o monto prestado.\n",
        "- ( $r$ ): Tasa de interés por período (expresada como decimal, porcentaje o razon).\n",
        "- ( $t$ ): Tiempo transcurrido en los mismos períodos de la tasa de interés.\n",
        "\n",
        "#### $Interes \\ compuesto$\n",
        "\n",
        "\\begin{equation*}\n",
        "A = P \\left(1 + \\frac{r}{n} \\right)^{nt}\n",
        "\\end{equation*}\n",
        "\n",
        "Donde:\n",
        "- ( $A$ ): Monto final después de aplicar el interés compuesto.\n",
        "- ( $P$ ): Capital inicial o monto prestado.\n",
        "- ( $r$ ): Tasa de interés anual (expresada como decimal, porcentaje o razon).\n",
        "- ( $n$ ): Número de veces que el interés se capitaliza por año (por ejemplo, ( $n = 12$ ) para mensual, ( $n = 365$ ) para diario).\n",
        "- ( $t$ ): Tiempo transcurrido en años.\n",
        "\n",
        "Ahora bien estas formulas de manera general estan dispuestas para calcular el interes de manera anual, en nuestro caso lo queremos hacer de manera diaria durante solo una semana, por ende si $r$ esta dado en interes diario y no anual podemos manejar el resto de la formula de manera natural. Sin embargo el dato $i$ se nos da como una cantidad constante de pesos y no una taza o porcentaje por ende debemos convertirla en una razon para el interes compuesto en proporcion al monto inicial tal que asi:\n",
        "\n",
        "\n",
        "\\begin{equation*}\n",
        "A_s = k + (i \\cdot 7)\n",
        "\\end{equation*}\n",
        "\n",
        "\\\\\n",
        "\n",
        "\\begin{equation*}\n",
        "A_c = k \\left( 1 + \\frac{i}{k} \\right)^7\n",
        "\\end{equation*}\n",
        "\n",
        "Donde:\n",
        "- ( $A$ ): Monto final después de aplicar el interés compuesto (A_c) o simple (A_s).\n",
        "- ( $k$ ): Pesos iniciales.\n",
        "- ( $i$ ): Pesos de interés diario (expresada como constante).\n",
        "- ( $t = 7$ ): Pues se aplica a 7 dia o una semana.\n",
        "- ( $\\frac{i}{k}$ ): Es la normalizacion de la cantidad $i$ en una razon respecto al monto inicial para poder aplicar el interes compuesto.\n",
        "\n",
        "Por ende las funciones son asi:\n",
        "\n",
        "\\begin{equation*}\n",
        "\\begin{array}{crll}\n",
        "  \\text{interesSimple: } & \\mathbb{R}^{+,0} \\times \\mathbb{R}^{+,0} & \\longrightarrow & \\mathbb{R}^{+,0} \\\\\n",
        "    & (k,i) & \\longmapsto & k + (i \\cdot 7)\n",
        "  \\end{array}\n",
        "\\end{equation*}\n",
        "\n",
        "\\begin{equation*}\n",
        "\\begin{array}{crll}\n",
        "  \\text{interesCompuesto: } & \\mathbb{R}^{+,0} \\times \\mathbb{R}^{+,0} & \\longrightarrow & \\mathbb{R}^{+,0} \\\\\n",
        "    & (k,i) & \\longmapsto & k \\left( 1 + \\frac{i}{k} \\right)^7\n",
        "  \\end{array}\n",
        "\\end{equation*}\n",
        "\n",
        "Y la funcion principal seria:\n",
        "\n",
        "\\begin{equation*}\n",
        "\\begin{array}{crll}\n",
        "  \\text{intereses: } & \\mathbb{R}^{+,0} \\times \\mathbb{R}^{+,0} & \\longrightarrow & \\mathbb({R}^{+,0})^2 \\\\\n",
        "    & (k,i) & \\longmapsto & [interesSimple(k,i),interesCompuesto(k,i)]\n",
        "  \\end{array}\n",
        "\\end{equation*}\n"
      ]
    },
    {
      "cell_type": "code",
      "execution_count": null,
      "metadata": {
        "colab": {
          "base_uri": "https://localhost:8080/"
        },
        "id": "t604VJhdoYBB",
        "outputId": "56f4c211-aefb-45e3-f956-e2f957199ecf"
      },
      "outputs": [
        {
          "name": "stdout",
          "output_type": "stream",
          "text": [
            "Cuanto necesitas \"amigo\":? 42\n",
            "Te cobro interes de:? 1\n",
            "Me tiene que devolver 49.0 pesos a interes simple\n",
            "o si prefieres  49.52 pesos a interes compuesto\n"
          ]
        }
      ],
      "source": [
        "def interesSimple(k,i):\n",
        "  return k + (i * 7)\n",
        "\n",
        "def interesCompuesto(k,i):\n",
        "\n",
        "  return k * (1 + (i/k))**7\n",
        "\n",
        "def intereses(k,i):\n",
        "  x = [interesSimple(k,i),interesCompuesto(k,i)]\n",
        "  return x\n",
        "\n",
        "#Controlar entradas\n",
        "def realesPositivosCero(mnsj):\n",
        "  x = float(input(mnsj+'? '))\n",
        "  while(x < 0.0):\n",
        "    print(x,'no es un real positivo, intente de nuevo')\n",
        "    x = float(input(mnsj+'? '))\n",
        "  return x\n",
        "\n",
        "#Programa principal\n",
        "pesos = realesPositivosCero('Cuanto necesitas \"amigo\":')\n",
        "interes = realesPositivosCero('Te cobro interes de:')\n",
        "\n",
        "cuenta = intereses(pesos,interes)\n",
        "\n",
        "print(\"Me tiene que devolver\",round(cuenta[0],2), \"pesos a interes simple\")\n",
        "print(\"o si prefieres \",round(cuenta[1],2), \"pesos a interes compuesto\")"
      ]
    },
    {
      "cell_type": "markdown",
      "metadata": {
        "id": "hQYxolDlF_YD"
      },
      "source": [
        "## Fichas de Lego®\n",
        "Si un niño tiene dos tipos de piezas cuadradas de lego, una **roja** de dimensiones 1 x 1 y una **azul** de 2 x 1 y tambien le dieron una base donde poner sus fichas, de tamaño 1 x $n$, calcular de cuantas maneras puede poner sus fichas y que pasaria con este resultado si le añadieramos una ficha de color **amarillo** de dimeniones 1 x 3. Dado el valor de la base $n$, donde $n \\in \\mathbb{N}$, calcular los dos resultados (rojo y azul; rojo, azul y amarillo).\n",
        "\n",
        "Para ese ejercicio podemos usar una funcion recursiva parecida a las usadas en colchas, donde especifiquemos los casos criticos o finales, tal que asi:\n",
        "\n",
        "\\begin{array}{crll}\n",
        "  \\text{contar: } & \\mathbb{N} & \\longrightarrow & \\mathbb{N} \\\\\n",
        "    & (n) & \\longmapsto &\n",
        "      \\begin{cases}\n",
        "        n & \\text{si } n \\leq 2 \\\\\n",
        "        contar(n-1) + contar(n-2) & \\text{en otro caso. }\n",
        "      \\end{cases}\n",
        "    \\\\\n",
        "\\end{array}\n",
        "Donde los casos bases son $n=1$ es uno (roja), $n=2$ es dos (azul, roja-roja) y $n=0$ es 0.\n",
        "\n",
        "Y si existiera una tercera pieza seria asi:\n",
        "\n",
        "\\begin{array}{crll}\n",
        "  \\text{contarDos: } & \\mathbb{N} & \\longrightarrow & \\mathbb{N} \\\\\n",
        "    & (n) & \\longmapsto &\n",
        "      \\begin{cases}\n",
        "      4 & \\text{si } n = 3 \\\\\n",
        "        n & \\text{si } n \\leq 2 \\\\\n",
        "        contar(n-1) + contar(n-2) + contar(n-3) & \\text{en otro caso. }\n",
        "      \\end{cases}\n",
        "    \\\\\n",
        "\\end{array}\n",
        "\n",
        "En esta version se adiciona el caso base donde $n = 3$ el cual tiene como resultado 4. (amarilla, roja-roja-roja, azul-roja, roja-azul)"
      ]
    },
    {
      "cell_type": "code",
      "execution_count": null,
      "metadata": {
        "colab": {
          "base_uri": "https://localhost:8080/"
        },
        "id": "N_V0VN44GbVD",
        "outputId": "ce638902-ca77-4144-cf4e-04959acd983f"
      },
      "outputs": [
        {
          "name": "stdout",
          "output_type": "stream",
          "text": [
            "Largo del tablero 8\n",
            "Formas 34 y si hay una ficha amarilla 81\n"
          ]
        }
      ],
      "source": [
        "def contar(n):\n",
        "  if n <= 2:\n",
        "    return n\n",
        "  else:\n",
        "    return contar(n-1) + contar(n-2)\n",
        "\n",
        "def contarDos(n):\n",
        "  if n == 3:\n",
        "    return 4\n",
        "  if n <= 2:\n",
        "    return n\n",
        "  else:\n",
        "    return contarDos(n-1) + contarDos(n-2) + contarDos(n-3)\n",
        "\n",
        "#Controlar Entradas\n",
        "def naturales(mnsj2):\n",
        "  y = int(input(mnsj2))\n",
        "  while(y < 0):\n",
        "    print(y,'no es un numero natural, intente de nuevo')\n",
        "    y = int(input(mnsj2))\n",
        "  return y\n",
        "\n",
        "# Programa principal\n",
        "largo = naturales('Largo del tablero ')\n",
        "normal = contar(largo)\n",
        "amarilla = contarDos(largo)\n",
        "print('Formas', normal , 'y si hay una ficha amarilla', amarilla)"
      ]
    },
    {
      "cell_type": "markdown",
      "metadata": {
        "id": "wilHgPJWwy99"
      },
      "source": [
        "# $5. Arreglos $"
      ]
    },
    {
      "cell_type": "markdown",
      "metadata": {
        "id": "ghOqiHLiw5yQ"
      },
      "source": [
        "## Criba de Eratostenes\n",
        "Dado un número natural $ n $, calcular todos los números primos en el rango $ [1, n] $ usando el método de la Criba de Eratóstenes.\n",
        "\n",
        "Un número es primo si es mayor que 1 y no tiene divisores distintos de 1 y sí mismo. El algoritmo funciona eliminando los múltiplos de cada número primo encontrado, dejando solo los primos pues si $n = k \\cdot d \\Leftrightarrow \\frac{n}{d}= k, \\ d \\neq 0$.\n",
        "\n",
        "El proceso consta de tres funciones:\n",
        "\n",
        "**Inicialización del arreglo $ x $:**\n",
        "Se crea una lista booleana que asume inicialmente que todos los números son primos (verdaderos) a excepcion del 1 y el 0 por definicion.\n",
        "\n",
        "\\begin{equation*}\n",
        "  \\begin{array}{crll}\n",
        "    \\text{iniciar: } & \\mathbb{N} & \\longrightarrow & \\mathbb{B}^{n+1} \\\\\n",
        "      & (n) & \\longmapsto & \\{ x | x_0=F \\text{ y } x_1=F \\text{ y } \\forall_{i=2}^{n} \\ x_i=V \\text{ } \\}\n",
        "      \\\\\n",
        "  \\end{array}\n",
        "\\end{equation*}\n",
        "\n",
        "**Eliminación de múltiplos de un número primo $ p $:**\n",
        "Si $ p $ es primo, sus múltiplos $ 2p, 3p, \\dots $ se marcan como no primos o se tachan como en la criba de Eratostenes.\n",
        "\n",
        "Mientras:\n",
        "\n",
        "\\begin{equation*}\n",
        " p \\cdot k \\leq n\n",
        "\\end{equation*}\n",
        "\n",
        "Entonces:\n",
        "\n",
        "\\begin{equation*}\n",
        "  \\begin{array}{crll}\n",
        "    \\text{tachar: } & \\mathbb{N} \\times \\mathbb{B}^{n+1} & \\longrightarrow & \\mathbb{B}^{n+1} \\\\\n",
        "      & (p, x) & \\longmapsto & \\oplus_{i=0}^{n}   \\begin{cases}\n",
        "        F & \\text{si } i=pk \\text{ para algún } k>1\\\\\n",
        "        x_i  & \\text{en otro caso}\n",
        "      \\end{cases} \\\\\n",
        "  \\end{array}\n",
        "\\end{equation*}\n",
        "\n",
        "**Aplicación de la criba:**\n",
        "Se recorren los números hasta $ \\sqrt{n} + 1$, eliminando múltiplos de cada número primo encontrado. Con:\n",
        "\n",
        "\\begin{equation*}\n",
        " x^{(1)}=iniciar(n)\n",
        "\\end{equation*}\n",
        "\n",
        "\\begin{equation*}\n",
        "  \\begin{array}{crll}\n",
        "    \\text{cribar: } & \\mathbb{N} & \\longrightarrow & \\mathbb{B}^{n+1} \\\\\n",
        "      & (n) & \\longmapsto & \\forall_{i=2}^{n}   \\begin{cases}\n",
        "        x^{(i)}=tachar(i, x^{(i-1)}) & \\text{si } x^{(i-1)}_i\\\\\n",
        "        x^{(i-1)}  & \\text{en otro caso}\n",
        "      \\end{cases} \\\\\n",
        "  \\end{array}\n",
        "\\end{equation*}\n",
        "\n",
        "Asi entonces al final obtendremos una arreglo de booleanos con las posiciones verdaderas representando a los numeros primos o los que no son multiplo de ningun otro.\n",
        "\n",
        "\n"
      ]
    },
    {
      "cell_type": "code",
      "execution_count": null,
      "metadata": {
        "colab": {
          "base_uri": "https://localhost:8080/"
        },
        "id": "QSErgtWR21R8",
        "outputId": "e7cc4286-6115-412d-e1c3-e3b10c69dec5"
      },
      "outputs": [
        {
          "name": "stdout",
          "output_type": "stream",
          "text": [
            "Hasta cuando?50\n",
            "2\n",
            "3\n",
            "5\n",
            "7\n",
            "11\n",
            "13\n",
            "17\n",
            "19\n",
            "23\n",
            "29\n",
            "31\n",
            "37\n",
            "41\n",
            "43\n",
            "47\n"
          ]
        }
      ],
      "source": [
        "#Funciones Auxiliares\n",
        "#Crea un areglo con los posibles primos\n",
        "def iniciar(n):\n",
        "  x = [True for i in range(n+1)]\n",
        "  x[0] = False\n",
        "  x[1] = False\n",
        "  return x\n",
        "\n",
        "#Tacha sus multiplos mientras no superen a n\n",
        "def tachar(p, x):\n",
        "  k = 2\n",
        "  n = len(x) - 1 #menosuno para obtener el tama;o original\n",
        "  while p * k <= n:\n",
        "    x[p*k] = False\n",
        "    k += 1 #verificar los multiplos (enteros positivos)\n",
        "  return x\n",
        "\n",
        "#inicializa el arrreglo hasta n y si la posicion es verdadera\n",
        "#entonces aplica tachar desde 2 hasta la raiz de n mas uno\n",
        "def cribar(n):\n",
        "  x = iniciar(n)\n",
        "  for i in range(2, int(n**0.5)+1):\n",
        "    if( x[i] ):\n",
        "      x = tachar(i, x)\n",
        "  return x\n",
        "\n",
        "#Controlar Entradas\n",
        "def naturales(mnsj2):\n",
        "  y = int(input(mnsj2))\n",
        "  while(y < 0):\n",
        "    print(y,'no es un numero natural, intente de nuevo')\n",
        "    y = int(input(mnsj2))\n",
        "  return y\n",
        "\n",
        "# Programa principal\n",
        "a = naturales('Hasta cuanto')\n",
        "y = cribar(a)\n",
        "for i in range(len(y)):\n",
        "  if(y[i]):\n",
        "    print(i)"
      ]
    },
    {
      "cell_type": "markdown",
      "metadata": {
        "id": "ph5ENDGsYjef"
      },
      "source": [
        "## Suma en arreglo\n",
        "#### Enteros\n",
        "Dado un arreglo $x$ de tamano $n$, donde $n \\in \\mathbb{N}$ y $x_i \\in \\mathbb{Z}$ calcular el resultado de sumar todos sus elementos.\n",
        "\n",
        "\\begin{equation*}\n",
        "  \\begin{array}{crll}\n",
        "    \\text{sumaArregloE: } & \\mathbb{Z}^{n} & \\longrightarrow & \\mathbb{Z} \\\\\n",
        "      & (x) & \\longmapsto & \\displaystyle \\sum^{n-1}_{i=0} x_i\\\\\n",
        "  \\end{array}\n",
        "\\end{equation*}\n"
      ]
    },
    {
      "cell_type": "code",
      "execution_count": null,
      "metadata": {
        "colab": {
          "base_uri": "https://localhost:8080/"
        },
        "id": "Z65AyzdRZY1f",
        "outputId": "ec8f1086-7f61-4989-bbdd-deb42f42ce42"
      },
      "outputs": [
        {
          "name": "stdout",
          "output_type": "stream",
          "text": [
            "Escriba los elementos del arreglo separados por comas: 0,5,-5\n",
            "0\n"
          ]
        }
      ],
      "source": [
        "def sumaArregloE(x):\n",
        "  s = 0\n",
        "  for i in range(len(x)):\n",
        "    s += x[i]\n",
        "  return s\n",
        "\n",
        "#Controlar Entradas (arreglo)\n",
        "def esListaE(lista):\n",
        "    y = input(lista)\n",
        "    return [int(x) for x in y.split(\",\")]\n",
        "\n",
        "# Programa principal\n",
        "arreglo = esListaE('Escriba los elementos del arreglo separados por comas: ')\n",
        "sumatoria = sumaArregloE(arreglo)\n",
        "\n",
        "print(\"La suma es: \",sumatoria)"
      ]
    },
    {
      "cell_type": "markdown",
      "metadata": {
        "id": "9uu8HPstk_D5"
      },
      "source": [
        "#### Reales\n",
        "Este caso es tiene un \"como\" exactamente igual al anterior con ligeros cambios en el \"que\"\n",
        "Dado un arreglo $x$ de tamano $n$, donde $n \\in \\mathbb{N}$ y $x_i \\in \\mathbb{R}$ calcular el resultado de sumar todos sus elementos.\n",
        "\n",
        "\\begin{equation*}\n",
        "  \\begin{array}{crll}\n",
        "    \\text{sumaArregloR: } & \\mathbb{R}^{n} & \\longrightarrow & \\mathbb{R} \\\\\n",
        "      & (x) & \\longmapsto & \\displaystyle \\sum^{n-1}_{i=0} x_i\\\\\n",
        "  \\end{array}\n",
        "\\end{equation*}"
      ]
    },
    {
      "cell_type": "code",
      "execution_count": null,
      "metadata": {
        "colab": {
          "base_uri": "https://localhost:8080/"
        },
        "id": "3XyB1gMXlNMn",
        "outputId": "75552876-f150-402e-e5c9-f5b9ccfd88f2"
      },
      "outputs": [
        {
          "name": "stdout",
          "output_type": "stream",
          "text": [
            "Escriba los elementos del arreglo separados por comas: 0.5,0.5,0.5\n",
            "1.5\n"
          ]
        }
      ],
      "source": [
        "def sumaArregloR(x):\n",
        "  s = 0\n",
        "  for i in range(len(x)):\n",
        "    s += x[i]\n",
        "  return s\n",
        "#Controlar Entradas (arreglo)\n",
        "def esListaR(lista):\n",
        "    y = input(lista)\n",
        "    return [float(x) for x in y.split(\",\")]\n",
        "\n",
        "# Programa principal\n",
        "arreglo2 = esListaR('Escriba los elementos del arreglo separados por comas: ')\n",
        "sumatoria2 = sumaArregloR(arreglo2)\n",
        "\n",
        "print(\"La suma es: \",sumatoria2)"
      ]
    },
    {
      "cell_type": "markdown",
      "metadata": {
        "id": "WwurBC0IpmLB"
      },
      "source": [
        "## Promedio arreglo\n",
        "#### Enteros\n",
        "Dado un arreglo $x$ de tamano $n$, donde $n \\in \\mathbb{N}$ y $x_i \\in \\mathbb{Z}$ calcular el resultado deL promedio de todos sus elementos.\n",
        "\n",
        "El promedio de un conjunto de números es una medida estadística que representa el valor central o típico de ese conjunto. Se calcula sumando todos los elementos del conjunto y luego dividiendo esa suma entre la cantidad de elementos.\n",
        "\n",
        "\\begin{equation*}\n",
        "  \\begin{array}{crll}\n",
        "    \\text{promedioArregloE: } & \\mathbb{Z}^{n} & \\longrightarrow & \\mathbb{R} \\\\\n",
        "      & (x) & \\longmapsto & \\displaystyle \\frac{1}{n} \\cdot sumaArregloE(x)\\\\\n",
        "  \\end{array}\n",
        "\\end{equation*}"
      ]
    },
    {
      "cell_type": "code",
      "execution_count": null,
      "metadata": {
        "colab": {
          "base_uri": "https://localhost:8080/"
        },
        "id": "TLPDCQ7ttQfS",
        "outputId": "b830665f-2f23-4902-d2c2-c69620041df4"
      },
      "outputs": [
        {
          "name": "stdout",
          "output_type": "stream",
          "text": [
            "Escriba los elementos del arreglo separados por comas: -1,1\n",
            "0.0\n"
          ]
        }
      ],
      "source": [
        "def promedioArregloE(x):\n",
        "  n = len(x)\n",
        "  return sumaArregloE(x)/n\n",
        "\n",
        "def sumaArregloE(x):\n",
        "  s = 0\n",
        "  for i in range(len(x)):\n",
        "    s += x[i]\n",
        "  return s\n",
        "\n",
        "#Controlar Entradas (arreglo)\n",
        "def esListaE(lista):\n",
        "    y = input(lista)\n",
        "    return [int(x) for x in y.split(\",\")]\n",
        "\n",
        "# Programa principal\n",
        "lista = esListaE('Escriba los elementos del arreglo separados por comas: ')\n",
        "promediado = promedioArregloE(lista)\n",
        "\n",
        "print(\"El promedio del vector es: \",promediado)"
      ]
    },
    {
      "cell_type": "markdown",
      "metadata": {
        "id": "li94OiACxmIo"
      },
      "source": [
        "#### Reales\n",
        "Dado un arreglo $x$ de tamano $n$, donde $n \\in \\mathbb{N}$ y $x_i \\in \\mathbb{R}$ calcular el resultado deL promedio de todos sus elementos.\n",
        "\n",
        "\\begin{equation*}\n",
        "  \\begin{array}{crll}\n",
        "    \\text{promedioArregloR: } & \\mathbb{R}^{n} & \\longrightarrow & \\mathbb{R} \\\\\n",
        "      & (x) & \\longmapsto & \\displaystyle \\frac{1}{n} \\cdot sumaArregloR(x)\\\\\n",
        "  \\end{array}\n",
        "\\end{equation*}"
      ]
    },
    {
      "cell_type": "code",
      "execution_count": null,
      "metadata": {
        "colab": {
          "base_uri": "https://localhost:8080/"
        },
        "id": "H9JReT4bx1e7",
        "outputId": "426bc35a-15b0-44db-a2f8-e7564c1b5853"
      },
      "outputs": [
        {
          "name": "stdout",
          "output_type": "stream",
          "text": [
            "Escriba los elementos del arreglo separados por comas: -1.5,2.5,-3.5,4.5\n",
            "0.5\n"
          ]
        }
      ],
      "source": [
        "def promedioArregloR(x):\n",
        "  n = len(x)\n",
        "  return sumaArregloR(x)/n\n",
        "\n",
        "def sumaArregloR(x):\n",
        "  s = 0\n",
        "  for i in range(len(x)):\n",
        "    s += x[i]\n",
        "  return s\n",
        "\n",
        "#Controlar Entradas (arreglo)\n",
        "def esListaR(lista):\n",
        "    y = input(lista)\n",
        "    return [float(x) for x in y.split(\",\")]\n",
        "\n",
        "# Programa principal\n",
        "listaReal = esListaR('Escriba los elementos del arreglo separados por comas: ')\n",
        "promediadoReal = promedioArregloR(listaReal)\n",
        "\n",
        "print(\"El promedio del vector es: \",promediadoReal)"
      ]
    },
    {
      "cell_type": "markdown",
      "metadata": {
        "id": "Sk6t4BX79c1R"
      },
      "source": [
        "## Producto punto\n",
        "#### Enteros\n",
        "\n",
        "Dados dos arreglos $w,v$ tales que $v = [v_1, v_2, . . . , v_n]$ y $w = [w_1, w_2, . . . , w_n]$, es decir ambos de tamano $n$ , donde $v,w$ son arreglos de **enteros** y $n \\in \\mathbb{N}$. Calcular el producto punto denotado como $w \\cdot v$ entre los arreglos, este es el numero: $v_1 \\cdot w_1 + v_2 \\cdot w_2 + ⋯ + v_n \\cdot w_n$.\n",
        "\n",
        "La funcion que describe esto es:\n",
        "\n",
        "\\begin{equation*}\n",
        "  \\begin{array}{crll}\n",
        "    \\text{productoPuntoE: } & \\mathbb{Z}^{n} \\times \\mathbb{Z}^{n} & \\longrightarrow & \\mathbb{Z} \\\\\n",
        "      & (v, w) & \\longmapsto &  \\displaystyle \\sum_{i=0}^{n-1} v_i*w_i\n",
        "      \\\\\n",
        "  \\end{array}\n",
        "\\end{equation*}\n",
        "\n",
        "Para poder usar esta funcion se debe comprovar que los arreglos sean del mismo tamano."
      ]
    },
    {
      "cell_type": "code",
      "execution_count": null,
      "metadata": {
        "colab": {
          "base_uri": "https://localhost:8080/"
        },
        "id": "VFsS5MQ1D_Rb",
        "outputId": "139a75f3-1cf4-47c0-f14e-50668e46b4a3"
      },
      "outputs": [
        {
          "name": "stdout",
          "output_type": "stream",
          "text": [
            "Arreglo uno: 1,2,3\n",
            "Arreglo dos: 0,00\n",
            "los arreglos deben ser del mismo taman;o\n",
            "Arreglo uno1,3,4\n",
            "Arreglo dos0,0,0\n",
            "0\n"
          ]
        }
      ],
      "source": [
        "def productoPuntoE(v,w):\n",
        "  s = 0\n",
        "  for i in range (len(v)):\n",
        "    s += v[i]*w[i]\n",
        "  return s\n",
        "\n",
        "\n",
        "#Controlar Entradas (arreglo)\n",
        "def esListaE(lista):\n",
        "    y = input(lista)\n",
        "    return [int(x) for x in y.split(\",\")]\n",
        "\n",
        "#comprobar tamanos\n",
        "def lenArreglosE(z):\n",
        "  x = esListaE(z +' uno: ')\n",
        "  y = esListaE(z +' dos: ')\n",
        "  while len(x) != len(y):\n",
        "    print('los arreglos deben ser del mismo taman;o')\n",
        "    x = esListaE('Arreglo uno: ')\n",
        "    y = esListaE('Arreglo dos: ')\n",
        "  return x,y\n",
        "\n",
        "# Programa principal\n",
        "\n",
        "arreglo1, arreglo2 = lenArreglosE('Arreglo') # asi se reciben dos listas y no una tupla\n",
        "producto = productoPuntoE(arreglo1, arreglo2)\n",
        "print(\"El producto punto es: \",producto)\n"
      ]
    },
    {
      "cell_type": "markdown",
      "metadata": {
        "id": "3H9BqXGMPjcL"
      },
      "source": [
        "#### Reales\n",
        "\n",
        "Dados dos arreglos $w,v$ tales que $v = [v_1, v_2, . . . , v_n]$ y $w = [w_1, w_2, . . . , w_n]$, es decir ambos de tamano $n$ , donde $v,w$ son arreglos de **reales** y $n \\in \\mathbb{N}$. Calcular el producto punto denotado como $w \\cdot v$ entre los arreglos, este es el numero: $v_1 \\cdot w_1 + v_2 \\cdot w_2 + ⋯ + v_n \\cdot w_n$.\n",
        "\n",
        "La funcion que describe esto es exactamente igual a la anterior con peque;as correcciones en el \"que\":\n",
        "\n",
        "\\begin{equation*}\n",
        "  \\begin{array}{crll}\n",
        "    \\text{productoPuntoR: } & \\mathbb{R}^{n} \\times \\mathbb{R}^{n} & \\longrightarrow & \\mathbb{R} \\\\\n",
        "      & (v, w) & \\longmapsto &  \\displaystyle \\sum_{i=0}^{n-1} v_i*w_i\n",
        "      \\\\\n",
        "  \\end{array}\n",
        "\\end{equation*}\n",
        "\n",
        "Para poder usar esta funcion se debe comprovar que los arreglos sean del mismo tamano."
      ]
    },
    {
      "cell_type": "code",
      "execution_count": null,
      "metadata": {
        "colab": {
          "base_uri": "https://localhost:8080/"
        },
        "id": "Enh5g6xbP_X5",
        "outputId": "351ee3ab-4cdc-4f1a-f693-1db4ac050f35"
      },
      "outputs": [
        {
          "name": "stdout",
          "output_type": "stream",
          "text": [
            "Arreglo uno: 1.5, 2.5, 3.5\n",
            "Arreglo dos: 4.5, 5.5, 6.5\n",
            "43.25\n"
          ]
        }
      ],
      "source": [
        "def productoPuntoR(v,w):\n",
        "  s = 0\n",
        "  for i in range (len(v)):\n",
        "    s += v[i]*w[i]\n",
        "  return s\n",
        "\n",
        "\n",
        "#Controlar Entradas (arreglo)\n",
        "def esListaR(lista):\n",
        "    y = input(lista)\n",
        "    return [float(x) for x in y.split(\",\")] #float\n",
        "\n",
        "#comprobar tamanos\n",
        "def lenArreglosR(z):\n",
        "  x = esListaR(z +' uno: ')\n",
        "  y = esListaR(z +' dos: ')\n",
        "  while len(x) != len(y):\n",
        "    print('los arreglos deben ser del mismo taman;o')\n",
        "    x = esListaR('Arreglo uno: ')\n",
        "    y = esListaR('Arreglo dos: ')\n",
        "  return x,y\n",
        "\n",
        "# Programa principal\n",
        "\n",
        "arregloUno, arregloDos = lenArreglosR('Arreglo') # asi se reciben dos listas y no una tupla\n",
        "productoReal = productoPuntoR(arregloUno, arregloDos)\n",
        "print(\"El producto punto es: \",productoReal)\n"
      ]
    },
    {
      "cell_type": "markdown",
      "metadata": {
        "id": "-vIB5gYWSbej"
      },
      "source": [
        "## Producto directo\n",
        "#### Enteros\n",
        "\n",
        "Dados dos arreglos $w,v$ tales que $v = [v_1, v_2, . . . , v_n]$ y $w = [w_1, w_2, . . . , w_n]$, es decir ambos de tamano $n$ , donde $v,w$ son arreglos de **enteros** y $n \\in \\mathbb{N}$. Calcular el producto directo notado como $w \\cdot v$ entre los arreglos, este es el vector: $[v_1 \\cdot w_1 , v_2 \\cdot w_2 , ⋯ , v_n \\cdot w_n]$.\n",
        "\n",
        "La funcion que describe esto es:\n",
        "\n",
        "\\begin{equation*}\n",
        "  \\begin{array}{crll}\n",
        "    \\text{productoDirectoE: } & \\mathbb{Z}^{n} \\times \\mathbb{Z}^{n} & \\longrightarrow & \\mathbb{Z} \\\\\n",
        "      & (v, w) & \\longmapsto &  \\displaystyle \\oplus_{i=0}^{n-1} x_i*y_i\n",
        "      \\\\\n",
        "  \\end{array}\n",
        "\\end{equation*}\n",
        "\n",
        "Para poder usar esta funcion se debe comprovar que los arreglos sean del mismo tamano."
      ]
    },
    {
      "cell_type": "code",
      "execution_count": null,
      "metadata": {
        "colab": {
          "base_uri": "https://localhost:8080/"
        },
        "id": "V8qz_8FZT-HT",
        "outputId": "96be2f6b-3ebd-451d-a0fa-a72a757a0d19"
      },
      "outputs": [
        {
          "name": "stdout",
          "output_type": "stream",
          "text": [
            "Arreglo uno: 1,2\n",
            "Arreglo dos: 3,4\n",
            "El producto directo es:  [3, 8]\n"
          ]
        }
      ],
      "source": [
        "def productoDirectoE(v,w):\n",
        "  return [v[i]*w[i] for i in range(len(v))]\n",
        "\n",
        "\n",
        "#Controlar Entradas (arreglo)\n",
        "def esListaE(lista):\n",
        "    y = input(lista)\n",
        "    return [int(x) for x in y.split(\",\")]\n",
        "\n",
        "#comprobar tamanos\n",
        "def lenArreglosE(z):\n",
        "  x = esListaE(z +' uno: ')\n",
        "  y = esListaE(z +' dos: ')\n",
        "  while len(x) != len(y):\n",
        "    print('los arreglos deben ser del mismo taman;o')\n",
        "    x = esListaE('Arreglo uno: ')\n",
        "    y = esListaE('Arreglo dos: ')\n",
        "  return x,y\n",
        "\n",
        "# Programa principal\n",
        "\n",
        "arreglo1, arreglo2 = lenArreglosE('Arreglo') # asi se reciben dos listas y no una tupla\n",
        "arregloProducto = productoDirectoE(arreglo1, arreglo2)\n",
        "print(\"El producto directo es: \",arregloProducto)"
      ]
    },
    {
      "cell_type": "markdown",
      "metadata": {
        "id": "rfsRkan3WJEu"
      },
      "source": [
        "#### Reales\n",
        "\n",
        "Dados dos arreglos $w,v$ tales que $v = [v_1, v_2, . . . , v_n]$ y $w = [w_1, w_2, . . . , w_n]$, es decir ambos de tamano $n$ , donde $v,w$ son arreglos de **reales** y $n \\in \\mathbb{N}$. Calcular el producto punto denotado como $w \\cdot v$ entre los arreglos, este es el vector:  $[v_1 \\cdot w_1 , v_2 \\cdot w_2 , ⋯ , v_n \\cdot w_n]$.\n",
        "\n",
        "La funcion que describe esto es exactamente igual a la anterior con peque;as correcciones en el \"que\":\n",
        "\n",
        "\\begin{equation*}\n",
        "  \\begin{array}{crll}\n",
        "    \\text{productoDirectoR: } & \\mathbb{R}^{n} \\times \\mathbb{R}^{n} & \\longrightarrow & \\mathbb{R} \\\\\n",
        "      & (v, w) & \\longmapsto &  \\displaystyle \\oplus_{i=0}^{n-1} x_i*y_i\n",
        "      \\\\\n",
        "  \\end{array}\n",
        "\\end{equation*}"
      ]
    },
    {
      "cell_type": "code",
      "execution_count": null,
      "metadata": {
        "colab": {
          "base_uri": "https://localhost:8080/"
        },
        "id": "wg4pNYpyWcl_",
        "outputId": "8cc89ae9-4a37-4033-c2be-0c54c63d70bc"
      },
      "outputs": [
        {
          "name": "stdout",
          "output_type": "stream",
          "text": [
            "Arreglo uno: 1\n",
            "Arreglo dos: 1,3\n",
            "los arreglos deben ser del mismo taman;o\n",
            "Arreglo uno2.5\n",
            "Arreglo dos3.0\n",
            "[7.5]\n"
          ]
        }
      ],
      "source": [
        "def productoDirectoR(v,w):\n",
        "  return [v[i]*w[i] for i in range(len(v))]\n",
        "\n",
        "\n",
        "#Controlar Entradas (arreglo)\n",
        "def esListaR(lista):\n",
        "    y = input(lista)\n",
        "    return [float(x) for x in y.split(\",\")]\n",
        "\n",
        "#comprobar tamanos\n",
        "def lenArreglosR(z):\n",
        "  x = esListaR(z +' uno: ')\n",
        "  y = esListaR(z +' dos: ')\n",
        "  while len(x) != len(y):\n",
        "    print('los arreglos deben ser del mismo taman;o')\n",
        "    x = esListaR('Arreglo uno: ')\n",
        "    y = esListaR('Arreglo dos: ')\n",
        "  return x,y\n",
        "\n",
        "# Programa principal\n",
        "\n",
        "arregloUno, arregloDos = lenArreglosR('Arreglo') # asi se reciben dos listas y no una tupla\n",
        "directoProducto = productoDirectoR(arregloUno, arregloDos)\n",
        "print(\"El producto directo es: \",directoProducto)"
      ]
    },
    {
      "cell_type": "markdown",
      "metadata": {
        "id": "4SgPqJs602yD"
      },
      "source": [
        "## Minimo\n",
        "#### Enteros\n",
        "Dado un arreglo de **enteros** $x$, de tamano $n$, donde $n \\in \\mathbb{N}$. Calcular cual es el menor elemento del vector.\n",
        "\n",
        "\\begin{equation*}\n",
        "  \\begin{array}{crll}\n",
        "    \\text{minimo: } & \\mathbb{Z}^n & \\longrightarrow & \\mathbb{Z} \\\\\n",
        "      & (n) & \\longmapsto & \\forall_{i=1}^{n-1} \\begin{cases}\n",
        "        m^{(i)}=x_{i} & \\text{si } m^{(i-1)} > x_{i}\\\\\n",
        "        m^{(i-1)}  & \\text{en otro caso}\n",
        "      \\end{cases} \\\\\n",
        "  \\end{array}\n",
        "\\end{equation*}\n",
        "con:\n",
        "\\begin{equation*}\n",
        "m^{(0)}=x_0\n",
        "\\end{equation*}"
      ]
    },
    {
      "cell_type": "code",
      "execution_count": null,
      "metadata": {
        "colab": {
          "base_uri": "https://localhost:8080/"
        },
        "id": "SPYVfDST3Xgh",
        "outputId": "1495a404-4888-4a5f-e0f1-8b92994c4109"
      },
      "outputs": [
        {
          "name": "stdout",
          "output_type": "stream",
          "text": [
            "Arreglo para sacar mediana: 1,2,3,4,-1\n",
            "El minimo valor es:  -1\n"
          ]
        }
      ],
      "source": [
        "def minimoE(x): #Esto es otra manera comparar entradas\n",
        "  n = len(x)\n",
        "  m = x[0]\n",
        "  for i in range(1, n):\n",
        "    if(m > x[i]):\n",
        "      m = x[i]\n",
        "  return m\n",
        "\n",
        "#Controlar Entradas (arreglo)\n",
        "def esListaE(lista):\n",
        "    y = input(lista)\n",
        "    return [int(x) for x in y.split(\",\")]\n",
        "\n",
        "# Programa principal\n",
        "\n",
        "arrayE = esListaE('Arreglo para sacar minimo: ')\n",
        "minE = minimo(arrayE)\n",
        "print(\"El minimo valor es: \",minE)"
      ]
    },
    {
      "cell_type": "markdown",
      "metadata": {
        "id": "9LPfq0oQ44Pd"
      },
      "source": [
        "#### Reales\n",
        "Dado un arreglo de **reales** $x$, de tamano $n$, donde $n \\in \\mathbb{N}$. Calcular cual es el menor elemento del vector.\n",
        "\n",
        "\\begin{equation*}\n",
        "  \\begin{array}{crll}\n",
        "    \\text{minimo: } & \\mathbb{R}^n & \\longrightarrow & \\mathbb{R} \\\\\n",
        "      & (n) & \\longmapsto & \\forall_{i=1}^{n-1} \\begin{cases}\n",
        "        m^{(i)}=x_{i} & \\text{si } m^{(i-1)} > x_{i}\\\\\n",
        "        m^{(i-1)}  & \\text{en otro caso}\n",
        "      \\end{cases} \\\\\n",
        "  \\end{array}\n",
        "\\end{equation*}\n",
        "con:\n",
        "\\begin{equation*}\n",
        "m^{(0)}=x_0\n",
        "\\end{equation*}"
      ]
    },
    {
      "cell_type": "code",
      "execution_count": null,
      "metadata": {
        "colab": {
          "base_uri": "https://localhost:8080/"
        },
        "id": "a9LgaRgd5Pky",
        "outputId": "2a9a9f5c-e79b-4f1e-efbb-2225234e0928"
      },
      "outputs": [
        {
          "name": "stdout",
          "output_type": "stream",
          "text": [
            "Arreglo para sacar mediana: 8.7,3.2,1.4,7.5\n",
            "El minimo valor es:  1.4\n"
          ]
        }
      ],
      "source": [
        "def minimoR(x):\n",
        "  n = len(x)\n",
        "  m = x[0]\n",
        "  for i in range(1, n):\n",
        "    if(m > x[i]):\n",
        "      m = x[i]\n",
        "  return m\n",
        "\n",
        "#Controlar Entradas (arreglo)\n",
        "def esListaR(lista):\n",
        "    y = input(lista)\n",
        "    return [float(x) for x in y.split(\",\")]\n",
        "\n",
        "# Programa principal\n",
        "\n",
        "arrayR = esListaR('Arreglo para sacar minimo: ')\n",
        "minR = minimoR(arrayR)\n",
        "print(\"El minimo valor es: \",minR)"
      ]
    },
    {
      "cell_type": "markdown",
      "metadata": {
        "id": "rtp-dEG65uYj"
      },
      "source": [
        "## Maximo\n",
        "#### Enteros\n",
        "Dado un arreglo de **enteros** $x$, de tamano $n$, donde $n \\in \\mathbb{N}$. Calcular cual es el mayor valor del vector.\n",
        "\n",
        "\\begin{equation*}\n",
        "  \\begin{array}{crll}\n",
        "    \\text{maximo2E: } & \\mathbb{Z}^n \\times \\mathbb{N} & \\longrightarrow & \\mathbb{Z} \\\\\n",
        "      & (x, n) & \\longmapsto & \\begin{cases}\n",
        "    x_0, & \\text{si } n = 1, \\\\\n",
        "    x_{n-1}, & \\text{si } m < x_{n-1}, \\\\\n",
        "    m, & \\text{en otro caso}.\n",
        "\\end{cases} \\\\\n",
        "  \\end{array}\n",
        "\\end{equation*}\n",
        "con:\n",
        "\\begin{equation*}\n",
        "m^{(0)}=maximo2E(x,n-1)\n",
        "\\end{equation*}\n",
        "\n",
        "Y la funcion principal es:\n",
        "\\begin{equation*}\n",
        "  \\begin{array}{crll}\n",
        "    \\text{maximoE: } & \\mathbb{Z}^n & \\longrightarrow & \\mathbb{Z} \\\\\n",
        "      & (x) & \\longmapsto & maximo2E(x,|x|) \\\\\n",
        "  \\end{array}\n",
        "\\end{equation*}"
      ]
    },
    {
      "cell_type": "code",
      "execution_count": null,
      "metadata": {
        "colab": {
          "base_uri": "https://localhost:8080/"
        },
        "id": "jww-MgDw6OSF",
        "outputId": "00a6a4f1-72df-439b-8032-0033461d2e96"
      },
      "outputs": [
        {
          "name": "stdout",
          "output_type": "stream",
          "text": [
            "Arreglo para sacar mediana: 1,3,7,8\n",
            "El maximo valor es:  8\n"
          ]
        }
      ],
      "source": [
        "def maximo2E(x, n):\n",
        "  if(n==1):\n",
        "    return x[0]\n",
        "  else:\n",
        "    m = maximo2E(x,n-1)\n",
        "    if(m < x[n-1]):\n",
        "      return x[n-1]\n",
        "    else:\n",
        "      return m\n",
        "\n",
        "def maximoE(x):\n",
        "  return maximo2E(x, len(x))\n",
        "\n",
        "#Controlar Entradas (arreglo)\n",
        "def esListaE(lista):\n",
        "    y = input(lista)\n",
        "    return [int(x) for x in y.split(\",\")]\n",
        "\n",
        "# Programa principal\n",
        "\n",
        "vectorMaxE = esListaE('Arreglo para sacar maximo: ')\n",
        "maxE = maximoE(vectorMaxE)\n",
        "print(\"El maximo valor es: \",maxE)"
      ]
    },
    {
      "cell_type": "markdown",
      "metadata": {
        "id": "RX2mEv6H6ycE"
      },
      "source": [
        "#### Reales\n",
        "Dado un arreglo de **reales** $x$, de tamano $n$, donde $n \\in \\mathbb{N}$. Calcular cual es el mayor valor del vector.\n",
        "\n",
        "\\begin{equation*}\n",
        "  \\begin{array}{crll}\n",
        "    \\text{maximo2R: } & \\mathbb{R}^n \\times \\mathbb{N} & \\longrightarrow & \\mathbb{R} \\\\\n",
        "      & (x, n) & \\longmapsto & \\begin{cases}\n",
        "    x_0, & \\text{si } n = 1, \\\\\n",
        "    x_{n-1}, & \\text{si } m < x_{n-1}, \\\\\n",
        "    m, & \\text{en otro caso}.\n",
        "\\end{cases} \\\\\n",
        "  \\end{array}\n",
        "\\end{equation*}\n",
        "con:\n",
        "\\begin{equation*}\n",
        "m^{(0)}=maximo2R(x,n-1)\n",
        "\\end{equation*}\n",
        "\n",
        "Y la funcion principal es:\n",
        "\\begin{equation*}\n",
        "  \\begin{array}{crll}\n",
        "    \\text{maximo2R: } & \\mathbb{R}^n & \\longrightarrow & \\mathbb{R} \\\\\n",
        "      & (x) & \\longmapsto & maximo2R(x,|x|) \\\\\n",
        "  \\end{array}\n",
        "\\end{equation*}"
      ]
    },
    {
      "cell_type": "code",
      "execution_count": null,
      "metadata": {
        "colab": {
          "base_uri": "https://localhost:8080/"
        },
        "id": "CIaO2ZQu60kA",
        "outputId": "57920d2e-6107-4bc0-821e-54c477195885"
      },
      "outputs": [
        {
          "name": "stdout",
          "output_type": "stream",
          "text": [
            "Arreglo para sacar maximo: 3.1,1.5,5.2\n",
            "El maximo valor es:  5.2\n"
          ]
        }
      ],
      "source": [
        "def maximo2R(x, n):\n",
        "  if(n==1):\n",
        "    return x[0]\n",
        "  else:\n",
        "    m = maximo2R(x,n-1)\n",
        "    if(m < x[n-1]):\n",
        "      return x[n-1]\n",
        "    else:\n",
        "      return m\n",
        "\n",
        "def maximoR(x):\n",
        "  return maximo2R(x, len(x))\n",
        "\n",
        "#Controlar Entradas (arreglo)\n",
        "def esListaR(lista):\n",
        "    y = input(lista)\n",
        "    return [float(x) for x in y.split(\",\")]\n",
        "\n",
        "# Programa principal\n",
        "\n",
        "vectorMaxR = esListaR('Arreglo para sacar maximo: ')\n",
        "maxR = maximoR(vectorMaxR)\n",
        "print(\"El maximo valor es: \",maxR)"
      ]
    },
    {
      "cell_type": "markdown",
      "metadata": {
        "id": "rHSYFcYlmZAd"
      },
      "source": [
        "## Mediana\n",
        "#### Enteros\n",
        "Dado un arreglo $x$ **entero** de longitud $n$ y $n \\in \\mathbb{N}$.Calcular su mediana.\n",
        "\n",
        "\n",
        "La mediana es el numero que queda en la mitad del arreglo despues de ser ordenado. Si el arreglo es par, definimos que **tiene dos medianas**, es decir los dos valores centrales del arreglo, por el contrario la mediana sera el dato central.\n",
        "\n",
        "**Nota:** La funcion burbuja describe un metodo para ordenar numeros, la consideraremos una funcion primitiva por lo que no la describiremos a continuacion, pero tendremos en cuenta que despues de copiar $x$:\n",
        "\n",
        "\\begin{equation*}\n",
        "x= burbuja(x)\n",
        "\\end{equation*}\n",
        "\n",
        "Y con base en este calculo, podemos realizar la funcion mediana:\n",
        "\n",
        "\\begin{equation*}\n",
        "  \\begin{array}{crll}\n",
        "    \\text{medianaE: } & \\mathbb{Z}^{n} & \\longrightarrow & \\mathbb{Z}^{1,2} \\\\\n",
        "      & (x) & \\longmapsto &  \\begin{cases}\n",
        "      \\left\\{ x_{\\left\\lfloor \\frac{n}{2} - 1 \\right\\rfloor}, x_{\\left\\lfloor \\frac{n}{2} \\right\\rfloor} \\right\\} & \\text{si } n \\text{ es par} \\\\\n",
        "      \\left\\{ x_{\\left\\lfloor\\frac{n}{2}\\right\\rfloor} \\right\\} & \\text{en otro caso }\n",
        "      \\end{cases}\n",
        "      \\\\\n",
        "  \\end{array}\n",
        "\\end{equation*}\n",
        "\n"
      ]
    },
    {
      "cell_type": "code",
      "execution_count": null,
      "metadata": {
        "colab": {
          "base_uri": "https://localhost:8080/"
        },
        "id": "NirXy-ZtzKoF",
        "outputId": "dbfa3b67-34fd-425c-fe45-35eea91cf6aa"
      },
      "outputs": [
        {
          "name": "stdout",
          "output_type": "stream",
          "text": [
            "Arreglo para sacar mediana: 1,2,6,3,5,1,2,6,8,1,8,9\n",
            "[1, 2, 6, 3, 5, 1, 2, 6, 8, 1, 8, 9]\n",
            "[1, 1, 1, 2, 2, 3, 5, 6, 6, 8, 8, 9]\n",
            "La mediana es:  [3, 5]\n"
          ]
        }
      ],
      "source": [
        "def burbuja(x):\n",
        "  n=len(x)\n",
        "  for i in range(n-1):\n",
        "    for j in range(i+1,n):\n",
        "      if(x[i]>x[j]):\n",
        "        x[i], x[j] = x[j], x[i]\n",
        "  return x\n",
        "\n",
        "def medianaE(x):\n",
        "  x = x.copy()\n",
        "  print(x)\n",
        "  x = burbuja(x)\n",
        "  print(x)\n",
        "  if len(x)%2 == 0:\n",
        "    return [x[(len(x)//2)-1], x[len(x)//2]]\n",
        "  else:\n",
        "    return x[len(x)//2]\n",
        "\n",
        "\n",
        "#Controlar Entradas (arreglo)\n",
        "def esListaE(lista):\n",
        "    y = input(lista)\n",
        "    return [int(x) for x in y.split(\",\")]\n",
        "\n",
        "# Programa principal\n",
        "\n",
        "listaVectorE = esListaE('Arreglo para sacar mediana: ')\n",
        "medianaVectorE = medianaE(listaVectorE)\n",
        "print(\"La mediana es: \",medianaVectorE)"
      ]
    },
    {
      "cell_type": "markdown",
      "metadata": {
        "id": "bBgakkrLzAmr"
      },
      "source": [
        "#### Reales\n",
        "Dado un arreglo $x$ **real** de longitud $n$ y $n \\in \\mathbb{N}$.Calcular su mediana.\n",
        "\n",
        "La mediana es el numero que queda en la mitad del arreglo despues de ser ordenado. Si el arreglo es par, definimos que **tiene dos medianas**, es decir los dos valores centrales del arreglo, por el contrario la mediana sera el dato central.\n",
        "\n",
        "**Nota:** La funcion burbuja describe un metodo para ordenar numeros, la consideraremos una funcion primitiva por lo que no la describiremos a continuacion, pero tendremos en cuenta que despues de copiar $x$:\n",
        "\n",
        "\\begin{equation*}\n",
        "x= burbuja(x)\n",
        "\\end{equation*}\n",
        "\n",
        "Y con base en este calculo, podemos realizar la funcion mediana:\n",
        "\n",
        "\\begin{equation*}\n",
        "  \\begin{array}{crll}\n",
        "    \\text{medianaR: } & \\mathbb{R}^{n} & \\longrightarrow & \\mathbb{R}^{1,2} \\\\\n",
        "      & (x) & \\longmapsto &  \\begin{cases}\n",
        "      \\left\\{ x_{\\left\\lfloor \\frac{n}{2} - 1 \\right\\rfloor}, x_{\\left\\lfloor \\frac{n}{2} \\right\\rfloor} \\right\\} & \\text{si } n \\text{ es par} \\\\\n",
        "      \\left\\{ x_{\\left\\lfloor\\frac{n}{2}\\right\\rfloor} \\right\\} & \\text{en otro caso }\n",
        "      \\end{cases}\n",
        "      \\\\\n",
        "  \\end{array}\n",
        "\\end{equation*}"
      ]
    },
    {
      "cell_type": "code",
      "execution_count": null,
      "metadata": {
        "colab": {
          "base_uri": "https://localhost:8080/"
        },
        "id": "yC-DtBVLmujK",
        "outputId": "00907cae-7e5a-4db7-b6fa-feec89133a62"
      },
      "outputs": [
        {
          "name": "stdout",
          "output_type": "stream",
          "text": [
            "Arreglo para sacar mediana: 5.5,5.5,5.5\n",
            "[5.5, 5.5, 5.5]\n",
            "[5.5, 5.5, 5.5]\n",
            "La mediana es:  5.5\n"
          ]
        }
      ],
      "source": [
        "def burbuja(x):\n",
        "  n=len(x)\n",
        "  for i in range(n-1):\n",
        "    for j in range(i+1,n):\n",
        "      if(x[i]>x[j]):\n",
        "        x[i], x[j] = x[j], x[i]\n",
        "  return x\n",
        "\n",
        "def medianaR(x):\n",
        "  x = x.copy()\n",
        "  print(x)\n",
        "  x = burbuja(x)\n",
        "  print(x)\n",
        "  if len(x)%2 == 0:\n",
        "    return [x[(len(x)//2)-1], x[len(x)//2]]\n",
        "  else:\n",
        "    return x[len(x)//2]\n",
        "\n",
        "\n",
        "#Controlar Entradas (arreglo)\n",
        "def esListaR(lista):\n",
        "    y = input(lista)\n",
        "    return [float(x) for x in y.split(\",\")]\n",
        "\n",
        "# Programa principal\n",
        "\n",
        "listaVectorR = esListaR('Arreglo para sacar mediana: ')\n",
        "medianaVectorR = medianaR(listaVectorR)\n",
        "print(\"La mediana es: \",medianaVectorR)"
      ]
    },
    {
      "cell_type": "markdown",
      "metadata": {
        "id": "EAl_PtpPYaik"
      },
      "source": [
        "## Mover ceros\n",
        "Dado un arreglo $x = [x_1, x_2, . . . , x_n]$ de longitud $n$, donde $n \\in \\mathbb{N}$ y $x$ es un arreglo de números reales, la función busca mover todos los ceros que aparezcan en dicho arreglo hacia el final, sin alterar el orden relativo de los elementos no cero.\n",
        "\n",
        "Para ello se utilizan las siguientes funciones.\n",
        "\n",
        "\\begin{equation*}\n",
        "  \\begin{array}{crll}\n",
        "    \\text{quitaCeros: } & \\mathbb{R}^{n}  & \\longrightarrow & \\mathbb{R}^{m} \\\\\n",
        "      & (x) & \\longmapsto &  \\displaystyle \\{ x_i \\mid x_i \\neq 0 \\}\n",
        "      \\\\\n",
        "  \\end{array}\n",
        "\\end{equation*}\n",
        "\n",
        "Donde:\n",
        "\\begin{equation*}\n",
        "  m \\leq n\n",
        "\\end{equation*}\n",
        "\n",
        "Pues $m$ sera el arreglo sin ceros. Y el egundo paso es poner tantos ceros como espacios tenia originalmente el vector:\n",
        "\n",
        "\\begin{equation*}\n",
        "  \\begin{array}{crll}\n",
        "    \\text{pegarCeros: } & \\mathbb{R}^{n} \\times \\mathbb{R}^{m}  & \\longrightarrow & \\mathbb{R}^{n} \\\\\n",
        "      & (x,y) & \\longmapsto &  \\displaystyle \\oplus_{i=0}^{n-1} \\begin{cases}\n",
        "        y_i & \\text{si } i \\leq m \\text{ para algún } k>1\\\\\n",
        "        0  & \\text{en otro caso}\n",
        "      \\end{cases}\n",
        "      \\\\\n",
        "  \\end{array}\n",
        "\\end{equation*}\n",
        "\n",
        "Y la funcion principal seria:\n",
        "\n",
        "\\begin{equation*}\n",
        "  \\begin{array}{crll}\n",
        "    \\text{mueveCeros: } & \\mathbb{R}^{n}  & \\longrightarrow & \\mathbb{R}^{n} \\\\\n",
        "      & (x) & \\longmapsto &  \\displaystyle pegarCeros(x, quitaCeros(x))\n",
        "      \\\\\n",
        "  \\end{array}\n",
        "\\end{equation*}"
      ]
    },
    {
      "cell_type": "code",
      "execution_count": null,
      "metadata": {
        "colab": {
          "base_uri": "https://localhost:8080/"
        },
        "id": "vi1dExDpYe06",
        "outputId": "970e07dc-8ae0-459a-e115-caa290ff83c9"
      },
      "outputs": [
        {
          "name": "stdout",
          "output_type": "stream",
          "text": [
            "Arreglo para mover ceros: 0,10,10,1,0,0\n",
            "[10.0, 10.0, 1.0, 0, 0, 0]\n"
          ]
        }
      ],
      "source": [
        "def quitaCeros(x):\n",
        "  y = []\n",
        "  for i in range(len(x)):\n",
        "    if(x[i] != 0):\n",
        "      y.append(x[i])\n",
        "  return y\n",
        "\n",
        "def pegaCeros(x, y):\n",
        "  while(len(x)>len(y)):\n",
        "    y.append(0)\n",
        "  return y\n",
        "\n",
        "def mueveCeros(x):\n",
        "  return pegaCeros(x, quitaCeros(x))\n",
        "\n",
        "#Controlar Entradas (arreglo)\n",
        "def esLista(lista):\n",
        "    y = input(lista)\n",
        "    return [float(x) for x in y.split(\",\")]\n",
        "\n",
        "# Programa principal\n",
        "\n",
        "vector = esLista('Arreglo para mover ceros: ')\n",
        "cerosFinal = mueveCeros(vector)\n",
        "print(\"El nuevo vector es: \",cerosFinal)"
      ]
    },
    {
      "cell_type": "markdown",
      "metadata": {
        "id": "5X8kPcje468v"
      },
      "source": [
        "##### Version generalizada\n",
        "A continuacion se muestra una version general para reposicionar numeros en un arreglo:\n",
        "\\begin{equation*}\n",
        "  \\begin{array}{crll}\n",
        "    \\text{quitar: } & \\mathbb{R}^{n}  & \\longrightarrow & \\mathbb{R}^{m} \\\\\n",
        "      & (x,y) & \\longmapsto &  \\displaystyle \\{ x_i \\mid x_i \\neq y \\}\n",
        "      \\\\\n",
        "  \\end{array}\n",
        "\\end{equation*}\n"
      ]
    },
    {
      "cell_type": "code",
      "execution_count": null,
      "metadata": {
        "colab": {
          "base_uri": "https://localhost:8080/"
        },
        "id": "ZsXim6qy_of3",
        "outputId": "69cd7845-2887-4502-9abd-1dfe98070b80"
      },
      "outputs": [
        {
          "name": "stdout",
          "output_type": "stream",
          "text": [
            "[1, 1, 1, 1, 1, 1, 3, 4, 5, 5, 6, 8, 0, 0, 0, 0, 0, 0, 0, 0]\n"
          ]
        }
      ],
      "source": [
        "def quitar(x,y):\n",
        "  a = []\n",
        "  n = len(x)\n",
        "  for i in range(n): # for y in x:\n",
        "    if x[i] != y:\n",
        "      a.append(x[i])\n",
        "  return a\n",
        "\n",
        "#para el caso de 1 izq y 0 der\n",
        "\n",
        "def cerosyUnos(x):\n",
        "  k = quitar(x,0)\n",
        "  d0= len(x) - len(k)\n",
        "  l = quitar(k,1)\n",
        "  d1= len(k)-len(l)\n",
        "  return [1 for i in range(d1)] + l + [0 for i in range(d0)]\n",
        "\n",
        "#Programa principal\n",
        "a = [0,3,1,0,4,0,5,1,5,0,1,6,8,0,0,0,1,0,1,1]\n",
        "b = cerosyUnos(a)\n",
        "print(b)"
      ]
    },
    {
      "cell_type": "markdown",
      "metadata": {
        "id": "68DWMfzDJIst"
      },
      "source": [
        "## Binario a decimal (SN)\n",
        "Suponiendo que un arreglo de enteros $x$ esta compuesto solo por ceros y unos $x_i \\in \\{0,1\\} \\ $y que el arreglo representa un numero binario al revez. Hacer un algoritmo que calcule su representacion en el sistema decimal.\n",
        "\n",
        "La forma en la que trabaja el algoritmo es con base en una sumatoria que nos permite evaluar cada posicion binaria en su forma decimal, teniendo en cuenta las potencias de 2 ya que el sistema binario solo tiene dos digitos.\n",
        "\n",
        "\\begin{equation*}\n",
        "D = \\sum_{i=0}^{|x|-1} x_i \\times 2^i\n",
        "\\end{equation*}\n",
        "\n",
        "**Donde:**  \n",
        "- $D$ es el número decimal resultante.  \n",
        "- $x_i$ es el valor en la posición $i$ del arreglo invertido.  \n",
        "- $2^i$ es el peso posicional en base binaria.  \n",
        "- $|x|-1$ es la cantidad de posiciones en el arreglo.  \n",
        "\n",
        "**Por ejemplo:**  \n",
        "Si $a = [1, 0, 1]$:  \n",
        "\\begin{equation*}\n",
        "D = x_0 \\cdot 2^0 + x_1 \\cdot 2^1 + x_2 \\cdot 2^2 =1 \\cdot 2^0 + 0 \\cdot 2^1 + 1 \\cdot 2^2 = 1 + 0 + 4 = 5\n",
        "\\end{equation*}\n",
        "\n",
        "La conversión funciona porque el sistema binario es una representación basada en potencias de 2, donde cada dígito tiene un valor según su posición. Por ende la funcion seria asi:\n",
        "\n",
        "\\begin{equation*}\n",
        "  \\begin{array}{crll}\n",
        "    \\text{binarioaDecimal: } & \\{0,1\\}^{n}  & \\longrightarrow & \\mathbb{Z}^{+} \\\\\n",
        "      & (x) & \\longmapsto & \\displaystyle \\sum_{i=0}^{n-1} x_i \\cdot 2^i \\\\\n",
        "  \\end{array}\n",
        "\\end{equation*}\n",
        "\n"
      ]
    },
    {
      "cell_type": "code",
      "execution_count": null,
      "metadata": {
        "colab": {
          "base_uri": "https://localhost:8080/"
        },
        "id": "v1Rdp6jaU7gv",
        "outputId": "1229ed4a-576e-49ba-cbba-d0b17299e91b"
      },
      "outputs": [
        {
          "name": "stdout",
          "output_type": "stream",
          "text": [
            "Arreglo binario: 1, 1, 1, 1, 1, 0, 0, 0, 0, 1, 1\n",
            "El numero en decimal es:  1567\n"
          ]
        }
      ],
      "source": [
        "def binarioaDecimal(x):\n",
        "  s = 0\n",
        "  p = 1\n",
        "  for i in range(len(x)):\n",
        "    s+= x[i] * p # es totalmente eqivalente a 2**i\n",
        "    p *= 2\n",
        "  return s\n",
        "\n",
        "#Controlar Entradas (arreglo)\n",
        "def esLista(lista):\n",
        "    y = input(lista)\n",
        "    return [int(x) for x in y.split(\",\")]\n",
        "\n",
        "# Programa principal\n",
        "\n",
        "binario = esLista('Arreglo binario: ')\n",
        "decimal = binarioaDecimal(binario)\n",
        "print(\"El numero en decimal es: \",decimal)"
      ]
    },
    {
      "cell_type": "markdown",
      "metadata": {
        "id": "9lgPHdMJk4UI"
      },
      "source": [
        "## Decimal a binario (SN)\n",
        "Dado un numero $y$, donde $y \\in \\mathbb{Z}^{+}$, hacer un algoritmo que calcule el arreglo invertido de posiciones decimales que corresponden a $y$\n",
        "\n",
        "Ahora lo que podemos aplica es la division repetida del numero $y$ y sus reducciones teniendo en cuenta su residuo, tal que asi ($a$ es el arreglo que vamos a constrir)\n",
        "\n",
        "El primer bit (posición 0) es el residuo de dividir $y$ entre 2, o el modulo:\n",
        "\\begin{equation*}\n",
        "  a_0 = y \\mod 2\n",
        "\\end{equation*}\n",
        "\n",
        "El segundo bit (posición 1) es modulo entre el resultado de la division entera anterior y dos:\n",
        "\\begin{equation*}\n",
        "  a_1 = \\left\\lfloor \\frac{a_0}{2} \\right\\rfloor \\mod 2\n",
        "\\end{equation*}\n",
        "\n",
        "El tercer bit (posición 2) tendra la misma logica.\n",
        "\\begin{equation*}\n",
        "  a_2 = \\left\\lfloor \\frac{a_1}{2} \\right\\rfloor \\mod 2\n",
        "\\end{equation*}\n",
        "Esto hasta que se llegue a 0.\n",
        "Asi entonces la funcion que describe este comportamiento es:\n",
        "\n",
        "Donde:\n",
        "\n",
        "\\begin{equation*}\n",
        "y_0 = y\n",
        "\\end{equation*}\n",
        "\n",
        "\\begin{equation*}\n",
        "y_n = \\left\\lfloor \\frac{y_(n-1)}{2} \\right\\rfloor\n",
        "\\end{equation*}\n",
        "\n",
        "\\begin{equation*}\n",
        "  \\begin{array}{crll}\n",
        "    \\text{decimalaBinario: } & \\mathbb{Z}^{+}  & \\longrightarrow & \\{0,1\\}^{n} \\\\\n",
        "      & (y) & \\longmapsto & \\begin{cases}\n",
        "        0 & \\text{si } y = 0\\\\\n",
        "        \\{mod(y_0,2),\\dots, mod(y_n,2)\\}  & \\text{en otro caso}\n",
        "      \\end{cases}\n",
        "      \\\\\n",
        "  \\end{array}\n",
        "\\end{equation*}\n",
        "\n",
        "Mientras:\n",
        "\n",
        "\\begin{equation*}\n",
        "y<0\n",
        "\\end{equation*}\n",
        "\n",
        "\n"
      ]
    },
    {
      "cell_type": "code",
      "execution_count": null,
      "metadata": {
        "colab": {
          "base_uri": "https://localhost:8080/"
        },
        "id": "Y_MVzDAWl3Mi",
        "outputId": "1ab3dc16-22bf-4a88-f1a9-75d57e625644"
      },
      "outputs": [
        {
          "name": "stdout",
          "output_type": "stream",
          "text": [
            "Numero decimal: 389\n",
            "El numero en binario invertido es:  [1, 0, 1, 0, 0, 0, 0, 1, 1]\n",
            "[1, 1, 0, 0, 0, 0, 1, 0, 1]\n"
          ]
        }
      ],
      "source": [
        "def decimalaBinario(y):\n",
        "  d = []\n",
        "  if y == 0:\n",
        "    return [0]\n",
        "  else:\n",
        "    while y > 0:\n",
        "      d.append(y % 2)\n",
        "      b=int(y/2)\n",
        "      y=b\n",
        "    return d\n",
        "\n",
        "#Controlar entradas\n",
        "def naturales(mnsj2):\n",
        "  y = int(input(mnsj2))\n",
        "  while(y < 0):\n",
        "    print(y,'no es un numero natural, intente de nuevo')\n",
        "    y = int(input(mnsj2))\n",
        "  return y\n",
        "\n",
        "# Programa principal\n",
        "deDecimal = naturales('Numero decimal: ')\n",
        "aBinario = decimalaBinario(deDecimal)\n",
        "print(\"El numero en binario invertido es: \",aBinario)\n",
        "\n",
        "#funcion pero recursiva\n",
        "b=[]\n",
        "def decimalbi(n,b):\n",
        "  if n == 0:\n",
        "    return b\n",
        "  else:\n",
        "    decimalbi(int(n/2),b)\n",
        "    b.append(n%2)\n",
        "  return b\n",
        "\n",
        "print(decimalbi(389,b))"
      ]
    },
    {
      "cell_type": "markdown",
      "metadata": {
        "id": "YJKs6cfBDLAL"
      },
      "source": [
        "## MCD para un arreglo\n",
        "Dado un arreglo de enteros positivos $x$, es decir donde $x_i \\in \\mathbb{Z}^{+}$. Calcular el MCD entre los elementos de todo el arreglo.\n",
        "\n",
        "Para ello se recuerda el algoritmo de Euclides, usado en el ejercicio de primos relativos mas arriba. Este se define de la siguiente forma:\n",
        "\\begin{equation*}\n",
        "  \\begin{array}{crll}\n",
        "    \\text{mcd: } & \\mathbb{Z}^{+} & \\longrightarrow & \\mathbb{Z}^{+} \\\\\n",
        "      & (a,b) & \\longmapsto &  \\begin{cases}\n",
        "        a &  \\text{si} \\ b=0,  \\\\\n",
        "        mcd(b, \\ mod(a,b)) & \\text{si} \\ b \\neq 0.\n",
        "      \\end{cases}\n",
        "      \\\\\n",
        "  \\end{array}\n",
        "\\end{equation*}\n",
        "\n",
        "Lo que permite este algoritmo recursivo es que mientras el residuo del modulo entre $a$ y $b$ sea diferente de 0 se debe repetir la operacion con $b$ y el residuo anterior asi entonces cuando $b=0$ el resultado previo (o sea $a$) sera el maximo comun divisor, tal como se puede ver acontinuacion:\n",
        "\n",
        "\\begin{equation*}\n",
        "a_0 = a, \\quad b_0 = b\n",
        "\\end{equation*} \n",
        "\n",
        "\\begin{equation*}\n",
        "a_1 = b_0, \\quad b_1 = mod(a_0 , b_0)\n",
        "\\end{equation*}\n",
        "\n",
        "\\begin{equation*}\n",
        "a_2 = b_1, \\quad b_2 = mod(a_1 , b_1)\n",
        "\\end{equation*}\n",
        "\n",
        "\\begin{equation*}\n",
        "\\vdots\n",
        "\\end{equation*}\n",
        "\n",
        "\\begin{equation*}\n",
        "\\text{Hasta que } b_n = 0, \\ \\text{entonces } \\text{mcd}(a, b) = a_n\n",
        "\\end{equation*}\n",
        "\n",
        "Teniendo esto en cuenta, podemos realizar el algoritmo que nos permita hallar el MCD en un arreglo, por lo que sabemos que el MCD se comparte en relaciones binarias entre los elementos de un arreglo, por ende se debe revisar por parejas esta condicion. Tal que asi:\n",
        "\n",
        "\\begin{equation*}\n",
        "  \\begin{array}{crll}\n",
        "    \\text{mcdArreglo: } & (\\mathbb{Z}^{+})^{n} & \\longrightarrow & \\mathbb{Z}^{+} \\\\\n",
        "      & (x) & \\longmapsto &  \n",
        "        \\text{mcd}( \\text{mcd}(\\dots (\\text{mcd}(x_0, x_1), x_2) \\dots ),\n",
        "        x_{n-1})  \\\\\n",
        "  \\end{array}\n",
        "\\end{equation*}\n",
        "\n",
        "Es decir revisar el MCD que comparten todos los elementos, realizando la revision por parejas. En un \"ciclo\" hasta $n-1$"
      ]
    },
    {
      "cell_type": "code",
      "execution_count": null,
      "metadata": {
        "colab": {
          "base_uri": "https://localhost:8080/"
        },
        "id": "My3L1PtTKTZ4",
        "outputId": "bd3db607-d3d8-42a9-a39f-6fa9f2ebb2bf"
      },
      "outputs": [
        {
          "name": "stdout",
          "output_type": "stream",
          "text": [
            "Arreglo binario: 0,1\n",
            "El MCD es:  1\n"
          ]
        }
      ],
      "source": [
        "def mcd(a, b):\n",
        "  if b == 0:\n",
        "    return a\n",
        "  else:\n",
        "    return mcd(b, (a%b))\n",
        "\n",
        "def mcdArreglo(x):\n",
        "  n = len(x)\n",
        "  s = x[0]\n",
        "  for i in range(1, n):\n",
        "    s = mcd(s, x[i])\n",
        "  return s\n",
        "\n",
        "#Controlar Entradas (arreglo)\n",
        "def esLista(lista):\n",
        "    y = input(lista)\n",
        "    return [int(x) for x in y.split(\",\")]\n",
        "\n",
        "# Programa principal\n",
        "\n",
        "listaMCD = esLista('Arreglo para mcd: ')\n",
        "MCDdeLista = mcdArreglo(listaMCD)\n",
        "print(\"El MCD es: \",MCDdeLista)\n"
      ]
    },
    {
      "cell_type": "markdown",
      "metadata": {
        "id": "gUdCyMLYP6oU"
      },
      "source": [
        "## MCM para un arreglo\n",
        "\n",
        "Dado un arreglo de enteros positivos $x$, es decir donde $x_i \\in \\mathbb{Z}^{+}$. Calcular el MCM entre los elementos de todo el arreglo.\n",
        "\n",
        "Para ello usare la relacion existente entre el MCM y el MCD, descrita tal que asi:\n",
        "\n",
        "\\begin{equation*}\n",
        "mcm(a, b) = \\frac{|a \\cdot b|}{mcd(a, b)}\n",
        "\\end{equation*}\n",
        "\n",
        "El producto de dos números $a \\cdot b$ es igual al producto de su MCD y su MCM. Esto se debe a que el MCD \"elimina\" los factores comunes, mientras que el MCM los \"incluye\". Por lo tanto, al dividir el producto de los números por su MCD, obtenemos el MCM. **NOTA**:el valor absoluto se puede eliminar de esta relacion ya que el arreglo es estrictamente de positivos.\n",
        "\n",
        "\\begin{equation*}\n",
        "  \\begin{array}{crll}\n",
        "    \\text{mcd: } & \\mathbb{Z}^{+} & \\longrightarrow & \\mathbb{Z}^{+} \\\\\n",
        "      & (a,b) & \\longmapsto &  \\begin{cases}\n",
        "        a &  \\text{si} \\ b=0,  \\\\\n",
        "        mcd(b, \\ mod(a,b)) & \\text{si} \\ b \\neq 0.\n",
        "      \\end{cases}\n",
        "      \\\\\n",
        "  \\end{array}\n",
        "\\end{equation*}\n",
        "\n",
        "\\begin{equation*}\n",
        "  \\begin{array}{crll}\n",
        "    \\text{mcm: } & \\mathbb{Z}^{+} & \\longrightarrow & \\mathbb{Z}^{+} \\\\\n",
        "      & (a,b) & \\longmapsto &  \n",
        "        \\frac{a \\cdot b}{mcd(a,b)}\n",
        "      \\\\\n",
        "  \\end{array}\n",
        "\\end{equation*}\n",
        "\n",
        "Por ende de manera analoga podemos pensar como la funcion principal a la siguiente:\n",
        "\n",
        "\\begin{equation*}\n",
        "  \\begin{array}{crll}\n",
        "    \\text{mcdArreglo: } & (\\mathbb{Z}^{+})^{n} & \\longrightarrow & \\mathbb{Z}^{+} \\\\\n",
        "      & (x) & \\longmapsto &  \n",
        "        \\text{mcm}( \\text{mcm}(\\dots (\\text{mcm}(x_0, x_1), x_2) \\dots ),\n",
        "        x_{n-1})  \\\\\n",
        "  \\end{array}\n",
        "\\end{equation*}\n",
        "\n",
        "Es decir como la comprobacion binaria de el MCM entre parejas de posicines en la lista."
      ]
    },
    {
      "cell_type": "code",
      "execution_count": null,
      "metadata": {
        "colab": {
          "base_uri": "https://localhost:8080/"
        },
        "id": "YmGonCUCTyl4",
        "outputId": "f54ee57a-4e4f-43e4-d424-1dd994b01f1d"
      },
      "outputs": [
        {
          "name": "stdout",
          "output_type": "stream",
          "text": [
            "Arreglo para mcm: 5\n",
            "El MCM es:  5\n"
          ]
        }
      ],
      "source": [
        "def mcd(a, b):\n",
        "  if b == 0:\n",
        "    return a\n",
        "  else:\n",
        "    return mcd(b, (a%b))\n",
        "\n",
        "def mcm(a, b):\n",
        "  return (a * b)/mcd(a,b)\n",
        "\n",
        "def mcmArreglo(x):\n",
        "  n = len(x)\n",
        "  s = x[0]\n",
        "  for i in range(1, n):\n",
        "    s = mcm(s, x[i])\n",
        "  return int(s)\n",
        "\n",
        "#Controlar Entradas (arreglo)\n",
        "def esLista(lista):\n",
        "    y = input(lista)\n",
        "    return [int(x) for x in y.split(\",\")]\n",
        "\n",
        "# Programa principal\n",
        "\n",
        "listaMCM = esLista('Arreglo para mcm: ')\n",
        "MCMdeLista = mcmArreglo(listaMCM)\n",
        "print(\"El MCM es: \",MCMdeLista)"
      ]
    },
    {
      "cell_type": "markdown",
      "metadata": {
        "id": "sQj0ExZCaE_P"
      },
      "source": [
        "# $6. Conjuntos \\ como \\ arreglos $"
      ]
    },
    {
      "cell_type": "markdown",
      "metadata": {
        "id": "HrlKgdjZcyak"
      },
      "source": [
        "A continuacion se muestran las funciones individuales, su funcionamiento y su definicion, es importante aclarar que para la mayoria de funciones se utilizo como funcion primitiva la funcion de pertenencia o existencia."
      ]
    },
    {
      "cell_type": "markdown",
      "metadata": {
        "id": "n_H7it1GaSd2"
      },
      "source": [
        "## Union\n",
        "\n",
        "\\begin{equation*}\n",
        "  \\begin{array}{crll}\n",
        "    \\text{union: } & \\mathbb{T}^{n} \\times \\mathbb{T}^{m}  & \\longrightarrow & \\mathbb{T}^{k} \\\\\n",
        "      & (A,B) & \\longmapsto &  \n",
        "       A \\cup B = \\{ z \\mid z \\in A \\lor z \\in B \\}  \\\\\n",
        "  \\end{array}\n",
        "\\end{equation*}\n",
        "\n",
        "Donde $z$ representa $x_i, y_i$"
      ]
    },
    {
      "cell_type": "code",
      "execution_count": null,
      "metadata": {
        "colab": {
          "base_uri": "https://localhost:8080/"
        },
        "id": "H-Vdq2mtakiU",
        "outputId": "3743d3c1-2cec-4cc9-877a-4391d3612367"
      },
      "outputs": [
        {
          "name": "stdout",
          "output_type": "stream",
          "text": [
            "Arreglo uno: 1,1,1,1\n",
            "Arreglo dos: 2\n",
            "Union:  [1, 1, 1, 1, 2]\n"
          ]
        }
      ],
      "source": [
        "def pertenece(x, A):\n",
        "  conjunto = len(A)\n",
        "  for elemento in range(conjunto):\n",
        "      if A[elemento] == x:\n",
        "          return True\n",
        "  return False\n",
        "\n",
        "def union(A, B):\n",
        "    c = A.copy() #es el nuevo conjunto\n",
        "    for i in range(len(B)):\n",
        "        if not pertenece(B[i],c):\n",
        "              c.append(B[i])\n",
        "    return c\n",
        "\n",
        "#Controlar Entradas (arreglo)\n",
        "def esLista(lista):\n",
        "    y = input(lista)\n",
        "    return [int(x) for x in y.split(\",\")]\n",
        "\n",
        "# Programa principal\n",
        "\n",
        "unArreglo = esLista('Arreglo uno: ')\n",
        "segArreglo = esLista('Arreglo dos: ')\n",
        "unir = union(unArreglo, segArreglo)\n",
        "print(\"Union: \",unir)"
      ]
    },
    {
      "cell_type": "markdown",
      "metadata": {
        "id": "uDgE3V_BaUSb"
      },
      "source": [
        "## Interseccion\n",
        "\n",
        "\\begin{equation*}\n",
        "  \\begin{array}{crll}\n",
        "    \\text{interseccion: } & \\mathbb{T}^{n} \\times \\mathbb{T}^{m}  & \\longrightarrow & \\mathbb{T}^{k} \\\\\n",
        "      & (A,B) & \\longmapsto &  \n",
        "       A \\cap B = \\{ z \\mid z \\in A \\land z \\in B \\}  \\\\\n",
        "  \\end{array}\n",
        "\\end{equation*}\n",
        "\n",
        "Donde $z$ representa $x_i, y_i$"
      ]
    },
    {
      "cell_type": "code",
      "execution_count": null,
      "metadata": {
        "colab": {
          "base_uri": "https://localhost:8080/"
        },
        "id": "AdYascDhalol",
        "outputId": "022bb756-31f5-4e21-9b0d-c36b65f215cb"
      },
      "outputs": [
        {
          "name": "stdout",
          "output_type": "stream",
          "text": [
            "Arreglo uno: 2,21,1,2,2,2,2\n",
            "Arreglo dos: 1,21\n",
            "Interseccion:  [21, 1]\n"
          ]
        }
      ],
      "source": [
        "def interseccion(A, B):\n",
        "  C = []\n",
        "  for i in A:\n",
        "      if pertenece(i,B) and not pertenece(i,C):\n",
        "          C.append(i)\n",
        "  return C\n",
        "\n",
        "#Controlar Entradas (arreglo)\n",
        "def esLista(lista):\n",
        "    y = input(lista)\n",
        "    return [int(x) for x in y.split(\",\")]\n",
        "\n",
        "# Programa principal\n",
        "\n",
        "unoArreglo = esLista('Arreglo uno: ')\n",
        "segunArreglo = esLista('Arreglo dos: ')\n",
        "intersectar = interseccion(unoArreglo, segunArreglo)\n",
        "print(\"Interseccion: \",intersectar)"
      ]
    },
    {
      "cell_type": "markdown",
      "metadata": {
        "id": "NxoDvMWEaXNj"
      },
      "source": [
        "## Diferencia\n",
        "\n",
        "\\begin{equation*}\n",
        "  \\begin{array}{crll}\n",
        "    \\text{diferencia: } & \\mathbb{T}^{n} \\times \\mathbb{T}^{m}  & \\longrightarrow & \\mathbb{T}^{k} \\\\\n",
        "      & (A,B) & \\longmapsto &  \n",
        "       A - B = \\{ z \\mid z \\in A \\land z \\notin B \\}  \\\\\n",
        "  \\end{array}\n",
        "\\end{equation*}\n",
        "\n",
        "Donde $z$ representa $x_i, y_i$"
      ]
    },
    {
      "cell_type": "code",
      "execution_count": null,
      "metadata": {
        "colab": {
          "base_uri": "https://localhost:8080/"
        },
        "id": "421tnx4mamUa",
        "outputId": "132efbb4-f894-44e5-caa3-c846c0e1b7c2"
      },
      "outputs": [
        {
          "name": "stdout",
          "output_type": "stream",
          "text": [
            "Arreglo uno: 1,2,3,1\n",
            "Arreglo dos: 1,1,1\n",
            "Diferencia:  [2, 3]\n"
          ]
        }
      ],
      "source": [
        "def pertenece(x, A):\n",
        "  conjunto = len(A)\n",
        "  for elemento in range(conjunto):\n",
        "      if A[elemento] == x:\n",
        "          return True\n",
        "  return False\n",
        "\n",
        "def diferencia(A, B):\n",
        "    C = []\n",
        "    for x in A:\n",
        "        if not pertenece(x, B) and not pertenece(x,C):\n",
        "            C.append(x)\n",
        "    return C\n",
        "\n",
        "#Controlar Entradas (arreglo)\n",
        "def esLista(lista):\n",
        "    y = input(lista)\n",
        "    return [int(x) for x in y.split(\",\")]\n",
        "\n",
        "# Programa principal\n",
        "\n",
        "primArreglo = esLista('Arreglo uno: ')\n",
        "dosArreglo = esLista('Arreglo dos: ')\n",
        "diferenciacion = diferencia(primArreglo, dosArreglo)\n",
        "print(\"Diferencia: \",diferenciacion)"
      ]
    },
    {
      "cell_type": "markdown",
      "metadata": {
        "id": "IKmFozXgaY4s"
      },
      "source": [
        "## Diferencia Simetrica\n",
        "\n",
        "\\begin{equation*}\n",
        "  \\begin{array}{crll}\n",
        "    \\text{diferenciaSimetrica: } & \\mathbb{T}^{n} \\times \\mathbb{T}^{m}  & \\longrightarrow & \\mathbb{T}^{k} \\\\\n",
        "      & (A,B) & \\longmapsto &  \n",
        "       A \\triangle B = \\{ z \\mid (z \\in A \\land z \\notin B) \\lor (z \\in B \\land z \\notin A) \\} \\\\\n",
        "  \\end{array}\n",
        "\\end{equation*}\n",
        "\n",
        "Donde $z$ representa $x_i, y_i$"
      ]
    },
    {
      "cell_type": "code",
      "execution_count": null,
      "metadata": {
        "colab": {
          "base_uri": "https://localhost:8080/"
        },
        "id": "FVZ3Xlroam4G",
        "outputId": "2adeb62e-ce62-4c9f-dac0-3a3db8e4da11"
      },
      "outputs": [
        {
          "name": "stdout",
          "output_type": "stream",
          "text": [
            "Arreglo uno: 1,1,3,4\n",
            "Arreglo dos: 3,5,6\n",
            "Diferencia Simetrica:  [1, 4, 5, 6]\n"
          ]
        }
      ],
      "source": [
        "def pertenece(x, A):\n",
        "  conjunto = len(A)\n",
        "  for elemento in range(conjunto):\n",
        "      if A[elemento] == x:\n",
        "          return True\n",
        "  return False\n",
        "\n",
        "def diferenciaSimetrica(A, B):\n",
        "  c = []\n",
        "  for i in A:\n",
        "      if not pertenece(i, B) and not pertenece(i,c):\n",
        "          c.append(i)\n",
        "  for k in B:\n",
        "      if not pertenece(k, A) and not pertenece(k,c):\n",
        "          c.append(k)\n",
        "  return c\n",
        "\n",
        "#otraforma de hacer diferencia simetrica\n",
        "\n",
        "def difsim(A,B):\n",
        "  return union(diferencia(A,B), diferencia(B,A))\n",
        "\n",
        "#Controlar Entradas (arreglo)\n",
        "def esLista(lista):\n",
        "    y = input(lista)\n",
        "    return [int(x) for x in y.split(\",\")]\n",
        "\n",
        "# Programa principal\n",
        "\n",
        "arregloUno = esLista('Arreglo uno: ')\n",
        "arregloDos = esLista('Arreglo dos: ')\n",
        "simetrica = diferenciaSimetrica(arregloUno, arregloDos)\n",
        "print(\"Diferencia Simetrica: \",simetrica)"
      ]
    },
    {
      "cell_type": "markdown",
      "metadata": {
        "id": "dtSTVPpdaciK"
      },
      "source": [
        "## Pertenece\n",
        "\n",
        "\\begin{equation*}\n",
        "  \\begin{array}{crll}\n",
        "    \\text{pertenece: } & \\mathbb{T}^{n} \\times \\mathbb{T}^{m}  & \\longrightarrow & \\mathbb{T}^{k} \\\\\n",
        "      & (A,B) & \\longmapsto &  \n",
        "       x \\in A\\\\\n",
        "  \\end{array}\n",
        "\\end{equation*}\n",
        "\n",
        "Donde $z$ representa $x_i, y_i$"
      ]
    },
    {
      "cell_type": "code",
      "execution_count": null,
      "metadata": {
        "colab": {
          "base_uri": "https://localhost:8080/"
        },
        "id": "FfJx9zObanQ0",
        "outputId": "c4c7a3c0-b4d4-4086-b86a-cd9ee5f80498"
      },
      "outputs": [
        {
          "name": "stdout",
          "output_type": "stream",
          "text": [
            "Arreglo uno: 1,2,3\n",
            "Elemento: 6\n",
            "Pertenece?:  False\n"
          ]
        }
      ],
      "source": [
        "def pertenece1(x, conjunto):\n",
        "  for elemento in conjunto:\n",
        "      if elemento == x:\n",
        "          return True\n",
        "  return False\n",
        "\n",
        "#otra forma de hacer el pertenece\n",
        "def pertenece(x, A):\n",
        "  conjunto = len(A)\n",
        "  for elemento in range(conjunto):\n",
        "      if A[elemento] == x:\n",
        "          return True\n",
        "  return False\n",
        "\n",
        "#Controlar Entradas (arreglo)\n",
        "def esLista(lista):\n",
        "    y = input(lista)\n",
        "    return [int(x) for x in y.split(\",\")]\n",
        "\n",
        "# Programa principal\n",
        "arreglito = esLista('Arreglo uno: ')\n",
        "posicion = int(input('Elemento: '))\n",
        "existencia = pertenece(posicion, arreglito)\n",
        "print(\"Pertenece?: \",existencia)\n"
      ]
    },
    {
      "cell_type": "markdown",
      "metadata": {
        "id": "PrCVKKp1afSn"
      },
      "source": [
        "## Contenencia\n",
        "\n",
        "\\begin{equation*}\n",
        "  \\begin{array}{crll}\n",
        "    \\text{contenido: } & \\mathbb{T}^{n} \\times \\mathbb{T}^{m}  & \\longrightarrow & \\mathbb{T}^{k} \\\\\n",
        "      & (A,B) & \\longmapsto &  \n",
        "       A \\subseteq B \\equiv \\forall z \\in A, \\ z \\in B\\\\\n",
        "  \\end{array}\n",
        "\\end{equation*}\n",
        "\n",
        "Donde $z$ representa $x_i, y_i$"
      ]
    },
    {
      "cell_type": "code",
      "execution_count": null,
      "metadata": {
        "colab": {
          "base_uri": "https://localhost:8080/"
        },
        "id": "6l9CLzltanpZ",
        "outputId": "b17ec10f-368e-4e9a-af53-6e8fd6f5554b"
      },
      "outputs": [
        {
          "name": "stdout",
          "output_type": "stream",
          "text": [
            "Arreglo uno: 1,2,3\n",
            "Arreglo dos: 2\n",
            "Diferencia Simetrica:  False\n"
          ]
        }
      ],
      "source": [
        "def pertenece(x, A):\n",
        "  conjunto = len(A)\n",
        "  for elemento in range(conjunto):\n",
        "      if A[elemento] == x:\n",
        "          return True\n",
        "  return False\n",
        "\n",
        "def contenido(A, B):\n",
        "  for x in A:\n",
        "      if not pertenece(x, B):\n",
        "          return False\n",
        "  return True\n",
        "\n",
        "#Controlar Entradas (arreglo)\n",
        "def esLista(lista):\n",
        "    y = input(lista)\n",
        "    return [int(x) for x in y.split(\",\")]\n",
        "\n",
        "# Programa principal\n",
        "\n",
        "arregloPrimero = esLista('Arreglo uno: ')\n",
        "arregloSegndo = esLista('Arreglo dos: ')\n",
        "contenencia = contenido(arregloPrimero, arregloSegndo)\n",
        "print(\"Diferencia Simetrica: \",contenencia)"
      ]
    },
    {
      "cell_type": "markdown",
      "metadata": {
        "id": "FzssJNFyqT-Y"
      },
      "source": [
        "## Menu con salir (basico)"
      ]
    },
    {
      "cell_type": "code",
      "execution_count": null,
      "metadata": {
        "id": "RK1nMoy4qWEz"
      },
      "outputs": [],
      "source": [
        "def union(A, B):\n",
        "    c = A.copy() #es el nuevo conjunto\n",
        "    for i in B: #in range(len(a))\n",
        "        if not pertenece(i,c):\n",
        "              c.append(i)\n",
        "    return c\n",
        "\n",
        "def interseccion(A, B):\n",
        "    C = []\n",
        "    for i in A:\n",
        "        if i in B:\n",
        "            C.append(i)\n",
        "    return C\n",
        "\n",
        "def diferencia(A, B):\n",
        "    C = []\n",
        "    for x in A:\n",
        "        if not pertenece(x, B):\n",
        "            C.append(x)\n",
        "    return C\n",
        "\n",
        "def diferenciaSimetrica(A, B):\n",
        "    c = []\n",
        "    for i in A:\n",
        "        if not pertenece(i, B):\n",
        "            c.append(i)\n",
        "    for k in B:\n",
        "        if not pertenece(k, A):\n",
        "            c.append(k)\n",
        "    return c\n",
        "\n",
        "def pertenece(x, A):\n",
        "  conjunto = len(A)\n",
        "  for elemento in range(conjunto):\n",
        "      if A[elemento] == x:\n",
        "          return True\n",
        "  return False\n",
        "\n",
        "def contenido(A, B):\n",
        "    for x in A:\n",
        "        if not pertenece(x, B):\n",
        "            return False\n",
        "    return True\n",
        "\n",
        "def menu(opciones):\n",
        "    for x in opciones:\n",
        "        print(x)\n",
        "    opt = int(input(\"Elige tu opción: \"))\n",
        "    while opt < 1 or opt > len(opciones):\n",
        "        print(\"Para qué te traje...\")\n",
        "        for x in opciones:\n",
        "            print(x)\n",
        "        opt = int(input(\"Elige tu opción: \"))\n",
        "    return opt\n",
        "\n",
        "#Controlar Entradas (arreglo)\n",
        "def esLista(lista):\n",
        "    y = input(lista)\n",
        "    return [int(x) for x in y.split(\",\")]\n",
        "\n",
        "# Programa principal\n",
        "opts = [\n",
        "    \"1. Unión\",\n",
        "    \"2. Intersección\",\n",
        "    \"3. Diferencia\",\n",
        "    \"4. Diferencia Simétrica\",\n",
        "    \"5. Pertenece\",\n",
        "    \"6. Contenido\",\n",
        "    \"7. Salir\"]\n",
        "\n",
        "o = menu(opts)\n",
        "\n",
        "\n",
        "while o != 7:\n",
        "  if o == 5:\n",
        "    elementoA = int(input(\"Elemento: \"))\n",
        "    conjuntoB = esLista('Conjuto: ')\n",
        "    print(pertenece(elementoA,conjuntoB))\n",
        "    o = menu(opts)\n",
        "  else:\n",
        "    arregloPrimero = esLista('Arreglo uno: ')\n",
        "    arregloSegndo = esLista('Arreglo dos: ')\n",
        "    if o == 1:\n",
        "        print(union(arregloPrimero,arregloSegndo))\n",
        "    elif o == 2:\n",
        "        print(interseccion(arregloPrimero,arregloSegndo))\n",
        "    elif o == 3:\n",
        "        print(diferencia(arregloPrimero,arregloSegndo))\n",
        "    elif o == 4:\n",
        "        print(diferenciaSimetrica(arregloPrimero,arregloSegndo))\n",
        "    elif o == 6:\n",
        "        print(contenido(arregloPrimero,arregloSegndo))\n",
        "    else:\n",
        "        print(\"ermano...\")\n",
        "    o = menu(opts)\n",
        "\n",
        "print(\"Te extra;are...\")"
      ]
    },
    {
      "cell_type": "markdown",
      "metadata": {
        "id": "aequDvui59OO"
      },
      "source": [
        "## Menu optimizado\n",
        "Verificar que el arreglo este ordenado y los elementos no esten repetidos. Se usa **sorted()** para ordenar el conjunto."
      ]
    },
    {
      "cell_type": "code",
      "execution_count": null,
      "metadata": {
        "colab": {
          "base_uri": "https://localhost:8080/"
        },
        "id": "WLD5F-eTsqIG",
        "outputId": "91f6c9f2-d9d5-4949-b944-f55876a11303"
      },
      "outputs": [
        {
          "name": "stdout",
          "output_type": "stream",
          "text": [
            "1. Unión\n",
            "2. Intersección\n",
            "3. Diferencia\n",
            "4. Diferencia Simétrica\n",
            "5. Pertenece\n",
            "6. Contenido\n",
            "7. Salir\n",
            "Elige tu opción: 1\n",
            "Arreglo uno: 1,1,1\n",
            "Arreglo dos: 2,3\n",
            "[1, 2, 3]\n",
            "1. Unión\n",
            "2. Intersección\n",
            "3. Diferencia\n",
            "4. Diferencia Simétrica\n",
            "5. Pertenece\n",
            "6. Contenido\n",
            "7. Salir\n",
            "Elige tu opción: 7\n",
            "Te extra;are...\n"
          ]
        }
      ],
      "source": [
        "def pertenece(x,A): #algoritmo de bisseccion(mas rapido)\n",
        "  return pertaux(x,A,0,len(A))\n",
        "\n",
        "def pertaux(x, A, ini, fin):\n",
        "  if(ini==fin): #si len es 0\n",
        "    return False\n",
        "  if(ini+1 == fin): # si len es 1\n",
        "    return A[ini]==x\n",
        "  m = (fin+ini)//2 # mitad\n",
        "  if(A[m]==x): #mitad es x\n",
        "    return True\n",
        "  if(A[m] < x): #x es mayo a mitad\n",
        "    ini = m+1 #ini es ahora desde la mitad mas uno\n",
        "  else:\n",
        "    fin = m #fin ahoa es m\n",
        "  return pertaux(x, A, ini, fin)\n",
        "\n",
        "\n",
        "def union(A, B):\n",
        "    c = A.copy() #es el nuevo conjunto\n",
        "    for i in range(len(B)):\n",
        "        if not pertenece(B[i],c):\n",
        "              c.append(B[i])\n",
        "    return c\n",
        "\n",
        "def interseccion(A, B):\n",
        "  C = []\n",
        "  for i in range(len(A)):\n",
        "      if pertenece(A[i],B) and not pertenece(A[i],C):\n",
        "          C.append(A[i])\n",
        "  return C\n",
        "\n",
        "def diferencia(A, B):\n",
        "  C = []\n",
        "  for x in range(len(A)):\n",
        "      if not pertenece(A[x], B):\n",
        "        C.append(A[x])\n",
        "  return C\n",
        "\n",
        "def diferenciaSimetrica(A, B):\n",
        "  return union(diferencia(A,B), diferencia(B,A))\n",
        "\n",
        "def contenido(A, B):\n",
        "    for x in range(len(A)):\n",
        "        if not pertenece(A[x], B):\n",
        "            return False\n",
        "    return True\n",
        "\n",
        "def menu(opciones):\n",
        "    for x in opciones:\n",
        "        print(x)\n",
        "    opt = int(input(\"Elige tu opción: \"))\n",
        "    while opt < 1 or opt > len(opciones):\n",
        "        print(\"Para qué te traje...\")\n",
        "        for x in opciones:\n",
        "            print(x)\n",
        "        opt = int(input(\"Elige tu opción: \"))\n",
        "    return opt\n",
        "\n",
        "#Controlar Entradas (arreglo)\n",
        "def esLista(lista):\n",
        "    y = input(lista)\n",
        "    return [int(x) for x in y.split(\",\")]\n",
        "\n",
        "def eliminarepetidos(A):\n",
        "  d = {}\n",
        "  for x in A:\n",
        "    d[x] = x\n",
        "  B = []\n",
        "  for x in d:\n",
        "    B.append(x)\n",
        "  return B\n",
        "\n",
        "def burbuja(x):\n",
        "  n=len(x)\n",
        "  for i in range(n-1):\n",
        "    for j in range(i+1,n):\n",
        "      if(x[i]>x[j]):\n",
        "        x[i], x[j] = x[j], x[i]\n",
        "  return x\n",
        "\n",
        "# Programa principal\n",
        "opts = [\n",
        "    \"1. Unión\",\n",
        "    \"2. Intersección\",\n",
        "    \"3. Diferencia\",\n",
        "    \"4. Diferencia Simétrica\",\n",
        "    \"5. Pertenece\",\n",
        "    \"6. Contenido\",\n",
        "    \"7. Salir\"]\n",
        "\n",
        "o = menu(opts)\n",
        "\n",
        "\n",
        "while o != 7:\n",
        "  if o == 5:\n",
        "    elementoA = int(input(\"Elemento: \"))\n",
        "    conjuntoB = eliminarepetidos(burbuja(esLista('Conjuto: ')))\n",
        "    print(pertenece(elementoA,conjuntoB))\n",
        "    o = menu(opts)\n",
        "  else:\n",
        "    arregloPrimero = eliminarepetidos(burbuja(esLista('Arreglo uno: ')))\n",
        "    arregloSegndo = eliminarepetidos(burbuja(esLista('Arreglo dos: ')))\n",
        "    if o == 1:\n",
        "        print(union(arregloPrimero,arregloSegndo))\n",
        "    elif o == 2:\n",
        "        print(interseccion(arregloPrimero,arregloSegndo))\n",
        "    elif o == 3:\n",
        "        print(diferencia(arregloPrimero,arregloSegndo))\n",
        "    elif o == 4:\n",
        "        print(diferenciaSimetrica(arregloPrimero,arregloSegndo))\n",
        "    elif o == 6:\n",
        "        print(contenido(arregloPrimero,arregloSegndo))\n",
        "    else:\n",
        "        print(\"ermano...\")\n",
        "    o = menu(opts)\n",
        "\n",
        "print(\"Te extra;are...\")"
      ]
    },
    {
      "cell_type": "markdown",
      "metadata": {
        "id": "qFY26f2jvcV9"
      },
      "source": [
        "# $7. Polinomios \\ como \\ arreglos $"
      ]
    },
    {
      "cell_type": "markdown",
      "metadata": {
        "id": "IaJdPgYSv1KX"
      },
      "source": [
        "Un polinomio de grado $ n $, como $P(x) = a_n x^n + a_{n-1} x^{n-1} + \\dots + a_1 x^1 + a_0 x^0$ se puede representar mediante un arreglo de reales de la siguiente manera: $(a_0, a_1, \\dots, a_{n-1}, a_n)$. Es decir de atras para adelante."
      ]
    },
    {
      "cell_type": "markdown",
      "metadata": {
        "id": "kjwlblJQzT6U"
      },
      "source": [
        "## Evaluar\n",
        "\n",
        "\\begin{equation*}\n",
        "  \\begin{array}{crll}\n",
        "    \\text{evaluar: } & \\mathbb{R}^{n} \\times \\mathbb{R}  & \\longrightarrow & \\mathbb{R} \\\\\n",
        "      & (p, x) & \\longmapsto & a_n x^n + a_{n-1} x^{n-1} + \\dots + a_1 x^1 + a_0 x^0\n",
        "      \\\\\n",
        "  \\end{array}\n",
        "\\end{equation*}\n",
        "\n",
        "Donde: $ p = [a_0, a_1, \\dots, a_{n-1}, a_n] $\n",
        "\n",
        "Sin embargo $ a_n x^n + a_{n-1} x^{n-1} + \\dots + a_1 x^1 + a_0 x^0 $ puede ser representado como:\n",
        "\n",
        "\\begin{equation*}\n",
        "  \\displaystyle \\sum^{n-1}_{i=0} a_{i} x^{i}\\\\\n",
        "\\end{equation*}\n"
      ]
    },
    {
      "cell_type": "code",
      "execution_count": null,
      "metadata": {
        "colab": {
          "base_uri": "https://localhost:8080/"
        },
        "id": "ENkwfxoQzpMZ",
        "outputId": "0ba1067f-2245-4c9a-88d0-033e2b0fd267"
      },
      "outputs": [
        {
          "name": "stdout",
          "output_type": "stream",
          "text": [
            "Polinomio uno: 1,2\n",
            "+2x+1\n",
            "Polinomio dos: 1,2\n",
            "+2x+1\n",
            "Evaluado en: 3\n",
            "+2x+1 = 7\n",
            "+2x+1 = 7\n"
          ]
        }
      ],
      "source": [
        "def evaluar(p,x):\n",
        "  s = 0\n",
        "  for i in range(len(p)):\n",
        "    s += p[i]*(x**i)\n",
        "  return s\n",
        "\n",
        "#Controlar Entradas (arreglo)\n",
        "def esLista(lista):\n",
        "    y = input(lista)\n",
        "    return [int(x) for x in y.split(\",\")]\n",
        "\n",
        "def polinomioBonito(P):\n",
        "  s = ''\n",
        "  for i in range(len(P)-1, -1, -1):\n",
        "    if(P[i]!=0):\n",
        "      if(P[i]>0):\n",
        "        s += '+'\n",
        "      s += str(P[i])\n",
        "      if(i>0):\n",
        "        s += 'x'\n",
        "        if(i>1):\n",
        "          s += '^'\n",
        "          s += str(i)\n",
        "  return s\n",
        "\n",
        "# Programa principal\n",
        "\n",
        "unArreglo = esLista('Polinomio uno: ')\n",
        "u = polinomioBonito(unArreglo)\n",
        "print(u)\n",
        "segArreglo = esLista('Polinomio dos: ')\n",
        "l = polinomioBonito(segArreglo)\n",
        "print(l)\n",
        "valor = int(input('Evaluado en: '))\n",
        "primer = evaluar(unArreglo, valor)\n",
        "segun = evaluar(segArreglo, valor)\n",
        "print(u,\"=\",primer)\n",
        "print(l,\"=\",segun)"
      ]
    },
    {
      "cell_type": "markdown",
      "metadata": {
        "id": "Gnz5JMdtzZtd"
      },
      "source": [
        "## Suma\n",
        "\n",
        "\\begin{equation*}\n",
        "  \\begin{array}{crll}\n",
        "    \\text{sumadePolinomios: } & \\mathbb{R}^{n} \\times \\mathbb{R}^{m}  & \\longrightarrow & \\mathbb{R}^{n \\ o \\ m} \\\\\n",
        "      & (x, y) & \\longmapsto & [a_0 + b_0, a_1 + b_1, \\dots]\n",
        "      \\\\\n",
        "  \\end{array}\n",
        "\\end{equation*}\n",
        "\n",
        "\n",
        "\n",
        "\n",
        "Donde: $ x = [a_0, a_1, \\dots, a_{n-1}, a_n] \\ $  y  $ \\ x = [b_0, b_1, \\dots, b_{m-1}, b_m] $\n",
        "\n",
        "Es importante aclarar que se suman solo las posiciones o grados iguales."
      ]
    },
    {
      "cell_type": "code",
      "execution_count": null,
      "metadata": {
        "colab": {
          "base_uri": "https://localhost:8080/"
        },
        "id": "NGETRUBFzpkF",
        "outputId": "6535e6d6-174c-4ef9-e272-c8b84bb1183b"
      },
      "outputs": [
        {
          "name": "stdout",
          "output_type": "stream",
          "text": [
            "Polinomio uno: 1,1,1,1,1,1\n",
            "+1x^5+1x^4+1x^3+1x^2+1x+1\n",
            "Polinomio dos: 1\n",
            "+1\n",
            "[2, 1, 1, 1, 1, 1]\n",
            "+1x^5+1x^4+1x^3+1x^2+1x+2\n"
          ]
        }
      ],
      "source": [
        "def sumadePolinomios(x,y):\n",
        "  n = len(x)\n",
        "  m = len(y)\n",
        "  if n <= m:\n",
        "    R = y.copy()\n",
        "    for i in range(n):\n",
        "      R[i] += x[i]\n",
        "  else:\n",
        "    R = x.copy()\n",
        "    for i in range(m):\n",
        "      R[i] += y[i]\n",
        "  return R\n",
        "\n",
        "#Controlar Entradas (arreglo)\n",
        "def esLista(lista):\n",
        "    y = input(lista)\n",
        "    return [int(x) for x in y.split(\",\")]\n",
        "\n",
        "def polinomioBonito(P):\n",
        "  s = ''\n",
        "  for i in range(len(P)-1, -1, -1):\n",
        "    if(P[i]!=0):\n",
        "      if(P[i]>0):\n",
        "        s += '+'\n",
        "      s += str(P[i])\n",
        "      if(i>0):\n",
        "        s += 'x'\n",
        "        if(i>1):\n",
        "          s += '^'\n",
        "          s += str(i)\n",
        "  return s\n",
        "\n",
        "#programa principal\n",
        "\n",
        "primArreglo = esLista('Polinomio uno: ')\n",
        "u = polinomioBonito(primArreglo)\n",
        "print(u)\n",
        "segunArreglo = esLista('Polinomio dos: ')\n",
        "l = polinomioBonito(segunArreglo)\n",
        "print(l)\n",
        "sumados = sumadePolinomios(primArreglo,segunArreglo)\n",
        "print(sumados)\n",
        "print(polinomioBonito(sumados))"
      ]
    },
    {
      "cell_type": "markdown",
      "metadata": {
        "id": "Fsz1U3ZfzbWq"
      },
      "source": [
        "## Resta\n",
        "\n",
        "\\begin{equation*}\n",
        "  \\begin{array}{crll}\n",
        "    \\text{restadePolinomios: } & \\mathbb{R}^{n} \\times \\mathbb{R}^{m}  & \\longrightarrow & \\mathbb{R}^{n \\ o \\ m} \\\\\n",
        "      & (x, y) & \\longmapsto & [a_0 + (-b_0), a_1 + (-b_1), \\dots]\n",
        "      \\\\\n",
        "  \\end{array}\n",
        "\\end{equation*}\n",
        "\n",
        "\n",
        "\n",
        "\n",
        "Donde: $ x = [a_0, a_1, \\dots, a_{n-1}, a_n] \\ $  y  $ \\ x = [b_0, b_1, \\dots, b_{m-1}, b_m] $\n",
        "\n",
        "Es importante aclarar que se suman solo las posiciones o grados iguales.\n",
        "A parte se debe usar la multiplicacion escalar, o en otras palabras multiplicar cada posicion por una constante, en este caso $-1$.\n",
        "\n",
        "\n",
        "\\begin{equation*}\n",
        "  \\begin{array}{crll}\n",
        "    \\text{multiplicacionEscalar: } & \\mathbb{R}^{n} \\times \\mathbb{R}  & \\longrightarrow & \\mathbb{R}^{n}\\\\\n",
        "      & (p, x) & \\longmapsto & [a_n \\cdot x, a_{n-1} \\cdot x , \\dots , a_1 \\cdot x , a_0 \\cdot x ]\n",
        "      \\\\\n",
        "  \\end{array}\n",
        "\\end{equation*}\n",
        "\n",
        "\n",
        "\\begin{equation*}\n",
        "  \\begin{array}{crll}\n",
        "    \\text{restadePolinomios: } & \\mathbb{R}^{n} \\times \\mathbb{R}^{m}  & \\longrightarrow & \\mathbb{R}^{n \\ o \\ m} \\\\\n",
        "      & (x, y) & \\longmapsto & sumadePolinomios(x, multiplicacionEscalar(y,-1))\n",
        "      \\\\\n",
        "  \\end{array}\n",
        "\\end{equation*}"
      ]
    },
    {
      "cell_type": "code",
      "execution_count": null,
      "metadata": {
        "colab": {
          "base_uri": "https://localhost:8080/"
        },
        "id": "nQ-iO7O8zp5K",
        "outputId": "d5450ae7-8fbc-416e-f67a-458fc6e7428d"
      },
      "outputs": [
        {
          "name": "stdout",
          "output_type": "stream",
          "text": [
            "Polinomio uno: 1,2,3\n",
            "+3x^2+2x+1\n",
            "Polinomio dos: 3,2,1\n",
            "+1x^2+2x+3\n",
            "[-2, 0, 2]\n",
            "+2x^2-2\n"
          ]
        }
      ],
      "source": [
        "def multiplicacionEscalar(p,x):\n",
        "  return[p[i]*x for i in range(len(p))]\n",
        "\n",
        "def sumadePolinomios(x,y):\n",
        "  n = len(x)\n",
        "  m = len(y)\n",
        "  if n <= m:\n",
        "    R = y.copy()\n",
        "    for i in range(n):\n",
        "      R[i] += x[i]\n",
        "  else:\n",
        "    R = x.copy()\n",
        "    for i in range(m):\n",
        "      R[i] += y[i]\n",
        "  return R\n",
        "\n",
        "\n",
        "def restadePolinomios(x,y):\n",
        "  return sumadePolinomios(x,multiplicacionEscalar(y,-1))\n",
        "\n",
        "#Controlar Entradas (arreglo)\n",
        "def esLista(lista):\n",
        "    y = input(lista)\n",
        "    return [int(x) for x in y.split(\",\")]\n",
        "\n",
        "def polinomioBonito(P):\n",
        "  s = ''\n",
        "  for i in range(len(P)-1, -1, -1):\n",
        "    if(P[i]!=0):\n",
        "      if(P[i]>0):\n",
        "        s += '+'\n",
        "      s += str(P[i])\n",
        "      if(i>0):\n",
        "        s += 'x'\n",
        "        if(i>1):\n",
        "          s += '^'\n",
        "          s += str(i)\n",
        "  return s\n",
        "\n",
        "#programa principal\n",
        "\n",
        "primerArreglo = esLista('Polinomio uno: ')\n",
        "u = polinomioBonito(primerArreglo)\n",
        "print(u)\n",
        "segundoArreglo = esLista('Polinomio dos: ')\n",
        "l = polinomioBonito(segundoArreglo)\n",
        "print(l)\n",
        "restados = restadePolinomios(primerArreglo,segundoArreglo)\n",
        "print(restados)\n",
        "print(polinomioBonito(restados))"
      ]
    },
    {
      "cell_type": "markdown",
      "metadata": {
        "id": "MZTyIgLFzhGB"
      },
      "source": [
        "## Multiplicar\n",
        "\n",
        "\\begin{equation*}\n",
        "  \\begin{array}{crll}\n",
        "    \\text{multdePolinomios: } & \\mathbb{R}^{n} \\times \\mathbb{R}^{m}  & \\longrightarrow & \\mathbb{R}^{n \\ o \\ m} \\\\\n",
        "      & (x, y) & \\longmapsto & [a_n , a_{n-1}  , \\dots , a_1  , a_0  ]  \\cdot [b_m , b_{m-1}  , \\dots , b_1  , b_0  ]\n",
        "      \\\\\n",
        "  \\end{array}\n",
        "\\end{equation*}\n",
        "\n",
        "\n",
        "\n",
        "\n",
        "Donde: $ x = [a_0, a_1, \\dots, a_{n-1}, a_n] \\ $  y  $ \\ x = [b_0, b_1, \\dots, b_{m-1}, b_m] $\n",
        "\n",
        "Sin embargo el algoritmo lo que hara sera desarrollar la multiplicacion vetorial para cada posicion de a con cada elemento de b:\n",
        "\n",
        "\\begin{equation*}\n",
        "  sumadePolinomios(R,multiplicacionEscalar(x,b_i))\n",
        "\\end{equation*}\n",
        "\n",
        "Asi para cada elemento de b, a demas se usa la funcion poeceros para a;adir el grado resultante de la multiplicacion."
      ]
    },
    {
      "cell_type": "code",
      "execution_count": null,
      "metadata": {
        "colab": {
          "base_uri": "https://localhost:8080/"
        },
        "id": "_1zl1TYczqUo",
        "outputId": "a3f8c5ad-ae8f-4275-bd7f-e8c516f6eeb9"
      },
      "outputs": [
        {
          "name": "stdout",
          "output_type": "stream",
          "text": [
            "Polinomio uno: 2,3\n",
            "+3x+2\n",
            "Polinomio dos: 1,2\n",
            "+2x+1\n",
            "[2, 7, 6]\n",
            "+6x^2+7x+2\n"
          ]
        }
      ],
      "source": [
        "def multiplicacionEscalar(p,x):\n",
        "  return[p[i]*x for i in range(len(p))]\n",
        "\n",
        "def sumadePolinomios(x,y):\n",
        "  n = len(x)\n",
        "  m = len(y)\n",
        "  if n <= m:\n",
        "    R = y.copy()\n",
        "    for i in range(n):\n",
        "      R[i] += x[i]\n",
        "  else:\n",
        "    R = x.copy()\n",
        "    for i in range(m):\n",
        "      R[i] += y[i]\n",
        "  return R\n",
        "\n",
        "def poneceros(P, n):\n",
        "  R = P.copy()\n",
        "  for i in range(n):\n",
        "    R.insert(0,0)\n",
        "  return R\n",
        "\n",
        "def multiplicaPolinomios(P, Q):\n",
        "  R = []\n",
        "  for i in range(len(Q)):\n",
        "    T = poneceros(multiplicacionEscalar(P, Q[i]), i)\n",
        "    R = sumadePolinomios(R, T)\n",
        "  return R\n",
        "\n",
        "#Controlar Entradas (arreglo)\n",
        "def esLista(lista):\n",
        "    y = input(lista)\n",
        "    return [int(x) for x in y.split(\",\")]\n",
        "\n",
        "def polinomioBonito(P):\n",
        "  s = ''\n",
        "  for i in range(len(P)-1, -1, -1):\n",
        "    if(P[i]!=0):\n",
        "      if(P[i]>0):\n",
        "        s += '+'\n",
        "      s += str(P[i])\n",
        "      if(i>0):\n",
        "        s += 'x'\n",
        "        if(i>1):\n",
        "          s += '^'\n",
        "          s += str(i)\n",
        "  return s\n",
        "#programa principal\n",
        "\n",
        "pArreglo = esLista('Polinomio uno: ')\n",
        "u = polinomioBonito(pArreglo)\n",
        "print(u)\n",
        "sArreglo = esLista('Polinomio dos: ')\n",
        "l = polinomioBonito(sArreglo)\n",
        "print(l)\n",
        "multiplicados = multiplicaPolinomios(pArreglo,sArreglo)\n",
        "print(multiplicados)\n",
        "print(polinomioBonito(multiplicados))"
      ]
    },
    {
      "cell_type": "markdown",
      "metadata": {
        "id": "fVdQ7KiAzjHE"
      },
      "source": [
        "## Divicion y residuo (en una sola funcion)\n",
        "\n",
        "\\begin{equation*}\n",
        "  \\begin{array}{crll}\n",
        "    \\text{divdePolinomios: } & \\mathbb{R}^{n} \\times \\mathbb{R}^{m}  & \\longrightarrow & \\mathbb{R}^{n \\ o \\ m} \\\\\n",
        "      & (x, y) & \\longmapsto & \\frac{[a_n , a_{n-1}  , \\dots , a_1  , a_0  ]}{[b_m , b_{m-1}  , \\dots , b_1  , b_0  ]}\n",
        "      \\\\\n",
        "  \\end{array}\n",
        "\\end{equation*}\n",
        "\n",
        "Donde:\n",
        "\n",
        "$ P = [a_0, a_1, \\dots, a_{n-1}, a_n] $ representa el polinomio dividendo.$ Q = [b_0, b_1, \\dots, b_{m-1}, b_m] $ representa el polinomio divisor.$ D = [d_0, d_1, \\dots, d_{n-m}] $ es el cociente del polinomio.$ R = [r_0, r_1, \\dots, r_{m-1}] $ es el residuo de la división.\n",
        "\n",
        "El algoritmo sigue el método de división larga de polinomios, iterativamente restando múltiplos escalados del divisor del dividendo, tal que:\n",
        "\n",
        "\\begin{equation*}\n",
        "P(x) = Q(x) \\cdot D(x) + R(x)\n",
        "\\end{equation*}\n",
        "\n",
        "Para cada coeficiente principal del dividendo:\n",
        "\n",
        "Obtener el coeficiente del cociente:\n",
        "\n",
        "\\begin{equation*}\n",
        "d = \\frac{a_n}{b_m}, \\quad \\text{si } b_m \\neq 0\n",
        "\\end{equation*}\n",
        "\n",
        "Actualizar el residuo restando el término escalado del divisor:\n",
        "\n",
        "\\begin{equation*}\n",
        "R = P - (d \\cdot Q \\cdot x^i)\n",
        "\\end{equation*}\n",
        "\n",
        "Repetir hasta que el grado del residuo sea menor que el del divisor.\n",
        "\n",
        "Si el dividendo tiene menor grado que el divisor desde el inicio, el cociente es $0$ y el residuo es el dividendo."
      ]
    },
    {
      "cell_type": "code",
      "execution_count": null,
      "metadata": {
        "colab": {
          "base_uri": "https://localhost:8080/"
        },
        "id": "eHgY7mk7zqwI",
        "outputId": "41127ef1-afa7-442f-adf2-b17d09946069"
      },
      "outputs": [
        {
          "name": "stdout",
          "output_type": "stream",
          "text": [
            "Polinomio uno: 2,-3,1\n",
            "+1x^2-3x+2\n",
            "Polinomio dos: -2,1\n",
            "+1x-2\n",
            "[-1.0, 1.0] [0.0]\n",
            "cociente: +1.0x-1.0 residuo: \n"
          ]
        }
      ],
      "source": [
        "def multiplicacionEscalar(p,x):\n",
        "  return[p[i]*x for i in range(len(p))]\n",
        "\n",
        "def dividePolinomioRec(P, Q):\n",
        "  P = P.copy()\n",
        "  if(len(P)<len(Q)):\n",
        "    return [], P.copy()\n",
        "  d = P[len(P)-1]/Q[len(Q)-1]\n",
        "  QM = multiplicacionEscalar(Q, d)\n",
        "  for i in range(len(QM)):\n",
        "    P[len(P)-1-i] -= QM[len(QM)-1-i]\n",
        "  P.pop()\n",
        "  D, R = dividePolinomioRec(P, Q)\n",
        "  D.append(d)\n",
        "  return D, R\n",
        "\n",
        "\n",
        "def dividePolinomio(P, Q):\n",
        "  D, R = dividePolinomioRec(P, Q)\n",
        "  if(len(D)==0):\n",
        "    D = [0]\n",
        "  if(len(R)==0):\n",
        "    R = [0]\n",
        "  return D, R\n",
        "\n",
        "#Controlar Entradas (arreglo)\n",
        "def esLista(lista):\n",
        "    y = input(lista)\n",
        "    return [int(x) for x in y.split(\",\")]\n",
        "\n",
        "def polinomioBonito(P):\n",
        "  s = ''\n",
        "  for i in range(len(P)-1, -1, -1):\n",
        "    if(P[i]!=0):\n",
        "      if(P[i]>0):\n",
        "        s += '+'\n",
        "      s += str(P[i])\n",
        "      if(i>0):\n",
        "        s += 'x'\n",
        "        if(i>1):\n",
        "          s += '^'\n",
        "          s += str(i)\n",
        "  return s\n",
        "\n",
        "#programa principal\n",
        "\n",
        "priArreglo = esLista('Polinomio uno: ')\n",
        "u = polinomioBonito(priArreglo)\n",
        "print(u)\n",
        "segArreglo = esLista('Polinomio dos: ')\n",
        "l = polinomioBonito(segArreglo)\n",
        "print(l)\n",
        "divididos, residuos = dividePolinomio(priArreglo,segArreglo)\n",
        "print(divididos,residuos)\n",
        "print('cociente:', polinomioBonito(divididos), 'residuo:',  polinomioBonito(residuos) )"
      ]
    },
    {
      "cell_type": "markdown",
      "metadata": {
        "id": "oCSNdwedzluj"
      },
      "source": [
        "## Menu completo con salir"
      ]
    },
    {
      "cell_type": "code",
      "execution_count": null,
      "metadata": {
        "colab": {
          "base_uri": "https://localhost:8080/"
        },
        "id": "SYezZPT7zrOS",
        "outputId": "690de12c-bd80-4cdf-9178-669e4012e4ce"
      },
      "outputs": [
        {
          "name": "stdout",
          "output_type": "stream",
          "text": [
            "1. Evaluar\n",
            "2. Sumar\n",
            "3. Restar\n",
            "4. Multiplicar\n",
            "5. Dividir\n",
            "6. Residuo\n",
            "7. Salir\n",
            "Elige tu opción: 7\n",
            "Te extra;are...\n"
          ]
        }
      ],
      "source": [
        "#funciones primarias\n",
        "\n",
        "def multiplicacionEscalar(p,x):\n",
        "  return[p[i]*x for i in range(len(p))]\n",
        "\n",
        "def poneceros(P, n):\n",
        "  R = P.copy()\n",
        "  for i in range(n):\n",
        "    R.insert(0,0)\n",
        "  return R\n",
        "\n",
        "#Funciones principales\n",
        "\n",
        "def evaluar(p,x):\n",
        "  s = 0\n",
        "  for i in range(len(p)):\n",
        "    s += p[i]*(x**i)\n",
        "  return s\n",
        "\n",
        "def sumadePolinomios(x,y):\n",
        "  n = len(x)\n",
        "  m = len(y)\n",
        "  if n <= m:\n",
        "    R = y.copy()\n",
        "    for i in range(n):\n",
        "      R[i] += x[i]\n",
        "  else:\n",
        "    R = x.copy()\n",
        "    for i in range(m):\n",
        "      R[i] += y[i]\n",
        "  return R\n",
        "\n",
        "def restadePolinomios(x,y):\n",
        "  return sumadePolinomios(x,multiplicacionEscalar(y,-1))\n",
        "\n",
        "\n",
        "def multiplicaPolinomios(P, Q):\n",
        "  R = []\n",
        "  for i in range(len(Q)):\n",
        "    T = poneceros(multiplicacionEscalar(P, Q[i]), i)\n",
        "    R = sumadePolinomios(R, T)\n",
        "  return R\n",
        "\n",
        "def multiplicacionEscalar(p,x):\n",
        "  return[p[i]*x for i in range(len(p))]\n",
        "\n",
        "def dividePolinomioRec(P, Q):\n",
        "  P = P.copy()\n",
        "  if(len(P)<len(Q)):\n",
        "    return [], P.copy()\n",
        "  d = P[len(P)-1]/Q[len(Q)-1]\n",
        "  QM = multiplicacionEscalar(Q, d)\n",
        "  for i in range(len(QM)):\n",
        "    P[len(P)-1-i] -= QM[len(QM)-1-i]\n",
        "  P.pop()\n",
        "  D, R = dividePolinomioRec(P, Q)\n",
        "  D.append(d)\n",
        "  return D, R\n",
        "\n",
        "\n",
        "def dividePolinomio(P, Q):\n",
        "  D, R = dividePolinomioRec(P, Q)\n",
        "  if(len(D)==0):\n",
        "    D = [0]\n",
        "  if(len(R)==0):\n",
        "    R = [0]\n",
        "  return D, R\n",
        "\n",
        "#Controlar Entradas (arreglo)\n",
        "def esLista(lista):\n",
        "    y = input(lista)\n",
        "    return [int(x) for x in y.split(\",\")]\n",
        "\n",
        "def polinomioBonito(P):\n",
        "  s = ''\n",
        "  for i in range(len(P)-1, -1, -1):\n",
        "    if(P[i]!=0):\n",
        "      if(P[i]>0):\n",
        "        s += '+'\n",
        "      s += str(P[i])\n",
        "      if(i>0):\n",
        "        s += 'x'\n",
        "        if(i>1):\n",
        "          s += '^'\n",
        "          s += str(i)\n",
        "  return s\n",
        "\n",
        "#Programa principal (menu)\n",
        "\n",
        "def menu2(opciones):\n",
        "    for x in opciones:\n",
        "        print(x)\n",
        "    opt = int(input(\"Elige tu opción: \"))\n",
        "    while opt < 1 or opt > len(opciones):\n",
        "        print(\"Para qué te traje...\")\n",
        "        for x in opciones:\n",
        "            print(x)\n",
        "        opt = int(input(\"Elige tu opción: \"))\n",
        "    return opt\n",
        "\n",
        "# Programa principal\n",
        "opts = [\n",
        "    \"1. Evaluar\",\n",
        "    \"2. Sumar\",\n",
        "    \"3. Restar\",\n",
        "    \"4. Multiplicar\",\n",
        "    \"5. Dividir\",\n",
        "    \"6. Residuo\",\n",
        "    \"7. Salir\"]\n",
        "\n",
        "o = menu2(opts)\n",
        "\n",
        "\n",
        "while o != 7:\n",
        "  if o == 1:\n",
        "    polinomioEvU = esLista('Polinomio uno: ')\n",
        "    u = polinomioBonito(polinomioEvU)\n",
        "    print(u)\n",
        "    polinomioEvD = esLista('Polinomio dos: ')\n",
        "    l = polinomioBonito(polinomioEvD)\n",
        "    print(l)\n",
        "    elementoEv = int(input(\"Evaluar en: \"))\n",
        "    primer = evaluar(polinomioEvU, elementoEv)\n",
        "    segun = evaluar(polinomioEvD, elementoEv)\n",
        "    print(u,\"=\",primer)\n",
        "    print(l,\"=\",segun)\n",
        "    o = menu2(opts)\n",
        "  else:\n",
        "    polinomioUno = esLista('Primer polinomio: ')\n",
        "    u = polinomioBonito(polinomioUno)\n",
        "    print(u)\n",
        "    polinomioDos = esLista('Segundo polinomio: ')\n",
        "    l = polinomioBonito(polinomioDos)\n",
        "    print(l)\n",
        "    if o == 2:\n",
        "        sumados = sumadePolinomios(polinomioUno,polinomioDos)\n",
        "        print(sumados)\n",
        "        print(polinomioBonito(sumados))\n",
        "    elif o == 3:\n",
        "        restados = restadePolinomios(polinomioUno,polinomioDos)\n",
        "        print(restados)\n",
        "        print(polinomioBonito(restados))\n",
        "    elif o == 4:\n",
        "        multiplicados = multiplicaPolinomios(polinomioUno,polinomioDos)\n",
        "        print(multiplicados)\n",
        "        print(polinomioBonito(multiplicados))\n",
        "    elif o == 5:\n",
        "        divididos, residuos = dividePolinomio(polinomioUno,polinomioDos)\n",
        "        print(divididos)\n",
        "        print('cociente:', polinomioBonito(divididos))\n",
        "    elif o == 6:\n",
        "        print(contenido(arregloPrimero,arregloSegndo))\n",
        "        divididos, residuos = dividePolinomio(polinomioUno,polinomioDos)\n",
        "        print(residuos)\n",
        "        print('residuo:',  polinomioBonito(residuos) )\n",
        "    else:\n",
        "        print(\"ermano...\")\n",
        "    o = menu2(opts)\n",
        "\n",
        "print(\"Te extra;are...\")"
      ]
    },
    {
      "cell_type": "markdown",
      "metadata": {
        "id": "_lyJX6pe03Lj"
      },
      "source": [
        "# $8. Matrices $"
      ]
    },
    {
      "cell_type": "markdown",
      "metadata": {
        "id": "U3xyGCnS0-bC"
      },
      "source": [
        "## Suma de matrices\n",
        "\n",
        "\\begin{equation*} \\begin{array}{crll} \\text{sumaMatrices: } & \\mathbb{R}^{m \\times n} \\times \\mathbb{R}^{m \\times n} & \\longrightarrow & \\mathbb{R}^{i \\times j} \\\\\n",
        "& (A, B) & \\longmapsto &  \\begin{bmatrix}\n",
        "a_{0,0} + b_{0,0} & a_{0,1} + b_{0,1} & \\cdots & a_{0,j} + b_{0,j}\\\\\n",
        "a_{1,0} + b_{1,0} & a_{1,1} + b_{1,1} & \\cdots & a_{1,j} + b_{1,j}\\\\\n",
        "\\vdots & \\vdots & \\ddots & \\vdots \\\\\n",
        "a_{i,0} + b_{i,0} & a_{i,1} + b_{i,1} & \\cdots & a_{i,j} + b_{i,j}\n",
        "\\end{bmatrix} \\end{array} \\end{equation*}\n",
        "\n",
        "Donde: $A=[a_{ij}]$ y $B=[b_{ij}]$ son dos matrices de dimensión $n \\cdot m$\n",
        "\n",
        "\\begin{equation*} c_{ij} = a_{ij} + b_{ij}, \\quad \\forall \\ i \\in {1, 2, \\dots, m}, \\ j \\in {1, 2, \\dots, n} \\end{equation*}\n",
        "\n",
        "Para que la operación sea válida, las matrices deben tener la misma dimensión:\n",
        "\n",
        "\\begin{equation*} \\dim(A) = \\dim(B) = (m, n) \\end{equation*}\n",
        "\n",
        "\n",
        "Nota: La de enteros y eales es aboslutamente igual"
      ]
    },
    {
      "cell_type": "code",
      "execution_count": null,
      "metadata": {
        "colab": {
          "base_uri": "https://localhost:8080/"
        },
        "id": "niJbpsQwAGzB",
        "outputId": "9bbcb390-96b3-4bca-dbf5-248d6b8421bf"
      },
      "outputs": [
        {
          "name": "stdout",
          "output_type": "stream",
          "text": [
            "primera matriznúmero de filas: 1\n",
            "Número de columnas: 2\n",
            "Ingrese la matriz fila por fila, separando los números con comas:\n",
            "Fila : 1,2\n",
            "[[1, 2]]\n",
            "segunda matriznúmero de filas: 1\n",
            "Número de columnas: 2\n",
            "Ingrese la matriz fila por fila, separando los números con comas:\n",
            "Fila : 3,4\n",
            "[[3, 4]]\n",
            "La matriz resultante es:\n",
            "[4, 6]\n"
          ]
        }
      ],
      "source": [
        "def sumaArreglos(x, y):\n",
        "  return [x[i]+y[i] for i in range(len(x))]\n",
        "\n",
        "def sumaMatrices(X, Y):\n",
        "  return [sumaArreglos(X[i], Y[i]) for i in range(len(X))]\n",
        "\n",
        "#Controlar entrada\n",
        "def leerMatriz(mnsj):\n",
        "    filas = int(input(mnsj+\"número de filas: \"))\n",
        "    columnas = int(input(\"Número de columnas: \"))\n",
        "    matriz = []\n",
        "    print(\"Ingrese la matriz fila por fila, separando los números con comas:\")\n",
        "    for i in range(filas):\n",
        "        fila = input(\"Fila : \")\n",
        "        matriz.append([int(x) for x in fila.split(',')])\n",
        "    return matriz\n",
        "\n",
        "# Programa principal\n",
        "A = leerMatriz('primera matriz')\n",
        "print(A)\n",
        "B = leerMatriz('segunda matriz')\n",
        "print(B)\n",
        "sumatrices = sumaMatrices(A,B)\n",
        "print('La matriz resultante es:')\n",
        "for fila in sumatrices:\n",
        "    print(fila)\n"
      ]
    },
    {
      "cell_type": "markdown",
      "metadata": {
        "id": "2bUdLXJwQoDc"
      },
      "source": [
        "## Multiplicacion de matrices\n",
        "\n",
        "\\begin{equation*}\n",
        "\\begin{array}{crll}\n",
        "\\text{multiplicaMatrices: } & \\mathbb{R}^{m \\times n} \\times \\mathbb{R}^{n \\times p} & \\longrightarrow & \\mathbb{R}^{m \\times p} \\\\\n",
        "& (A, B) & \\longmapsto &  \n",
        "\\begin{bmatrix}\n",
        "c_{0,0} & c_{0,1} & \\cdots & c_{0,p} \\\\\n",
        "c_{1,0} & c_{1,1} & \\cdots & c_{1,p} \\\\\n",
        "\\vdots & \\vdots & \\ddots & \\vdots \\\\\n",
        "c_{m,0} & c_{m,1} & \\cdots & c_{m,p}\n",
        "\\end{bmatrix}\n",
        "\\end{array}\n",
        "\\end{equation*}\n",
        "\n",
        "\\textbf{Donde:}  \n",
        "$A=[a_{ij}]$ es una matriz de dimensión $(m \\times n)$ y $B=[b_{ij}]$ es una matriz de dimensión $(n \\times p)$.  \n",
        "\n",
        "Cada elemento de la matriz resultante se define como (una matriz se voltea y se multiplican filas por filas):\n",
        "\n",
        "\\begin{equation*}\n",
        "c_{ij} = \\sum_{k=0}^{n} a_{ik} \\cdot b_{kj}, \\quad \\forall \\ i \\in {0, 1, 2, \\dots, m - 1}, \\ j \\in {0, 1, 2, \\dots, p - 1}\n",
        "\\end{equation*}\n",
        "\n",
        "Para que la multiplicación sea válida, el número de columnas de la primera matriz debe coincidir con el número de filas de la segunda:\n",
        "\n",
        "\\begin{equation*}\n",
        "\\dim(A) = (m, n), \\quad \\dim(B) = (n, p) \\Rightarrow \\dim(C) = (m, p)\n",
        "\\end{equation*}\n",
        "\n",
        "Antes de proceder con la multiplicación, se debe verificar que el número de columnas de $A$ sea igual al número de filas de $B$:\n",
        "\n",
        "\n",
        "\\begin{equation*}\n",
        "\\text{Si } \\quad \\text{len}(A[0]) \\neq \\text{len}(B), \\quad \\text{la multiplicacion no es posible.}\n",
        "\\end{equation*}\n",
        "\n",
        "Nota: Para enteros y reales es exactamente igual."
      ]
    },
    {
      "cell_type": "code",
      "execution_count": null,
      "metadata": {
        "colab": {
          "base_uri": "https://localhost:8080/"
        },
        "id": "xBh_w_j8RXKw",
        "outputId": "8dd3af12-a2b0-47d9-9f4a-2572577f441a"
      },
      "outputs": [
        {
          "name": "stdout",
          "output_type": "stream",
          "text": [
            "primera matriznúmero de filas: 4\n",
            "Número de columnas: 4\n",
            "Ingrese la matriz fila por fila, separando los números con comas:\n",
            "Fila : 1,2,3,4\n",
            "Fila : 5,6,7,8\n",
            "Fila : 9,10,11,12\n",
            "Fila : 13,14,15,16\n",
            "[[1, 2, 3, 4], [5, 6, 7, 8], [9, 10, 11, 12], [13, 14, 15, 16]]\n",
            "segunda matriznúmero de filas: 4\n",
            "Número de columnas: 4\n",
            "Ingrese la matriz fila por fila, separando los números con comas:\n",
            "Fila : 1,0,2,1\n",
            "Fila : 0,1,3,2\n",
            "Fila : 4,1,0,3\n",
            "Fila : 2,3,1,0\n",
            "[[1, 0, 2, 1], [0, 1, 3, 2], [4, 1, 0, 3], [2, 3, 1, 0]]\n",
            "[[0, 0, 0, 0], [0, 0, 0, 0], [0, 0, 0, 0], [0, 0, 0, 0]]\n",
            "La matriz resultante es:\n",
            "[21, 17, 12, 14]\n",
            "[49, 37, 36, 38]\n",
            "[77, 57, 60, 62]\n",
            "[105, 77, 84, 86]\n"
          ]
        }
      ],
      "source": [
        "def multiplicaMatrices(X, Y):\n",
        "  n = len(X)\n",
        "  m = len(X[0])\n",
        "  l = len(Y[0])\n",
        "  R = [[0 for j in range(l)] for i in range(n)] #consruir matriz m*p\n",
        "  print(R)\n",
        "  for i in range(n):\n",
        "    for j in range(l):\n",
        "      for k in range(m):\n",
        "        R[i][j] += X[i][k]*Y[k][j]\n",
        "  return R\n",
        "\n",
        "#Controlar entrada\n",
        "def leerMatriz(mnsj):\n",
        "    filas = int(input(mnsj+\"número de filas: \"))\n",
        "    columnas = int(input(\"Número de columnas: \"))\n",
        "    matriz = []\n",
        "    print(\"Ingrese la matriz fila por fila, separando los números con comas:\")\n",
        "    for i in range(filas):\n",
        "        fila = input(\"Fila : \")\n",
        "        matriz.append([int(x) for x in fila.split(',')])\n",
        "    return matriz\n",
        "\n",
        "# Programa principal\n",
        "A = leerMatriz('primera matriz')\n",
        "print(A)\n",
        "B = leerMatriz('segunda matriz')\n",
        "print(B)\n",
        "multitrices = multiplicaMatrices(A,B)\n",
        "print('La matriz resultante es:')\n",
        "for fila in multitrices:\n",
        "    print(fila)\n"
      ]
    },
    {
      "cell_type": "markdown",
      "metadata": {
        "id": "4zihwM6pVCOQ"
      },
      "source": [
        "## Sumar columna de una matriz\n",
        "\n",
        "\\begin{equation*}\n",
        "\\begin{array}{crll}\n",
        "\\text{sumaColumna: } & \\mathbb{R}^{m \\times n} \\times \\mathbb{N} & \\longrightarrow & \\mathbb{R} \\\\\n",
        "& (A, j) & \\longmapsto &  \\displaystyle \\sum_{i=0}^{m} a_{i,j}  \n",
        "\\end{array}\n",
        "\\end{equation*}\n",
        "\n",
        "Donde  $A = [a_{ij}]$ es una matriz de dimensión $(m \\times n)$ y $j$ es el índice de la columna a sumar.  \n",
        "\n",
        "Cada elemento de la suma se define como:\n",
        "\n",
        "\\begin{equation*}\n",
        "S_j = \\sum_{i=0}^{m} a_{i,j}, \\quad \\forall \\ j \\in \\{0, 1, \\dots, n-1\\}\n",
        "\\end{equation*}\n",
        "\n",
        "Para que la operación sea válida, se debe verificar que el índice de la columna esté dentro del rango de la matriz:\n",
        "\n",
        "\\begin{equation*}\n",
        "0 \\leq j < n\n",
        "\\end{equation*}\n",
        "\n",
        "Si la columna no existe en la matriz, la operación no es posible.\n"
      ]
    },
    {
      "cell_type": "code",
      "execution_count": null,
      "metadata": {
        "colab": {
          "base_uri": "https://localhost:8080/"
        },
        "id": "DF0LAjDYWOpj",
        "outputId": "969e55cf-e5aa-41bc-9986-a5ea5fdbe869"
      },
      "outputs": [
        {
          "name": "stdout",
          "output_type": "stream",
          "text": [
            "primera matriznúmero de filas: 2\n",
            "Número de columnas: 2\n",
            "Ingrese la matriz fila por fila, separando los números con comas:\n",
            "Fila : 1,3\n",
            "Fila : 1,2\n",
            "En cual fila? (empieza en 0)5\n",
            "[[1, 3], [1, 2]]\n",
            "La suma resultante es:\n",
            "[]\n"
          ]
        }
      ],
      "source": [
        "def sumaColumna(A,j):\n",
        "  m = len(A)\n",
        "  n = len(A[0])\n",
        "  s = 0\n",
        "  if j >= 0 and j <= n:\n",
        "    for i in range(m):\n",
        "      s += A[i][j]\n",
        "    return s\n",
        "  else:\n",
        "    return[]\n",
        "\n",
        "#Controlar entrada\n",
        "def leerMatriz(mnsj):\n",
        "    filas = int(input(mnsj+\"número de filas: \"))\n",
        "    columnas = int(input(\"Número de columnas: \"))\n",
        "    matriz = []\n",
        "    print(\"Ingrese la matriz fila por fila, separando los números con comas:\")\n",
        "    for i in range(filas):\n",
        "        fila = input(\"Fila : \")\n",
        "        matriz.append([int(x) for x in fila.split(',')])\n",
        "    return matriz\n",
        "\n",
        "# Programa principal\n",
        "matri = leerMatriz('primera matriz')\n",
        "colum = int(input('En cual fila? (empieza en 0): '))\n",
        "print(matri)\n",
        "columnaSuma = sumaColumna(matri,colum)\n",
        "print('La suma resultante es:')\n",
        "print(columnaSuma)"
      ]
    },
    {
      "cell_type": "markdown",
      "metadata": {
        "id": "ICaAl5hEZTlW"
      },
      "source": [
        "## Sumar fila\n",
        "\n",
        "\\begin{equation*}\n",
        "\\begin{array}{crll}\n",
        "\\text{sumaFila: } & \\mathbb{R}^{m \\times n} \\times \\mathbb{N} & \\longrightarrow & \\mathbb{R} \\\\\n",
        "& (A, i) & \\longmapsto &  \\displaystyle \\sum_{j=0}^{n} a_{i,j}  \n",
        "\\end{array}\n",
        "\\end{equation*}\n",
        "\n",
        "Donde $A = [a_{ij}]$ es una matriz de dimensión $(m \\times n)$ y $i$ es el índice de la fila a sumar.  \n",
        "\n",
        "Cada elemento de la suma se define como:\n",
        "\n",
        "\\begin{equation*}\n",
        "S_i = \\sum_{j=0}^{n} a_{i,j}, \\quad \\forall \\ i \\in \\{0, 1, \\dots, m-1\\}\n",
        "\\end{equation*}\n",
        "\n",
        "Para que la operación sea válida, se debe verificar que el índice de la fila esté dentro del rango de la matriz:\n",
        "\n",
        "\\begin{equation*}\n",
        "0 \\leq i < m\n",
        "\\end{equation*}\n",
        "\n",
        "Si la fila no existe en la matriz, la operación no es posible.\n"
      ]
    },
    {
      "cell_type": "code",
      "execution_count": null,
      "metadata": {
        "colab": {
          "base_uri": "https://localhost:8080/"
        },
        "id": "tZ8oinUYaA3F",
        "outputId": "4f544f42-82d8-4131-f271-a11eaf62e8b4"
      },
      "outputs": [
        {
          "name": "stdout",
          "output_type": "stream",
          "text": [
            "primera matriznúmero de filas: 2\n",
            "Número de columnas: 1\n",
            "Ingrese la matriz fila por fila, separando los números con comas:\n",
            "Fila : 11,2,4,5,6\n",
            "Fila : 1,1,1,1,1\n",
            "En cual fila? (empieza en 0)1\n",
            "1\n",
            "La suma resultante es:\n",
            "5\n"
          ]
        }
      ],
      "source": [
        "def sumaFila(A,i):\n",
        "  m = len(A)\n",
        "  n = len(A[0])\n",
        "  s = 0\n",
        "  if i >= 0 and i <= m:\n",
        "    for j in range(n):\n",
        "      s += A[i][j]\n",
        "    return s\n",
        "  else:\n",
        "    return[]\n",
        "\n",
        "#Controlar entrada\n",
        "def leerMatriz(mnsj):\n",
        "    filas = int(input(mnsj+\"número de filas: \"))\n",
        "    columnas = int(input(\"Número de columnas: \"))\n",
        "    matriz = []\n",
        "    print(\"Ingrese la matriz fila por fila, separando los números con comas:\")\n",
        "    for i in range(filas):\n",
        "        fila = input(\"Fila : \")\n",
        "        matriz.append([int(x) for x in fila.split(',')])\n",
        "    return matriz\n",
        "\n",
        "# Programa principal\n",
        "matris = leerMatriz('primera matriz')\n",
        "fil = int(input('En cual fila? (empieza en 0)'))\n",
        "print(matris)\n",
        "filasuma = sumaFila(matris,fil)\n",
        "print('La suma resultante es:')\n",
        "print(filasuma)"
      ]
    },
    {
      "cell_type": "markdown",
      "metadata": {
        "id": "eXJ3MUF5fiiD"
      },
      "source": [
        "## Matriz magica\n",
        "\n",
        "\\begin{equation*}\n",
        "\\begin{array}{crll}\n",
        "\\text{esMatrizMagica: } & \\mathbb{R}^{n \\times n} & \\longrightarrow & \\mathbb{ B} \\\\\n",
        "& (A) & \\longmapsto &  \n",
        "\\begin{cases}\n",
        "\\text{T} & \\text{si } \\displaystyle \\sum_{j=0}^{n} a_{i,j} = S, \\quad \\forall i \\in \\{0, \\dots, n-1\\} \\\\\n",
        "& \\text{y } \\displaystyle \\sum_{i=0}^{n} a_{i,j} = S, \\quad \\forall j \\in \\{0, \\dots, n-1\\} \\\\\n",
        "& \\text{y } \\displaystyle \\sum_{i=0}^{n} a_{i,i} = S \\text{ (diagonal principal)} \\\\\n",
        "& \\text{y } \\displaystyle \\sum_{i=0}^{n} a_{i,n-1-i} = S \\text{ (diagonal secundaria)} \\\\\n",
        "\\text{F} & \\text{en otro caso.}\n",
        "\\end{cases}\n",
        "\\end{array}\n",
        "\\end{equation*}\n",
        "\n",
        "Donde $A = [a_{ij}]$ es una matriz cuadrada de dimensión $(n \\times n)$.  \n",
        "\n",
        "Para que una matriz sea mágica, todas las sumas de sus filas, columnas y diagonales deben ser iguales a un mismo valor $S$.  \n",
        "\n",
        "\\begin{equation*}\n",
        "S = \\sum_{j=0}^{n} a_{i,j} = \\sum_{i=0}^{n} a_{i,j} = \\sum_{i=0}^{n} a_{i,i} = \\sum_{i=0}^{n} a_{i,n-1-i}, \\quad \\forall i, j\n",
        "\\end{equation*}\n",
        "\n",
        "Si alguna de estas sumas es diferente, la matriz no es mágica. La matriz debe ser cuadrada."
      ]
    },
    {
      "cell_type": "code",
      "execution_count": null,
      "metadata": {
        "colab": {
          "base_uri": "https://localhost:8080/"
        },
        "id": "dafLK-p5fq1K",
        "outputId": "75d144a4-5fc6-4185-902b-5651d22335c4"
      },
      "outputs": [
        {
          "name": "stdout",
          "output_type": "stream",
          "text": [
            "primera matriznúmero de filas: 3\n",
            "Número de columnas: 3\n",
            "Ingrese la matriz fila por fila, separando los números con comas:\n",
            "Fila : 8,6,1\n",
            "Fila : 3,5,7\n",
            "Fila : 4,9,2\n",
            "[[8, 6, 1], [3, 5, 7], [4, 9, 2]]\n",
            "True\n"
          ]
        }
      ],
      "source": [
        "def sumaDiagonalPrincipal(A):\n",
        " n = len(A)\n",
        " s = 0\n",
        " for i in range(n):\n",
        "  s += A[i][i]\n",
        " return s\n",
        "\n",
        "def sumaDiagonalContraria(A):\n",
        " n = len(A)\n",
        " s = 0\n",
        " for i in range(n):\n",
        "  s += A[i][n-1-i]\n",
        " return s\n",
        "\n",
        "#versiones simplificadas porque hay q pensar que esta bien para que este bien\n",
        "def sumaFila(A, i):\n",
        " n = len(A[0])\n",
        " s = 0\n",
        " for j in range(n):\n",
        "  s += A[i][j]\n",
        " return s\n",
        "\n",
        "def sumaColumna(A, j):\n",
        " n = len(A)\n",
        " s = 0\n",
        " for i in range(n):\n",
        "  s += A[i][j]\n",
        " return s\n",
        "\n",
        "def esMatrizMagica(A):\n",
        "  n = len(A)\n",
        "  p = len(A[0])\n",
        "  m = sumaDiagonalPrincipal(A)\n",
        "  s = m==sumaDiagonalContraria(A)\n",
        "  if(not s):\n",
        "    return False\n",
        "  for i in range(n):\n",
        "    if(m!=sumaFila(A,i)):\n",
        "      return False\n",
        "  for j in range(p):\n",
        "    if(m!=sumaColumna(A,j)):\n",
        "      return False\n",
        "  return True\n",
        "\n",
        "#sustentacion\n",
        "def intercambiarMagica(x):\n",
        "  for i in range(len(x)):\n",
        "    for j in range(len(x[0])):\n",
        "      for n in range(len(x)):\n",
        "        for m in range(len(x[0])):\n",
        "          a = x[i][j]\n",
        "          b = x[n][m]\n",
        "          x[n][m] = a\n",
        "          x[i][j] = b\n",
        "          c = esMatrizMagica(x)\n",
        "          if c:\n",
        "            return True\n",
        "          else:\n",
        "            x[n][m] = b\n",
        "            x[i][j] = a\n",
        "  return False\n",
        "\n",
        "\n",
        "\n",
        "#Controlar entrada\n",
        "def leerMatriz(mnsj):\n",
        "    filas = int(input(mnsj+\"número de filas: \"))\n",
        "    columnas = int(input(\"Número de columnas: \"))\n",
        "    matriz = []\n",
        "    print(\"Ingrese la matriz fila por fila, separando los números con comas:\")\n",
        "    for i in range(filas):\n",
        "        fila = input(\"Fila : \")\n",
        "        matriz.append([int(x) for x in fila.split(',')])\n",
        "    return matriz\n",
        "\n",
        "# Programa principal\n",
        "matrix = leerMatriz('primera matriz')\n",
        "print(matrix)\n",
        "esmagica = intercambiarMagica(matrix)\n",
        "print(esmagica)\n",
        "\n",
        "#nota, modificacion preParcial\n",
        "\n",
        "def magicaQ(A, q):\n",
        "  n = len(A)\n",
        "  p = len(A[0])\n",
        "  S = [sumaDiagonalPrincipal(A), sumaDiagonalContraria(A)] #guarda en un array\n",
        "  for i in range(n):\n",
        "    S.append(sumaFila(A,i))\n",
        "  for j in range(p):\n",
        "    S.append(sumaColumna(A,j))\n",
        "  S.sort() #ordena\n",
        "  return (S[len(S)-1]-S[0]) <= q #verifica la diferencia"
      ]
    },
    {
      "cell_type": "markdown",
      "metadata": {
        "id": "EO4bgfO8lR_q"
      },
      "source": [
        "## Mayor y menor\n",
        "\n",
        "\\begin{equation*}\n",
        "\\begin{array}{crll}\n",
        "\\text{reemplazar: } & \\mathbb{R}^{m \\times n} \\times \\mathbb{R} & \\longrightarrow & \\mathbb\\{0,1 \\}^{m \\times n} \\\\  \n",
        "& (A, x) & \\longmapsto &  \n",
        "\\begin{bmatrix}\n",
        "f(a_{0,0}) & f(a_{0,1}) & \\cdots & f(a_{0,n-1}) \\\\\n",
        "f(a_{1,0}) & f(a_{1,1}) & \\cdots & f(a_{1,n-1}) \\\\\n",
        "\\vdots & \\vdots & \\ddots & \\vdots \\\\\n",
        "f(a_{m-1,0}) & f(a_{m-1,1}) & \\cdots & f(a_{m-1,n-1})  \n",
        "\\end{bmatrix}\n",
        "\\end{array}\n",
        "\\end{equation*}\n",
        "\n",
        "Donde $A = [a_{ij}]$ es una matriz de dimensión $(m \\times n)$ y $x$ es el número de referencia.  \n",
        "\n",
        "Cada elemento de la matriz resultante se define mediante la siguiente función:\n",
        "\n",
        "\n",
        "\\begin{equation*}\n",
        "\\begin{array}{crll}\n",
        "\\text{remplazar2: } &  \\mathbb{R} & \\longrightarrow & \\mathbb\\{0,1 \\} \\\\  \n",
        "& (a_{ij}) & \\longmapsto &  \\begin{cases}\n",
        "1, & \\text{si } a_{ij} > x \\\\  \n",
        "0, & \\text{si } a_{ij} \\leq x\n",
        "\\end{cases}\n",
        "\\end{array}\n",
        "\\end{equation*}\n",
        "\n",
        "O en otras palabras:\n",
        "\n",
        "\\begin{equation*}\n",
        "f(a_{ij}) =  \n",
        "\\begin{cases}\n",
        "1, & \\text{si } a_{ij} > x \\\\  \n",
        "0, & \\text{si } a_{ij} \\leq x\n",
        "\\end{cases}\n",
        "\\end{equation*}\n",
        "\n",
        "Antes de realizar la operación, se debe verificar que la matriz de entrada tenga una dimensión válida:\n",
        "\n",
        "\\begin{equation*}\n",
        "\\dim(A) = (m, n), \\quad m > 0, \\quad n > 0\n",
        "\\end{equation*}\n",
        "\n",
        "Si la matriz es vacía, la operación no es posible.\n"
      ]
    },
    {
      "cell_type": "code",
      "execution_count": null,
      "metadata": {
        "colab": {
          "base_uri": "https://localhost:8080/"
        },
        "id": "sYrmCd0VlXGr",
        "outputId": "b577cb24-9116-4b9c-c2cf-3f8630cec0eb"
      },
      "outputs": [
        {
          "name": "stdout",
          "output_type": "stream",
          "text": [
            "primera matriznúmero de filas: 4\n",
            "Número de columnas: 4\n",
            "Ingrese la matriz fila por fila, separando los números con comas:\n",
            "Fila : 1,2,3\n",
            "Fila : 3,4,5\n",
            "Fila : 6,7,8\n",
            "Fila : 7,8,9\n",
            "Elemento: 4\n",
            "[[1, 2, 3], [3, 4, 5], [6, 7, 8], [7, 8, 9]]\n",
            "La matriz resultante es:\n",
            "[0, 0, 0]\n",
            "[0, 0, 1]\n",
            "[1, 1, 1]\n",
            "[1, 1, 1]\n"
          ]
        }
      ],
      "source": [
        "def remplazar(A,x):\n",
        "  m = len(A)\n",
        "  n = len(A[0])\n",
        "  R = []\n",
        "  for i in range(m):\n",
        "    S = []\n",
        "    for j in range(n):\n",
        "      if A[i][j] <= x:\n",
        "        S.append(0)\n",
        "      else:\n",
        "        S.append(1)\n",
        "    R.append(S)\n",
        "  return R\n",
        "\n",
        "#Controlar entrada\n",
        "def leerMatriz(mnsj):\n",
        "    filas = int(input(mnsj+\"número de filas: \"))\n",
        "    columnas = int(input(\"Número de columnas: \"))\n",
        "    matriz = []\n",
        "    print(\"Ingrese la matriz fila por fila, separando los números con comas:\")\n",
        "    for i in range(filas):\n",
        "        fila = input(\"Fila : \")\n",
        "        matriz.append([int(x) for x in fila.split(',')])\n",
        "    return matriz\n",
        "\n",
        "# Programa principal\n",
        "matrisita = leerMatriz('primera matriz')\n",
        "comparar = int(input('Elemento: '))\n",
        "print(matrisita)\n",
        "unoycero = remplazar(matrisita,comparar)\n",
        "print('La matriz resultante es:')\n",
        "for fila in unoycero:\n",
        "    print(fila)\n",
        "\n",
        "#otro metodo\n",
        "\n",
        "def reemplazarMatriz(A, num):\n",
        "  return [[1 if elemento > num else 0 for elemento in fila] for fila in A]\n",
        "\n",
        "# Ejemplo de uso:\n",
        "matriz = [[5, 12, 7],[3, 8, 15],[10, 2, 6]]\n",
        "num = 6\n",
        "resultado = reemplazarMatriz(matriz, num)\n",
        "\n",
        "# Imprimir resultado\n",
        "for fila in resultado:\n",
        "    print(fila)"
      ]
    },
    {
      "cell_type": "markdown",
      "metadata": {
        "id": "kfKqREzespPr"
      },
      "source": [
        "## Determinante, sistema de ecuaciones e inversa de una matriz (reduccion Gauss-Gomez)\n",
        "Con ayuda del metodo Gauss-Gomez visto en clase, haciedo reduccion de Gauss podemos sacar los ejercicios 56, 57 y 58 con una sola operacion.\n",
        "\n",
        "\\begin{equation*}\n",
        "\\begin{array}{crll}\n",
        "\\text{reduccionGauss: } & \\mathbb{R}^{n \\times n} \\times \\mathbb{R}^{n} & \\longrightarrow & (\\mathbb{R}, \\mathbb{R}^{n \\times n}, \\mathbb{R}^{n}) \\\n",
        "& (A, b) & \\longmapsto &  (d, A^{-1}, x)\n",
        "\\end{array}\n",
        "\\end{equation*}\n",
        "\n",
        "Donde $A = [a_{ij}]$ es una matriz cuadrada de dimensión $(n \\times n)$ y $b = [b_i]$ es un vector columna de dimensión $(n)$.\n",
        "\n",
        "Los valores obtenidos son:\n",
        "\n",
        "$d$: Determinante de la matriz $A$.\n",
        "\n",
        "$A^{-1}$: Matriz inversa de $A$.\n",
        "\n",
        "$x$: Solución del sistema de ecuaciones $Ax = b$.\n",
        "\n",
        "Cada pivote de la matriz se normaliza y se aplican operaciones fila para obtener la forma escalonada reducida:\n",
        "\n",
        "\\begin{equation*}\n",
        "M_{ij} = M_{ij} - \\frac{M_{ik}}{M_{kk}} M_{kj}, \\quad \\forall \\ i \\neq k\n",
        "\\end{equation*}\n",
        "\n",
        "donde $M$ representa la matriz aumentada $[A | I | b]$.\n",
        "\n",
        "Para que la operación sea válida, la matriz $A$ debe ser invertible:\n",
        "\n",
        "\\begin{equation*}\n",
        "d \\neq 0\n",
        "\\end{equation*}\n",
        "\n",
        "Si $d = 0$, el sistema no tiene solución única o la matriz no es invertible."
      ]
    },
    {
      "cell_type": "code",
      "execution_count": null,
      "metadata": {
        "colab": {
          "base_uri": "https://localhost:8080/"
        },
        "id": "mZMUR9Afwpd7",
        "outputId": "5fe2678a-95e6-472e-97b2-7eca64664d14"
      },
      "outputs": [
        {
          "name": "stdout",
          "output_type": "stream",
          "text": [
            "matriz número de filas: 3\n",
            "Número de columnas: 3\n",
            "Ingrese la matriz fila por fila, separando los números con comas:\n",
            "Fila : 1,0,0\n",
            "Fila : 0,1,0\n",
            "Fila : 0,0,1\n",
            "Solucion en x3,-5,7\n",
            "[[1, 0, 0], [0, 1, 0], [0, 0, 1]]\n",
            "[3, -5, 7]\n",
            "El determinante es:  1.0\n",
            "La matriz inversa es:  [[1.0, 0.0, 0.0], [0.0, 1.0, 0.0], [0.0, 0.0, 1.0]]\n",
            "La solucion del sistema:  [3.0, -5.0, 7.0]\n"
          ]
        }
      ],
      "source": [
        "def matrixextendidaGauss(A, b): #matriz mas identidad mas soluciones\n",
        "  M = [fila.copy() for fila in A]\n",
        "  n = len(M)\n",
        "  for i in range(n):\n",
        "    for j in range(n):\n",
        "      if(i==j):\n",
        "        M[i].append(1)\n",
        "      else:\n",
        "        M[i].append(0)\n",
        "    M[i].append(b[i])\n",
        "  return M\n",
        "\n",
        "def sumaarreglos(x, y):\n",
        "  return [x[i]+y[i] for i in range(len(x))]\n",
        "\n",
        "def multiplicaporescalar(x, e):\n",
        "  return [y*e for y in x]\n",
        "\n",
        "def reduccionGauss(A, b): #forma escalonada reducida\n",
        "  n = len(b)\n",
        "  M = matrixextendidaGauss(A,b) #extension\n",
        "  d = 1\n",
        "  for k in range(n):\n",
        "    p = M[k][k]\n",
        "    d *= p #determinante\n",
        "    M[k] = multiplicaporescalar(M[k], 1/p)\n",
        "    for i in range(n):\n",
        "      if(i!=k):\n",
        "        p2 = -M[i][k]\n",
        "        fP = multiplicaporescalar(M[k], p2)\n",
        "        M[i] = sumaarreglos(M[i], fP)\n",
        "  A1 = [[0 for j in range(n)] for i in range(n)] #inversa de A\n",
        "  for i in range(n):\n",
        "    for j in range(n):\n",
        "      A1[i][j] = M[i][n+j]\n",
        "  x = []\n",
        "  for i in range(n):\n",
        "    x.append(M[i][2*n]) #solucion sistena\n",
        "\n",
        "  return d, A1, x\n",
        "# Programa principal\n",
        "\n",
        "#Controlar entrada\n",
        "def leerMatriz(mnsj):\n",
        "    filas = int(input(mnsj+\" número de filas: \"))\n",
        "    columnas = int(input(\"Número de columnas: \"))\n",
        "    matriz = []\n",
        "    print(\"Ingrese la matriz fila por fila, separando los números con comas:\")\n",
        "    for i in range(filas):\n",
        "        fila = input(\"Fila : \")\n",
        "        matriz.append([int(x) for x in fila.split(',')])\n",
        "    return matriz\n",
        "\n",
        "def esLista(lista):\n",
        "    y = input(lista)\n",
        "    return [int(x) for x in y.split(\",\")]\n",
        "\n",
        "# Programa principal\n",
        "matrizz = leerMatriz('matriz')\n",
        "solucionX = esLista('Solucion en x')\n",
        "print(matrizz)\n",
        "print(solucionX)\n",
        "determinante, inversa, solucion = reduccionGauss(matrizz,solucionX)\n",
        "print('El determinante es: ', determinante)\n",
        "print('La matriz inversa es: ', inversa)\n",
        "print('La solucion del sistema: ', solucion)"
      ]
    },
    {
      "cell_type": "markdown",
      "metadata": {
        "id": "oZeWFAPC7LmX"
      },
      "source": [
        "## Espiral interna"
      ]
    },
    {
      "cell_type": "code",
      "execution_count": null,
      "metadata": {
        "colab": {
          "base_uri": "https://localhost:8080/"
        },
        "id": "-JH3a920vWJF",
        "outputId": "4cb11c36-6bae-4b4f-e2e1-d2f292d2496e"
      },
      "outputs": [
        {
          "name": "stdout",
          "output_type": "stream",
          "text": [
            "hasta que numero quirez hacer la espiral100\n",
            "tu arreglo es [1, 2, 3, 4, 5, 6, 7, 8, 9, 10, 11, 12, 13, 14, 15, 16, 17, 18, 19, 20, 21, 22, 23, 24, 25, 26, 27, 28, 29, 30, 31, 32, 33, 34, 35, 36, 37, 38, 39, 40, 41, 42, 43, 44, 45, 46, 47, 48, 49, 50, 51, 52, 53, 54, 55, 56, 57, 58, 59, 60, 61, 62, 63, 64, 65, 66, 67, 68, 69, 70, 71, 72, 73, 74, 75, 76, 77, 78, 79, 80, 81, 82, 83, 84, 85, 86, 87, 88, 89, 90, 91, 92, 93, 94, 95, 96, 97, 98, 99, 100]\n",
            "[1, 2, 3, 4, 5, 6, 7, 8, 9, 10]\n",
            "[36, 37, 38, 39, 40, 41, 42, 43, 44, 11]\n",
            "[35, 64, 65, 66, 67, 68, 69, 70, 45, 12]\n",
            "[34, 63, 84, 85, 86, 87, 88, 71, 46, 13]\n",
            "[33, 62, 83, 96, 97, 98, 89, 72, 47, 14]\n",
            "[32, 61, 82, 95, 100, 99, 90, 73, 48, 15]\n",
            "[31, 60, 81, 94, 93, 92, 91, 74, 49, 16]\n",
            "[30, 59, 80, 79, 78, 77, 76, 75, 50, 17]\n",
            "[29, 58, 57, 56, 55, 54, 53, 52, 51, 18]\n",
            "[28, 27, 26, 25, 24, 23, 22, 21, 20, 19]\n"
          ]
        }
      ],
      "source": [
        "def llenarEspiral(matriz, arreglo, i, j, n, direccion, indice):\n",
        "    if indice == len(arreglo):  #Caso base\n",
        "        return\n",
        "\n",
        "    matriz[i][j] = arreglo[indice]  #Asignamos el valor actual (1)\n",
        "    indice += 1  #Avanzamos en el arreglo\n",
        "\n",
        "    #Definir el siguiente paso en la dirección actual\n",
        "    if direccion == \"derecha\":\n",
        "        if j + 1 < n and matriz[i][j + 1] == 0: #si todavia puedo avanzar y esta vacio\n",
        "            llenarEspiral(matriz, arreglo, i, j + 1, n, \"derecha\", indice)\n",
        "        else: #cambio de direccion\n",
        "            llenarEspiral(matriz, arreglo, i + 1, j, n, \"abajo\", indice)\n",
        "\n",
        "    elif direccion == \"abajo\":\n",
        "        if i + 1 < n and matriz[i + 1][j] == 0:\n",
        "            llenarEspiral(matriz, arreglo, i + 1, j, n, \"abajo\", indice)\n",
        "        else:\n",
        "            llenarEspiral(matriz, arreglo, i, j - 1, n, \"izquierda\", indice)\n",
        "\n",
        "    elif direccion == \"izquierda\":\n",
        "        if j - 1 >= 0 and matriz[i][j - 1] == 0:\n",
        "            llenarEspiral(matriz, arreglo, i, j - 1, n, \"izquierda\", indice)\n",
        "        else:\n",
        "            llenarEspiral(matriz, arreglo, i - 1, j, n, \"arriba\", indice)\n",
        "\n",
        "    elif direccion == \"arriba\":\n",
        "        if i - 1 >= 0 and matriz[i - 1][j] == 0:\n",
        "            llenarEspiral(matriz, arreglo, i - 1, j, n, \"arriba\", indice)\n",
        "        else:\n",
        "            llenarEspiral(matriz, arreglo, i, j + 1, n, \"derecha\", indice)\n",
        "\n",
        "\n",
        "def generarMatriz(n, arreglo):\n",
        "    matriz = [[0] * n for _ in range(n)]  # Crear una matriz vacía de tama;o n x n\n",
        "    llenarEspiral(matriz, arreglo, 0, 0, n, \"derecha\", 0)\n",
        "    return matriz\n",
        "\n",
        "\n",
        "# Ejemplo de uso:\n",
        "espiral = int(input('hasta que numero quirez hacer la espiral'))\n",
        "n = int(espiral**0.5) # n es la longitud del lado\n",
        "arreglo = [i for i in range(1, n * n + 1)]  # Crear un arreglo con números del 1 al n^2\n",
        "print('tu arreglo es',arreglo)\n",
        "matriz = generarMatriz(n, arreglo)\n",
        "\n",
        "# Imprimir la matriz\n",
        "for fila in matriz:\n",
        "    print(fila)"
      ]
    },
    {
      "cell_type": "markdown",
      "metadata": {
        "id": "PrS7aO5zE7Jx"
      },
      "source": [
        "# $9. Relaciones \\ binarias \\ como \\ matrices $\n",
        "\n"
      ]
    },
    {
      "cell_type": "markdown",
      "metadata": {
        "id": "5ToVYo3esN2x"
      },
      "source": [
        "**Las matrices deben ser del mismo tama;o**\n",
        "Recordar a su vez que 0 es falso y uno es verdadero en python"
      ]
    },
    {
      "cell_type": "markdown",
      "metadata": {
        "id": "G7VzS6vtL37O"
      },
      "source": [
        "## Union\n",
        "\n",
        "\\begin{equation*} \\begin{array}{crll} \\text{union: } & {0,1}^{n \\times m} \\times {0,1}^{n \\times m} & \\longrightarrow & {0,1}^{n \\times m} \\\\\n",
        "& (A, B) & \\longmapsto &  \\left[ A_{ij}=1 \\lor B_{ij}=1 \\right] \\end{array} \\end{equation*}"
      ]
    },
    {
      "cell_type": "code",
      "execution_count": null,
      "metadata": {
        "colab": {
          "base_uri": "https://localhost:8080/"
        },
        "id": "YWhKnIQdL57w",
        "outputId": "b4d27f1e-88df-4dea-f577-127cb28d7b9a"
      },
      "outputs": [
        {
          "name": "stdout",
          "output_type": "stream",
          "text": [
            "primera matriznúmero de filas: 3\n",
            "Número de columnas: 2\n",
            "Ingrese la matriz fila por fila, separando los números con comas:\n",
            "Fila : 1,0\n",
            "Fila : 1,0\n",
            "Fila : 1,0\n",
            "[[1, 0], [1, 0], [1, 0]]\n",
            "segunda matriznúmero de filas: 3\n",
            "Número de columnas: 2\n",
            "Ingrese la matriz fila por fila, separando los números con comas:\n",
            "Fila : 0,1\n",
            "Fila : 0,1\n",
            "Fila : 0,1\n",
            "[[0, 1], [0, 1], [0, 1]]\n",
            "La matriz resultante es:\n",
            "[1, 1]\n",
            "[1, 1]\n",
            "[1, 1]\n"
          ]
        }
      ],
      "source": [
        "def unionMatrices(A, B):\n",
        "  return [[A[i][j] or B[i][j] for j in range(len(A[0]))] for i in range(len(A))]\n",
        "\n",
        "#Controlar entrada\n",
        "def leerMatriz(mnsj):\n",
        "    filas = int(input(mnsj+\"número de filas: \"))\n",
        "    columnas = int(input(\"Número de columnas: \"))\n",
        "    matriz = []\n",
        "    print(\"Ingrese la matriz fila por fila, separando los números con comas:\")\n",
        "    for i in range(filas):\n",
        "        fila = input(\"Fila : \")\n",
        "        matriz.append([int(x) for x in fila.split(',')])\n",
        "    return matriz\n",
        "\n",
        "# Programa principal\n",
        "A = leerMatriz('primera matriz')\n",
        "print(A)\n",
        "B = leerMatriz('segunda matriz')\n",
        "print(B)\n",
        "union = unionMatrices(A,B)\n",
        "print('La matriz resultante es:')\n",
        "for fila in union:\n",
        "    print(fila)"
      ]
    },
    {
      "cell_type": "markdown",
      "metadata": {
        "id": "2SIjb-bhL6IC"
      },
      "source": [
        "## Interseccion\n",
        "\n",
        "\\begin{equation*} \\begin{array}{crll} \\text{interseccion: } & {0,1}^{n \\times m} \\times {0,1}^{n \\times m} & \\longrightarrow & {0,1}^{n \\times m} \\\\\n",
        "& (A, B) & \\longmapsto &  \\left[ A_{ij}=1 \\land B_{ij}=1 \\right] \\end{array} \\end{equation*}"
      ]
    },
    {
      "cell_type": "code",
      "execution_count": null,
      "metadata": {
        "colab": {
          "base_uri": "https://localhost:8080/"
        },
        "id": "zls9ri_ZiN-d",
        "outputId": "29c50678-bc85-4ad5-8c07-3f6229b29e4b"
      },
      "outputs": [
        {
          "name": "stdout",
          "output_type": "stream",
          "text": [
            "primera matriznúmero de filas: 3\n",
            "Número de columnas: 3\n",
            "Ingrese la matriz fila por fila, separando los números con comas:\n",
            "Fila : 1,0,1\n",
            "Fila : 0,1,0\n",
            "Fila : 1,0,1\n",
            "[[1, 0, 1], [0, 1, 0], [1, 0, 1]]\n",
            "segunda matriznúmero de filas: 3\n",
            "Número de columnas: 3\n",
            "Ingrese la matriz fila por fila, separando los números con comas:\n",
            "Fila : 0,1,0\n",
            "Fila : 1,0,1\n",
            "Fila : 0,1,0\n",
            "[[0, 1, 0], [1, 0, 1], [0, 1, 0]]\n",
            "La matriz resultante es:\n",
            "[0, 0, 0]\n",
            "[0, 0, 0]\n",
            "[0, 0, 0]\n"
          ]
        }
      ],
      "source": [
        "def interseccionMatrices(A, B):\n",
        "  return [[A[i][j] and B[i][j] for j in range(len(A[0]))] for i in range(len(A))]\n",
        "\n",
        "#Controlar entrada\n",
        "def leerMatriz(mnsj):\n",
        "    filas = int(input(mnsj+\"número de filas: \"))\n",
        "    columnas = int(input(\"Número de columnas: \"))\n",
        "    matriz = []\n",
        "    print(\"Ingrese la matriz fila por fila, separando los números con comas:\")\n",
        "    for i in range(filas):\n",
        "        fila = input(\"Fila : \")\n",
        "        matriz.append([int(x) for x in fila.split(',')])\n",
        "    return matriz\n",
        "\n",
        "# Programa principal\n",
        "A = leerMatriz('primera matriz')\n",
        "print(A)\n",
        "B = leerMatriz('segunda matriz')\n",
        "print(B)\n",
        "interseccion = interseccionMatrices(A,B)\n",
        "print('La matriz resultante es:')\n",
        "for fila in interseccion:\n",
        "    print(fila)"
      ]
    },
    {
      "cell_type": "markdown",
      "metadata": {
        "id": "v6JKEO1UiOI2"
      },
      "source": [
        "## Simetria\n",
        "\n",
        "\\begin{equation*} \\begin{array}{crll} \\text{simetria: } & {0,1}^{n \\times n} & \\longrightarrow & \\mathbb{B} \\\\\n",
        "& A & \\longmapsto & \\forall i,j, \\quad A_{ij} = A_{ji} \\end{array} \\end{equation*}"
      ]
    },
    {
      "cell_type": "code",
      "execution_count": null,
      "metadata": {
        "colab": {
          "base_uri": "https://localhost:8080/"
        },
        "id": "RKLwH7vuiQec",
        "outputId": "a3629961-4a35-4670-826a-3266ed15ae2d"
      },
      "outputs": [
        {
          "name": "stdout",
          "output_type": "stream",
          "text": [
            "primera matriznúmero de filas: 2\n",
            "Número de columnas: 1\n",
            "Ingrese la matriz fila por fila, separando los números con comas:\n",
            "Fila : 1,1\n",
            "Fila : 0,1\n",
            "[[1, 1], [0, 1]]\n",
            "False\n"
          ]
        }
      ],
      "source": [
        "def esSimetrica(M):\n",
        "  for i in range(len(M)):\n",
        "    for j in range(len(M[0])):\n",
        "      if M[i][j] != M[j][i]:\n",
        "        return False\n",
        "  return True\n",
        "\n",
        "#Controlar entrada\n",
        "def leerMatriz(mnsj):\n",
        "    filas = int(input(mnsj+\"número de filas: \"))\n",
        "    columnas = int(input(\"Número de columnas: \"))\n",
        "    matriz = []\n",
        "    print(\"Ingrese la matriz fila por fila, separando los números con comas:\")\n",
        "    for i in range(filas):\n",
        "        fila = input(\"Fila : \")\n",
        "        matriz.append([int(x) for x in fila.split(',')])\n",
        "    return matriz\n",
        "\n",
        "# Programa principal\n",
        "A = leerMatriz('primera matriz')\n",
        "print(A)\n",
        "simetrica = esSimetrica(A)\n",
        "print(simetrica)\n"
      ]
    },
    {
      "cell_type": "markdown",
      "metadata": {
        "id": "K_qxNyQmiQqd"
      },
      "source": [
        "## Reflexividad\n",
        "\n",
        "\\begin{equation*} \\begin{array}{crll} \\text{reflexividad: } & {0,1}^{n \\times n} & \\longrightarrow & \\mathbb{B} \\\\\n",
        "& M & \\longmapsto & \\forall i, \\quad M_{ii} = 1 \\end{array} \\end{equation*}"
      ]
    },
    {
      "cell_type": "code",
      "execution_count": null,
      "metadata": {
        "colab": {
          "base_uri": "https://localhost:8080/"
        },
        "id": "2S8DXg0hiTw9",
        "outputId": "01a6bb0d-e95e-488a-f827-9f1967162abe"
      },
      "outputs": [
        {
          "name": "stdout",
          "output_type": "stream",
          "text": [
            "primera matriznúmero de filas: 3\n",
            "Número de columnas: 3\n",
            "Ingrese la matriz fila por fila, separando los números con comas:\n",
            "Fila : 1,0,0\n",
            "Fila : 0,0,0\n",
            "Fila : 0,0,1\n",
            "[[1, 0, 0], [0, 0, 0], [0, 0, 1]]\n",
            "False\n"
          ]
        }
      ],
      "source": [
        "def esReflexiva(M):\n",
        "  for i in range(len(M)):\n",
        "    if M[i][i] != 1:\n",
        "      return False\n",
        "  return True\n",
        "\n",
        "\n",
        "#Controlar entrada\n",
        "def leerMatriz(mnsj):\n",
        "    filas = int(input(mnsj+\"número de filas: \"))\n",
        "    columnas = int(input(\"Número de columnas: \"))\n",
        "    matriz = []\n",
        "    print(\"Ingrese la matriz fila por fila, separando los números con comas:\")\n",
        "    for i in range(filas):\n",
        "        fila = input(\"Fila : \")\n",
        "        matriz.append([int(x) for x in fila.split(',')])\n",
        "    return matriz\n",
        "\n",
        "# Programa principal\n",
        "A = leerMatriz('primera matriz')\n",
        "print(A)\n",
        "reflexiva = esReflexiva(A)\n",
        "print(reflexiva)"
      ]
    },
    {
      "cell_type": "markdown",
      "metadata": {
        "id": "fTGjdcT2iT84"
      },
      "source": [
        "## Transitividad\n",
        "\n",
        "\\begin{equation*} \\begin{array}{crll} \\text{transitividad: } & {0,1}^{n \\times n} & \\longrightarrow & \\mathbb{B} \\\\\n",
        "& M & \\longmapsto & \\forall i,j,k, \\quad M_{ij} = 0 \\lor M_{jk} = 0 \\lor M_{ik} = 1 \\end{array} \\end{equation*}"
      ]
    },
    {
      "cell_type": "code",
      "execution_count": null,
      "metadata": {
        "colab": {
          "base_uri": "https://localhost:8080/"
        },
        "id": "HChOSDroiWT-",
        "outputId": "8e2a0984-d065-4c21-a905-4dc3d045ee0d"
      },
      "outputs": [
        {
          "name": "stdout",
          "output_type": "stream",
          "text": [
            "primera matriznúmero de filas: 3\n",
            "Número de columnas: 3\n",
            "Ingrese la matriz fila por fila, separando los números con comas:\n",
            "Fila : 1,1,0\n",
            "Fila : 0,1,1\n",
            "Fila : 0,0,1\n",
            "[[1, 1, 0], [0, 1, 1], [0, 0, 1]]\n",
            "False\n"
          ]
        }
      ],
      "source": [
        "\n",
        "def esTransitiva(M):\n",
        "  R = len(M)\n",
        "  for i in range(R):\n",
        "    for j in range(R):\n",
        "      for k in range(R):\n",
        "        if M[i][j] and M[j][k] and not M[i][k] :\n",
        "          return False\n",
        "  return True\n",
        "\n",
        "\n",
        "#Controlar entrada\n",
        "def leerMatriz(mnsj):\n",
        "    filas = int(input(mnsj+\"número de filas: \"))\n",
        "    columnas = int(input(\"Número de columnas: \"))\n",
        "    matriz = []\n",
        "    print(\"Ingrese la matriz fila por fila, separando los números con comas:\")\n",
        "    for i in range(filas):\n",
        "        fila = input(\"Fila : \")\n",
        "        matriz.append([int(x) for x in fila.split(',')])\n",
        "    return matriz\n",
        "\n",
        "# Programa principal\n",
        "A = leerMatriz('primera matriz')\n",
        "print(A)\n",
        "trans = esTransitiva(A)\n",
        "print(trans)"
      ]
    },
    {
      "cell_type": "markdown",
      "metadata": {
        "id": "HkuyZR8JiWbp"
      },
      "source": [
        "## Orden\n",
        "\n",
        "\\begin{equation*} \\begin{array}{crll} \\text{orden: } & {0,1}^{n \\times n} & \\longrightarrow & \\mathbb{B} \\\\\n",
        "& M & \\longmapsto & \\text{reflexiva}(M) \\land \\text{transitiva}(M) \\land \\text{antisimetrica}(M) \\end{array} \\end{equation*}"
      ]
    },
    {
      "cell_type": "code",
      "execution_count": null,
      "metadata": {
        "colab": {
          "base_uri": "https://localhost:8080/"
        },
        "id": "2iIkfYIhiX_A",
        "outputId": "76fbd3d7-b1c3-409a-d9ea-bcc3f9e1316b"
      },
      "outputs": [
        {
          "name": "stdout",
          "output_type": "stream",
          "text": [
            "primera matriznúmero de filas: 3\n",
            "Número de columnas: 3\n",
            "Ingrese la matriz fila por fila, separando los números con comas:\n",
            "Fila : 1,1,0\n",
            "Fila : 1,1,0\n",
            "Fila : 0,0,1\n",
            "[[1, 1, 0], [1, 1, 0], [0, 0, 1]]\n",
            "False\n"
          ]
        }
      ],
      "source": [
        "def esOrden(M):\n",
        "  return esReflexiva(M) and esTransitiva(M) and antisimetrica(M)\n",
        "\n",
        "def esTransitiva(M):\n",
        "  R = len(M)\n",
        "  for i in range(R):\n",
        "    for j in range(R):\n",
        "      for k in range(R):\n",
        "        if M[i][j] and M[j][k] and not M[i][k] :\n",
        "          return False\n",
        "  return True\n",
        "\n",
        "def esReflexiva(M):\n",
        "  for i in range(len(M)):\n",
        "    if M[i][i] != 1:\n",
        "      return False\n",
        "  return True\n",
        "\n",
        "def antisimetrica(A): #suponemos que la matriz es cuadrada por su diagonal\n",
        "  n = len(A)\n",
        "  for i in range(n):\n",
        "    for j in range(n):\n",
        "      if i != j and A[i][j] == 1 and A[j][i] == 1:\n",
        "        return False #si hay algo simetrico a parte de la diagonal no es asimetrica\n",
        "  return True # Es asimetrica\n",
        "\n",
        "#Controlar entrada\n",
        "def leerMatriz(mnsj):\n",
        "    filas = int(input(mnsj+\"número de filas: \"))\n",
        "    columnas = int(input(\"Número de columnas: \"))\n",
        "    matriz = []\n",
        "    print(\"Ingrese la matriz fila por fila, separando los números con comas:\")\n",
        "    for i in range(filas):\n",
        "        fila = input(\"Fila : \")\n",
        "        matriz.append([int(x) for x in fila.split(',')])\n",
        "    return matriz\n",
        "\n",
        "# Programa principal\n",
        "A = leerMatriz('primera matriz')\n",
        "print(A)\n",
        "ordenada = esOrden(A)\n",
        "print(ordenada)"
      ]
    },
    {
      "cell_type": "markdown",
      "metadata": {
        "id": "O-VxwokNiYRR"
      },
      "source": [
        "## Equivalencia\n",
        "\n",
        "\\begin{equation*} \\begin{array}{crll} \\text{equivalencia: } & {0,1}^{n \\times n} & \\longrightarrow & \\mathbb{B} \\\\\n",
        "& M & \\longmapsto & \\text{reflexiva}(M) \\land \\text{simetrica}(M) \\land \\text{transitiva}(M) \\end{array} \\end{equation*}\n",
        "\n",
        "\n",
        "\n",
        "\\begin{equation*} \\begin{array}{crll} \\text{antisimetrica: } & {0,1}^{n \\times n} & \\longrightarrow & \\mathbb{B} \\\\\n",
        "& M & \\longmapsto & (x, y) \\in R \\quad \\text{y} \\quad (y, x) \\in R \\quad \\Rightarrow \\quad x = y \\end{array} \\end{equation*}"
      ]
    },
    {
      "cell_type": "code",
      "execution_count": null,
      "metadata": {
        "colab": {
          "base_uri": "https://localhost:8080/"
        },
        "id": "cyKokEmwibNw",
        "outputId": "910c46a5-bf1f-4739-b640-c55c3f5ef097"
      },
      "outputs": [
        {
          "name": "stdout",
          "output_type": "stream",
          "text": [
            "primera matriznúmero de filas: 3\n",
            "Número de columnas: 3\n",
            "Ingrese la matriz fila por fila, separando los números con comas:\n",
            "Fila : 1,0,0\n",
            "Fila : 0,0,0\n",
            "Fila : 0,0,1\n",
            "[[1, 0, 0], [0, 0, 0], [0, 0, 1]]\n",
            "False\n"
          ]
        }
      ],
      "source": [
        "def esEquivalencia(M):\n",
        "  return esTransitiva(M) and esSimetrica(M) and esReflexiva(M)\n",
        "\n",
        "def esTransitiva(M):\n",
        "  R = len(M)\n",
        "  for i in range(R):\n",
        "    for j in range(R):\n",
        "      for k in range(R):\n",
        "        if M[i][j] and M[j][k] and not M[i][k] :\n",
        "          return False\n",
        "  return True\n",
        "\n",
        "def esSimetrica(M):\n",
        "  for i in range(len(M)):\n",
        "    for j in range(len(M[0])):\n",
        "      if M[i][j] != M[j][i]:\n",
        "        return False\n",
        "  return True\n",
        "\n",
        "def esReflexiva(M):\n",
        "  for i in range(len(M)):\n",
        "    if M[i][i] != 1:\n",
        "      return False\n",
        "  return True\n",
        "\n",
        "\n",
        "#Controlar entrada\n",
        "def leerMatriz(mnsj):\n",
        "    filas = int(input(mnsj+\"número de filas: \"))\n",
        "    columnas = int(input(\"Número de columnas: \"))\n",
        "    matriz = []\n",
        "    print(\"Ingrese la matriz fila por fila, separando los números con comas:\")\n",
        "    for i in range(filas):\n",
        "        fila = input(\"Fila : \")\n",
        "        matriz.append([int(x) for x in fila.split(',')])\n",
        "    return matriz\n",
        "\n",
        "# Programa principal\n",
        "A = leerMatriz('primera matriz')\n",
        "print(A)\n",
        "equival = esEquivalencia(A)\n",
        "print(equival)"
      ]
    },
    {
      "cell_type": "markdown",
      "metadata": {
        "id": "pz8VgAnUibcz"
      },
      "source": [
        "## Funcion\n",
        "\n",
        "\\begin{equation*} \\begin{array}{crll} \\text{funcion: } & {0,1}^{n \\times m} & \\longrightarrow & \\mathbb{B} \\\\\n",
        "& M & \\longmapsto & \\forall i, \\quad \\displaystyle\\sum_{j=1}^{m-1} M_{ij} \\leq 1 \\end{array} \\end{equation*}"
      ]
    },
    {
      "cell_type": "code",
      "execution_count": null,
      "metadata": {
        "colab": {
          "base_uri": "https://localhost:8080/"
        },
        "id": "QIcHNncIieJd",
        "outputId": "0aa43621-7fba-4424-8b6a-8ec0be773dd1"
      },
      "outputs": [
        {
          "name": "stdout",
          "output_type": "stream",
          "text": [
            "primera matriznúmero de filas: 3\n",
            "Número de columnas: 3\n",
            "Ingrese la matriz fila por fila, separando los números con comas:\n",
            "Fila : 1,1,1\n",
            "Fila : 1,0,0\n",
            "Fila : 1,0,0\n",
            "[[1, 1, 1], [1, 0, 0], [1, 0, 0]]\n",
            "False\n"
          ]
        }
      ],
      "source": [
        "def esFuncion(A):\n",
        "  for i in range(len(A)): #Dominio\n",
        "    s = 0\n",
        "    for j in range(len(A[0])): #Codominio\n",
        "      if s <= 1:\n",
        "        s += A[i][j]\n",
        "      else:\n",
        "        return False\n",
        "  return True\n",
        "\n",
        "#Controlar entrada\n",
        "def leerMatriz(mnsj):\n",
        "    filas = int(input(mnsj+\"número de filas: \"))\n",
        "    columnas = int(input(\"Número de columnas: \"))\n",
        "    matriz = []\n",
        "    print(\"Ingrese la matriz fila por fila, separando los números con comas:\")\n",
        "    for i in range(filas):\n",
        "        fila = input(\"Fila : \")\n",
        "        matriz.append([int(x) for x in fila.split(',')])\n",
        "    return matriz\n",
        "\n",
        "# Programa principal\n",
        "A = leerMatriz('primera matriz')\n",
        "print(A)\n",
        "funcion = esFuncion(A)\n",
        "print(funcion)"
      ]
    },
    {
      "cell_type": "markdown",
      "metadata": {
        "id": "WPGSJ7ynifk_"
      },
      "source": [
        "## Inyectividad\n",
        "\n",
        "\\begin{equation*} \\begin{array}{crll} \\text{inyectiva: } & {0,1}^{n \\times m} & \\longrightarrow & \\mathbb{B} \\\\\n",
        "& M & \\longmapsto & \\forall i,j,k, \\quad  M_{ij} = 0 \\lor M_{jk} \\lor a = c \\end{array} \\end{equation*}"
      ]
    },
    {
      "cell_type": "code",
      "execution_count": null,
      "metadata": {
        "colab": {
          "base_uri": "https://localhost:8080/"
        },
        "id": "dH1ITFbiihu8",
        "outputId": "a41db4b8-49ac-428c-8f1f-a4ea46c6e71d"
      },
      "outputs": [
        {
          "name": "stdout",
          "output_type": "stream",
          "text": [
            "primera matriznúmero de filas: 3\n",
            "Número de columnas: 3\n",
            "Ingrese la matriz fila por fila, separando los números con comas:\n",
            "Fila : 1,0,0\n",
            "Fila : 1,0,1\n",
            "Fila : 0,1,0\n",
            "[[1, 0, 0], [1, 0, 1], [0, 1, 0]]\n",
            "False\n"
          ]
        }
      ],
      "source": [
        "def esInyectiva(R):\n",
        "  n = len(R) #tamaño dominio\n",
        "  m = len(R[0]) #tamaño del codominio\n",
        "  s = True\n",
        "  for i in range(n):\n",
        "    for k in range(n):\n",
        "      for j in range(m):\n",
        "        s = s and (R[i][j]==0 or R[k][j]==0 or i==k)\n",
        "  return s\n",
        "\n",
        "\n",
        "#Controlar entrada\n",
        "def leerMatriz(mnsj):\n",
        "    filas = int(input(mnsj+\"número de filas: \"))\n",
        "    columnas = int(input(\"Número de columnas: \"))\n",
        "    matriz = []\n",
        "    print(\"Ingrese la matriz fila por fila, separando los números con comas:\")\n",
        "    for i in range(filas):\n",
        "        fila = input(\"Fila : \")\n",
        "        matriz.append([int(x) for x in fila.split(',')])\n",
        "    return matriz\n",
        "\n",
        "# Programa principal\n",
        "A = leerMatriz('primera matriz')\n",
        "print(A)\n",
        "inyect = esInyectiva(A)\n",
        "print(inyect)"
      ]
    },
    {
      "cell_type": "markdown",
      "metadata": {
        "id": "NYHmBUVKih5t"
      },
      "source": [
        "## Sobreyectividad\n",
        "\n",
        "\\begin{equation*} \\begin{array}{crll} \\text{sobreyectiva: } & {0,1}^{n \\times m} & \\longrightarrow & \\mathbb{B} \\\\\n",
        "& M & \\longmapsto & \\forall j, \\exists i, \\quad  M_{ij} = 1 \\end{array} \\end{equation*}"
      ]
    },
    {
      "cell_type": "code",
      "execution_count": null,
      "metadata": {
        "colab": {
          "base_uri": "https://localhost:8080/"
        },
        "id": "0MPH7sn7ik8X",
        "outputId": "dba2b273-cba5-4a1a-994b-87ea2a1af840"
      },
      "outputs": [
        {
          "name": "stdout",
          "output_type": "stream",
          "text": [
            "primera matriznúmero de filas: 3\n",
            "Número de columnas: 3\n",
            "Ingrese la matriz fila por fila, separando los números con comas:\n",
            "Fila : 1,0,1\n",
            "Fila : 0,0,0\n",
            "Fila : 1,1,1\n",
            "[[1, 0, 1], [0, 0, 0], [1, 1, 1]]\n",
            "True\n"
          ]
        }
      ],
      "source": [
        "\n",
        "\n",
        "def existencialS(x,i,n):\n",
        "  for j in range(n): #Rango\n",
        "    if x[j][i] == 1:\n",
        "      return True\n",
        "  return False\n",
        "\n",
        "def esSobreyectiva(A):\n",
        "  for i in range(len(A[0])): #Dominio\n",
        "    if not existencialS(A,i,len(A)):\n",
        "      return False\n",
        "  return True\n",
        "\n",
        "#Controlar entrada\n",
        "def leerMatriz(mnsj):\n",
        "    filas = int(input(mnsj+\"número de filas: \"))\n",
        "    columnas = int(input(\"Número de columnas: \"))\n",
        "    matriz = []\n",
        "    print(\"Ingrese la matriz fila por fila, separando los números con comas:\")\n",
        "    for i in range(filas):\n",
        "        fila = input(\"Fila : \")\n",
        "        matriz.append([int(x) for x in fila.split(',')])\n",
        "    return matriz\n",
        "\n",
        "# Programa principal\n",
        "A = leerMatriz('primera matriz')\n",
        "print(A)\n",
        "sobrey = esSobreyectiva(A)\n",
        "print(sobrey)\n"
      ]
    },
    {
      "cell_type": "markdown",
      "metadata": {
        "id": "8P-9NxutilGl"
      },
      "source": [
        "## Menu completo con salir"
      ]
    },
    {
      "cell_type": "code",
      "execution_count": null,
      "metadata": {
        "colab": {
          "base_uri": "https://localhost:8080/"
        },
        "id": "puQ1N5se8wuY",
        "outputId": "7ff9ac62-1978-42f7-8e5e-ad2f67fa8068"
      },
      "outputs": [
        {
          "name": "stdout",
          "output_type": "stream",
          "text": [
            "1. Union\n",
            "2. Interseccion\n",
            "3. Simetria\n",
            "4. Reflexividad\n",
            "5. Transitividad\n",
            "6. Orden\n",
            "7. Equivalencia\n",
            "8. Funcion\n",
            "9. Inyectividad\n",
            "10. Sobreyectividad\n",
            "11. Salir\n",
            "Elige tu opción: 10\n",
            "Matriznúmero de filas: 3\n",
            "Número de columnas: 3\n",
            "Ingrese la matriz fila por fila, separando los números con comas:\n",
            "Fila : 1,0,1\n",
            "Fila : 0,1,0\n",
            "Fila : 0,0,1\n",
            "[[1, 0, 1], [0, 1, 0], [0, 0, 1]]\n",
            "La matriz resultante es:\n",
            "True\n",
            "1. Union\n",
            "2. Interseccion\n",
            "3. Simetria\n",
            "4. Reflexividad\n",
            "5. Transitividad\n",
            "6. Orden\n",
            "7. Equivalencia\n",
            "8. Funcion\n",
            "9. Inyectividad\n",
            "10. Sobreyectividad\n",
            "11. Salir\n",
            "Elige tu opción: 11\n",
            "Te extra;are...\n"
          ]
        }
      ],
      "source": [
        "# funciones\n",
        "\n",
        "def unionMatrices(A, B):\n",
        "  return [[A[i][j] or B[i][j] for j in range(len(A[0]))] for i in range(len(A))]\n",
        "\n",
        "def interseccionMatrices(A, B):\n",
        "  return [[A[i][j] and B[i][j] for j in range(len(A[0]))] for i in range(len(A))]\n",
        "\n",
        "def esSimetrica(M):\n",
        "  for i in range(len(M)):\n",
        "    for j in range(len(M[0])):\n",
        "      if M[i][j] != M[j][i]:\n",
        "        return False\n",
        "  return True\n",
        "\n",
        "def esReflexiva(M):\n",
        "  for i in range(len(M)):\n",
        "    if M[i][i] != 1:\n",
        "      return False\n",
        "  return True\n",
        "\n",
        "def esTransitiva(M):\n",
        "  R = len(M)\n",
        "  for i in range(R):\n",
        "    for j in range(R):\n",
        "      for k in range(R):\n",
        "        if M[i][j] and M[j][k] and not M[i][k] :\n",
        "          return False\n",
        "  return True\n",
        "\n",
        "def esOrden(M):\n",
        "  return esReflexiva(M) and esTransitiva(M) and antisimetrica(M)\n",
        "\n",
        "def antisimetrica(A): #suponemos que la matriz es cuadrada por su diagonal\n",
        "  n = len(A)\n",
        "  for i in range(n):\n",
        "    for j in range(n):\n",
        "      if i != j and A[i][j] == 1 and A[j][i] == 1:\n",
        "        return False #si hay algo simetrico a parte de la diagonal no es asimetrica\n",
        "  return True # Es asimetrica\n",
        "\n",
        "def esEquivalencia(M):\n",
        "  return esTransitiva(M) and esSimetrica(M) and esReflexiva(M)\n",
        "\n",
        "\n",
        "def esFuncion(A):\n",
        "  for i in range(len(A)): #Dominio\n",
        "    s = 0\n",
        "    for j in range(len(A[0])): #Codominio\n",
        "      if s <= 1:\n",
        "        s += A[i][j]\n",
        "      else:\n",
        "        return False\n",
        "  return True\n",
        "\n",
        "def esInyectiva(R):\n",
        "  n = len(R) #tamaño dominio\n",
        "  m = len(R[0]) #tamaño del codominio\n",
        "  s = True\n",
        "  for i in range(n):\n",
        "    for k in range(n):\n",
        "      for j in range(m):\n",
        "        s = s and (R[i][j]==0 or R[k][j]==0 or i==k)\n",
        "  return s\n",
        "\n",
        "def existencialS(x,i,n):\n",
        "  for j in range(n): #Rango\n",
        "    if x[j][i] == 1:\n",
        "      return True\n",
        "  return False\n",
        "\n",
        "def esSobreyectiva(A):\n",
        "  for i in range(len(A[0])): #Dominio\n",
        "    if not existencialS(A,i,len(A)):\n",
        "      return False\n",
        "  return True\n",
        "\n",
        "#Controlar entrada\n",
        "def leerMatriz(mnsj):\n",
        "    filas = int(input(mnsj+\"número de filas: \"))\n",
        "    columnas = int(input(\"Número de columnas: \"))\n",
        "    matriz = []\n",
        "    print(\"Ingrese la matriz fila por fila, separando los números con comas:\")\n",
        "    for i in range(filas):\n",
        "        fila = input(\"Fila : \")\n",
        "        matriz.append([int(x) for x in fila.split(',')])\n",
        "    return matriz\n",
        "\n",
        "#Programa principal (menu)\n",
        "\n",
        "\n",
        "def menu3(opciones):\n",
        "    for x in opciones:\n",
        "        print(x)\n",
        "    opt = int(input(\"Elige tu opción: \"))\n",
        "    while opt < 1 or opt > len(opciones):\n",
        "        print(\"Para qué te traje...\")\n",
        "        for x in opciones:\n",
        "            print(x)\n",
        "        opt = int(input(\"Elige tu opción: \"))\n",
        "    return opt\n",
        "\n",
        "# Programa principal\n",
        "opts = [\n",
        "    \"1. Union\",\n",
        "    \"2. Interseccion\",\n",
        "    \"3. Simetria\",\n",
        "    \"4. Reflexividad\",\n",
        "    \"5. Transitividad\",\n",
        "    \"6. Orden\",\n",
        "    \"7. Equivalencia\",\n",
        "    \"8. Funcion\",\n",
        "    \"9. Inyectividad\",\n",
        "    \"10. Sobreyectividad\",\n",
        "    \"11. Salir\"]\n",
        "\n",
        "o = menu3(opts)\n",
        "\n",
        "\n",
        "while o != 11:\n",
        "  if o == 1 :\n",
        "    A = leerMatriz('primera matriz')\n",
        "    print(A)\n",
        "    B = leerMatriz('segunda matriz')\n",
        "    print(B)\n",
        "    union = unionMatrices(A,B)\n",
        "    print('La matriz resultante es:')\n",
        "    for fila in union:\n",
        "      print(fila)\n",
        "    o = menu3(opts)\n",
        "  elif o == 2:\n",
        "    A = leerMatriz('primera matriz')\n",
        "    print(A)\n",
        "    B = leerMatriz('segunda matriz')\n",
        "    print(B)\n",
        "    union = interseccionMatrices(A,B)\n",
        "    print('La matriz resultante es:')\n",
        "    for fila in union:\n",
        "      print(fila)\n",
        "    o = menu3(opts)\n",
        "  else:\n",
        "    A = leerMatriz('Matriz')\n",
        "    print(A)\n",
        "    if o == 3:\n",
        "      simetria = esSimetrica(A)\n",
        "      print('La matriz resultante es:')\n",
        "      print(simetria)\n",
        "    elif o == 4:\n",
        "      reflexiva = esReflexiva(A)\n",
        "      print('La matriz resultante es:')\n",
        "      print(reflexiva)\n",
        "    elif o == 5:\n",
        "      trans = esTransitiva(A)\n",
        "      print('La matriz resultante es:')\n",
        "      print(trans)\n",
        "    elif o == 6:\n",
        "      ordenada = esOrden(A)\n",
        "      print('La matriz resultante es:')\n",
        "      print(ordenada)\n",
        "    elif o == 7:\n",
        "      equival = esEquivalencia(A)\n",
        "      print('La matriz resultante es:')\n",
        "      print(equival)\n",
        "    elif o == 8:\n",
        "      funcion = esFuncion(A)\n",
        "      print('La matriz resultante es:')\n",
        "      print(funcion)\n",
        "    elif o == 9:\n",
        "      inyect = esInyectiva(A)\n",
        "      print('La matriz resultante es:')\n",
        "      print(inyect)\n",
        "    elif o == 10:\n",
        "      sobrey = esSobreyectiva(A)\n",
        "      print('La matriz resultante es:')\n",
        "      print(sobrey)\n",
        "    else:\n",
        "        print(\"ermano...\")\n",
        "    o = menu3(opts)\n",
        "\n",
        "print(\"Te extra;are...\")\n",
        "\n"
      ]
    },
    {
      "cell_type": "markdown",
      "metadata": {
        "id": "WEQZUnVOzNRD"
      },
      "source": [
        "# $10. Cadenas $"
      ]
    },
    {
      "cell_type": "markdown",
      "metadata": {
        "id": "rkrgi2ppDIoS"
      },
      "source": [
        "## Buscar caracter en cadena\n",
        "\n",
        "\\begin{equation*}\n",
        "caracter(s_i, c) =\n",
        "\\begin{cases}\n",
        "1, & \\text{si } s_i = c \\\\\n",
        "0, & \\text{si } s_i \\neq c\n",
        "\\end{cases}\n",
        "\\end{equation*}\n",
        "\n",
        "\n",
        "\n",
        "\\begin{equation*} \\begin{array}{crll} \\text{buscarCaracter: } & \\mathbb{S}^{n} \\times \\mathbb{ASCII} & \\longrightarrow &  \\mathbb{N}\\\\\n",
        "& (l,x) & \\longmapsto &  \\displaystyle \\forall _{i=0}^{n-1}, i \\in \\mathbb{N}, caracter(l_i,x)  \\end{array} \\end{equation*}"
      ]
    },
    {
      "cell_type": "code",
      "execution_count": null,
      "metadata": {
        "colab": {
          "base_uri": "https://localhost:8080/"
        },
        "id": "15TRfKJ5A5Kv",
        "outputId": "62ac706d-74c2-4668-a1c4-9635881bd74a"
      },
      "outputs": [
        {
          "name": "stdout",
          "output_type": "stream",
          "text": [
            "Ingrese la cadena en la que buscar mi mama me mima\n",
            "Ingrese el caracter a buscar z\n",
            "0\n"
          ]
        }
      ],
      "source": [
        "#Normalito\n",
        "def buscarCaracter(l,x):\n",
        "  s = 0\n",
        "  for i in range(len(l)):\n",
        "    if l[i] == x:\n",
        "      s+=1\n",
        "  return s\n",
        "\n",
        "#recursivo\n",
        "\n",
        "def caracter(x,y):\n",
        "  if x == y:\n",
        "    return 1\n",
        "  else:\n",
        "    return 0\n",
        "\n",
        "def buscarin(x,y):\n",
        "  if len(x) ==1:\n",
        "    return caracter(x[0],y)\n",
        "  else:\n",
        "    return caracter(x[0],y) + buscarin(x[1:],y)\n",
        "\n",
        "#Programa principal\n",
        "cadena = input(\"Ingrese la cadena en la que buscar \")\n",
        "arreglo = list(cadena)\n",
        "letra = input(\"Ingrese el caracter a buscar \")\n",
        "buscar = buscarin(arreglo,letra)\n",
        "print(buscar)"
      ]
    },
    {
      "cell_type": "markdown",
      "metadata": {
        "id": "OXogYO2HGlWt"
      },
      "source": [
        "## Subcadena\n",
        "\n",
        "\\begin{equation*}\n",
        "\\exists_{i=0}^{|a|-1}\\forall_{k=0}^{|b|-1}a[i+k]=b[k]\n",
        "\\end{equation*}"
      ]
    },
    {
      "cell_type": "code",
      "execution_count": null,
      "metadata": {
        "colab": {
          "base_uri": "https://localhost:8080/"
        },
        "id": "R5fLTR3WIFXx",
        "outputId": "a337333e-a6f5-4b33-daae-7a937ffb3d5b"
      },
      "outputs": [
        {
          "name": "stdout",
          "output_type": "stream",
          "text": [
            "Ingrese la cadena que buscar pe\n",
            "Ingrese donde papipo\n",
            "False\n"
          ]
        }
      ],
      "source": [
        "def subcadena(b, a):\n",
        "    se = False\n",
        "    for i in range(len(a) - len(b) + 1):  # Asi solo busca hasta que quepa\n",
        "        sp = True\n",
        "        for k in range(len(b)):\n",
        "            if a[i + k] != b[k]:\n",
        "                sp = False\n",
        "                break  #Corta si falla\n",
        "        if sp:\n",
        "            se = True\n",
        "            break  #Corta si encuentra\n",
        "    return se\n",
        "\n",
        "#Programa principal\n",
        "cadena = input(\"Ingrese la cadena que buscar \")\n",
        "arreglo = list(cadena)\n",
        "letra = input(\"Ingrese donde \")\n",
        "arreglo2 = list(letra)\n",
        "buscar = subcadena(arreglo,arreglo2)\n",
        "print(buscar)"
      ]
    },
    {
      "cell_type": "markdown",
      "metadata": {
        "id": "wSzfsBpcOYM_"
      },
      "source": [
        "## Cadena incluida\n",
        "\n",
        "\\begin{equation*}\n",
        "\\forall i \\in \\{0, \\dots, |a|-1\\}, \\quad \\exists j \\in \\{0, \\dots, |x|-1\\} \\text{ tal que } a[i] = x[j]\n",
        "\\end{equation*}\n",
        "\n",
        "\\begin{equation*}\n",
        "\\text{con actualización } x^t = x - \\{x[j]\\}\n",
        "\\end{equation*}\n",
        "Donde $t = tiempo$"
      ]
    },
    {
      "cell_type": "code",
      "execution_count": null,
      "metadata": {
        "colab": {
          "base_uri": "https://localhost:8080/"
        },
        "id": "jQxhOO0wO63Z",
        "outputId": "56621ce3-009a-4aa8-8111-ee30c87d90f2"
      },
      "outputs": [
        {
          "name": "stdout",
          "output_type": "stream",
          "text": [
            "Ingrese la cadena que buscar prosa\n",
            "Ingrese donde la profesora de ingles\n",
            "True\n"
          ]
        }
      ],
      "source": [
        "def estaIncluida(a, b):\n",
        "    se = True\n",
        "    x = b.copy()\n",
        "    for i in range(len(a)):  # Recorremos cada carácter de 'a'\n",
        "        sp = False\n",
        "        for j in range(len(x)):  # Recorremos 'b' buscando coincidencias\n",
        "            if a[i] == x[j]:  # Si encontramos una coincidencia\n",
        "                sp = True\n",
        "                x = x[:j] + x[j+1:]  # Eliminamos ese carácter de 'b'\n",
        "                break\n",
        "        se = se and sp\n",
        "\n",
        "    return se\n",
        "\n",
        "#Programa principal\n",
        "cadena = input(\"Ingrese la cadena que buscar \")\n",
        "arreglo = list(cadena)\n",
        "letra = input(\"Ingrese donde \")\n",
        "arreglo2 = list(letra)\n",
        "buscar = estaIncluida(arreglo,arreglo2)\n",
        "print(buscar)"
      ]
    },
    {
      "cell_type": "markdown",
      "metadata": {
        "id": "B5RzKUSXSuh-"
      },
      "source": [
        "## Invertir (recursivo)\n",
        "\n",
        "\\begin{equation*}\n",
        "  \\begin{array}{crll}\n",
        "    \\text{invertirNoR: } & \\mathbb{S} & \\longrightarrow & \\mathbb{S}  \\\\\n",
        "      & (t) & \\longmapsto & \\bigoplus_{i=0}^{|org|} t_{|org|-i-1}\n",
        "      \\\\\n",
        "  \\end{array}\n",
        "\\end{equation*}\n",
        "\n",
        "\\begin{equation*}\n",
        "invertir(x) =\n",
        "\\begin{cases}\n",
        "x_0, & \\text{si } |x| = 0 \\\\\n",
        "invertir(x^t), & \\text{en otro caso }\n",
        "\\end{cases}\n",
        "\\end{equation*}\n",
        "\n",
        "\\begin{equation*}\n",
        "\\text{con actualización } x^t = x - \\{x[n-1]\\}\n",
        "\\end{equation*}\n",
        "Donde $t = tiempo$"
      ]
    },
    {
      "cell_type": "code",
      "execution_count": null,
      "metadata": {
        "colab": {
          "base_uri": "https://localhost:8080/"
        },
        "id": "ju78ajvOTaU_",
        "outputId": "b3ebd3db-89eb-4649-f081-a117be8dcbbc"
      },
      "outputs": [
        {
          "name": "stdout",
          "output_type": "stream",
          "text": [
            "Ingrese la cadena que buscar mi mama\n",
            "amam im\n"
          ]
        }
      ],
      "source": [
        "def invertir(x):\n",
        "  if len(x) == 1:\n",
        "    return x[0]\n",
        "  else:\n",
        "    return x[-1] + invertir(x[:-1])\n",
        "\n",
        "#Programa principal\n",
        "cadena = input(\"Ingrese la cadena que buscar \")\n",
        "invertido = invertir(cadena)\n",
        "print(invertido)\n",
        "\n",
        "#no recursivo\n",
        "def invertirNoR(t):\n",
        "  n = len(t)\n",
        "  s = ''\n",
        "  for i in range(n):\n",
        "    s = s + t[n-i-1] #  <-> s = t[i] + s\n",
        "  return s\n"
      ]
    },
    {
      "cell_type": "markdown",
      "metadata": {
        "id": "iVi2k53bXW-e"
      },
      "source": [
        "## Palindrome\n",
        "\n",
        "\\begin{equation*}\n",
        "palindrome(x) =\n",
        "\\begin{cases}\n",
        "T, & \\text{si } x = invertir(x) \\\\\n",
        "F, & \\text{en otro caso }\n",
        "\\end{cases}\n",
        "\\end{equation*}"
      ]
    },
    {
      "cell_type": "code",
      "execution_count": null,
      "metadata": {
        "colab": {
          "base_uri": "https://localhost:8080/"
        },
        "id": "VEMritwCXYp8",
        "outputId": "c6bf1872-13b0-48bf-f027-f3f6c50509db"
      },
      "outputs": [
        {
          "name": "stdout",
          "output_type": "stream",
          "text": [
            "Ingrese la cadena que buscar anula las alas a la luna\n",
            "anul al a sala sal aluna\n",
            "False\n"
          ]
        }
      ],
      "source": [
        "def palindrome(x):\n",
        "  z = invertir(x)\n",
        "  print(z)\n",
        "  return z == x\n",
        "\n",
        "def invertir(x):\n",
        "  if len(x) == 1:\n",
        "    return x[0]\n",
        "  else:\n",
        "    return x[-1] + invertir(x[:-1])\n",
        "\n",
        "#Programa principal\n",
        "cadena = input(\"Ingrese la cadena que buscar \")\n",
        "palindr = palindrome(cadena)\n",
        "print(palindr)"
      ]
    },
    {
      "cell_type": "markdown",
      "metadata": {
        "id": "Y7ZTHekaZ4I6"
      },
      "source": [
        "## Frase palindrome\n",
        "\n",
        "\\begin{equation*}\n",
        "  \\begin{array}{crll}\n",
        "    \\text{quitarEspacios: } & \\mathbb{S} & \\longrightarrow & \\mathbb{S}  \\\\\n",
        "      & (texto) & \\longmapsto & \\bigoplus_{i=0}^{|texto|-1} \\begin{cases}\n",
        "      texto_{i} & \\text{ si } 'a' \\le texto_i \\le 'z' \\lor 'A' \\le texto_i \\le 'Z'\\\\\n",
        "      '' & \\text{ en otro caso} \\\\\n",
        "      \\end{cases}\n",
        "      \\\\\n",
        "  \\end{array}\n",
        "\\end{equation*}\n",
        "\n",
        "\n",
        "\n",
        "\\begin{equation*}\n",
        "frasePalindrome(x) = palindrome(quitarEspacios(x))\n",
        "\\end{equation*}"
      ]
    },
    {
      "cell_type": "code",
      "execution_count": null,
      "metadata": {
        "colab": {
          "base_uri": "https://localhost:8080/"
        },
        "id": "lDLfxvXeas3D",
        "outputId": "8cd4381d-9ad0-4290-b418-27bce6cafcfe"
      },
      "outputs": [
        {
          "name": "stdout",
          "output_type": "stream",
          "text": [
            "Ingrese la cadena que buscar amor amor\n",
            "romaroma\n",
            "False\n"
          ]
        }
      ],
      "source": [
        "def quitarEspacios(texto):\n",
        "  s = '' #inicializar nuevo str\n",
        "  for i in range(len(texto)):\n",
        "    if('a'<=texto[i]<='z' or 'A'<=texto[i]<='Z'):\n",
        "      s += texto[i]\n",
        "    return s\n",
        "\n",
        "# mejor recursivo jeje\n",
        "def quitarEspaciosR(texto):\n",
        "  if len(texto) == 1:\n",
        "    return texto[0]\n",
        "  elif('a'<=texto[0]<='z' or 'A'<=texto[0]<='Z'):\n",
        "    return texto[0] + quitarEspaciosR(texto[1:])\n",
        "  else:\n",
        "    return quitarEspaciosR(texto[1:])\n",
        "\n",
        "\n",
        "def frasePalindrome(x):\n",
        "  y = quitarEspaciosR(x)\n",
        "  return palindrome(y)\n",
        "\n",
        "def palindrome(x):\n",
        "  z = invertir(x)\n",
        "  print(z)\n",
        "  return z == x\n",
        "\n",
        "def invertir(x):\n",
        "  if len(x) == 1:\n",
        "    return x[0]\n",
        "  else:\n",
        "    return x[-1] + invertir(x[:-1])\n",
        "\n",
        "#Programa principal\n",
        "cadena = input(\"Ingrese la cadena que buscar \")\n",
        "palindrFrase = frasePalindrome(cadena)\n",
        "print(palindrFrase)"
      ]
    },
    {
      "cell_type": "markdown",
      "metadata": {
        "id": "W8Surma_gPWl"
      },
      "source": [
        "## Corrimiento circular izquierda\n",
        "\n",
        "\n",
        "\\begin{equation*}\n",
        "  \\begin{array}{crll}\n",
        "    \\text{corrimientoCircularIzq: } & \\mathbb{S}^{n} & \\longrightarrow & \\mathbb{S}  \\\\\n",
        "      & (x) & \\longmapsto & \\begin{cases}\n",
        "  x, & \\text{si } |x| \\leq 1 \\\\\n",
        "  x_{1} x_{2} \\dots x_{n-1} x_0, & \\text{si } |x| > 1\n",
        "  \\end{cases}\n",
        "      \\\\\n",
        "  \\end{array}\n",
        "\\end{equation*}\n"
      ]
    },
    {
      "cell_type": "code",
      "execution_count": null,
      "metadata": {
        "colab": {
          "base_uri": "https://localhost:8080/"
        },
        "id": "pqA0-krrgW-a",
        "outputId": "c3e0f8a3-c81a-46a4-89ef-c6eff379fd49"
      },
      "outputs": [
        {
          "name": "stdout",
          "output_type": "stream",
          "text": [
            "Ingrese la cadena que buscar Pepito va al colegio\n",
            "epito va al colegioP\n"
          ]
        }
      ],
      "source": [
        "def corrimientoCircularIzq(x):\n",
        "  if len(x) == 1:\n",
        "    return x\n",
        "  else:\n",
        "    return x[1:] + x[0]\n",
        "\n",
        "#Programa principal\n",
        "cadena = input(\"Ingrese la cadena que buscar \")\n",
        "cCizo = corrimientoCircularIzq(cadena)\n",
        "print(cCizo)"
      ]
    },
    {
      "cell_type": "markdown",
      "metadata": {
        "id": "fk8zYTc6ihhh"
      },
      "source": [
        "## Corrimiento circular derecha\n",
        "\n",
        "\n",
        "\\begin{equation*}\n",
        "  \\begin{array}{crll}\n",
        "    \\text{corrimientoCircularDer: } & \\mathbb{S}^{n} & \\longrightarrow & \\mathbb{S}  \\\\\n",
        "      & (x) & \\longmapsto & \\begin{cases}\n",
        "  x, & \\text{si } |x| \\leq 1 \\\\\n",
        "  x_{n-1} x_0 x_{1} \\dots x_{n-3} x_{n-2} , & \\text{si } |x| > 1\n",
        "  \\end{cases}\n",
        "      \\\\\n",
        "  \\end{array}\n",
        "\\end{equation*}"
      ]
    },
    {
      "cell_type": "code",
      "execution_count": null,
      "metadata": {
        "colab": {
          "base_uri": "https://localhost:8080/"
        },
        "id": "kThyG82ajQYt",
        "outputId": "c37d5ff9-65fb-4ef1-c749-9362058ea0c8"
      },
      "outputs": [
        {
          "name": "stdout",
          "output_type": "stream",
          "text": [
            "Ingrese la cadena que buscar Pepito va al colegio\n",
            "oPepito va al colegi\n"
          ]
        }
      ],
      "source": [
        "def corrimientoCircularDer(x):\n",
        "  n=len(x)\n",
        "  if n == 1:\n",
        "    return x\n",
        "  else:\n",
        "    return x[-1] + x[:-1]\n",
        "\n",
        "#Programa principal\n",
        "cadena = input(\"Ingrese la cadena que buscar \")\n",
        "cCder = corrimientoCircularDer(cadena)\n",
        "print(cCder)"
      ]
    },
    {
      "cell_type": "markdown",
      "metadata": {
        "id": "KMZekNI3kdR_"
      },
      "source": [
        "## Codificar\n",
        "\n",
        "\n",
        "\\begin{equation*}\n",
        "  \\begin{array}{crll}\n",
        "    \\text{codifica: } & \\mathbb{S} \\times \\mathbb{S} & \\longrightarrow & \\mathbb{S} \\\\\n",
        "      & (c, x) & \\longmapsto & \\oplus_{i=0}^{n-1} \\begin{cases}\n",
        "        d_{x_i} & \\text{si } 'a' \\le x_i \\le 'z'\\\\\n",
        "        x_{i}  & \\text{en otro caso}\n",
        "      \\end{cases} \\\\\n",
        "  \\end{array}\n",
        "\\end{equation*}\n",
        "\n",
        "\\begin{equation*}\n",
        "  d_{'a'+i}=c_i \\forall_{i=0}^{25} \\quad y \\quad n=|x|\n",
        "\\end{equation*}"
      ]
    },
    {
      "cell_type": "code",
      "execution_count": null,
      "metadata": {
        "colab": {
          "base_uri": "https://localhost:8080/"
        },
        "id": "NNrhG_IYkejS",
        "outputId": "5730b302-207f-49e9-b65e-39da1c5fb859"
      },
      "outputs": [
        {
          "name": "stdout",
          "output_type": "stream",
          "text": [
            "{'a': 'q', 'b': 'w', 'c': 'e', 'd': 'r', 'e': 't', 'f': 'y', 'g': 'u', 'h': 'i', 'i': 'o', 'j': 'p', 'k': 'a', 'l': 's', 'm': 'd', 'n': 'f', 'o': 'g', 'p': 'h', 'q': 'j', 'r': 'k', 's': 'l', 't': 'z', 'u': 'x', 'v': 'c', 'w': 'v', 'x': 'b', 'y': 'n', 'z': 'm'}\n",
            "{'a': 'z', 'b': 'x', 'c': 'c', 'd': 'v', 'e': 'b', 'f': 'n', 'g': 'm', 'h': 'a', 'i': 's', 'j': 'd', 'k': 'f', 'l': 'g', 'm': 'h', 'n': 'j', 'o': 'k', 'p': 'l', 'q': 'q', 'r': 'w', 's': 'e', 't': 'r', 'u': 't', 'v': 'y', 'w': 'u', 'x': 'i', 'y': 'o', 'z': 'p'}\n",
            "qs lxk rt Cgsgdwoq\n",
            "zg etw vb Ckgkhxsz\n",
            "{'a': 'q', 'b': 'w', 'c': 'e', 'd': 'r', 'e': 't', 'f': 'y', 'g': 'u', 'h': 'i', 'i': 'o', 'j': 'p', 'k': 'a', 'l': 's', 'm': 'd', 'n': 'f', 'o': 'g', 'p': 'h', 'q': 'j', 'r': 'k', 's': 'l', 't': 'z', 'u': 'x', 'v': 'c', 'w': 'v', 'x': 'b', 'y': 'n', 'z': 'm'}\n",
            "{'a': 'z', 'b': 'x', 'c': 'c', 'd': 'v', 'e': 'b', 'f': 'n', 'g': 'm', 'h': 'a', 'i': 's', 'j': 'd', 'k': 'f', 'l': 'g', 'm': 'h', 'n': 'j', 'o': 'k', 'p': 'l', 'q': 'q', 'r': 'w', 's': 'e', 't': 'r', 'u': 't', 'v': 'y', 'w': 'u', 'x': 'i', 'y': 'o', 'z': 'p'}\n",
            "qs lxk rt Cgsgdwoq\n",
            "zg etw vb Ckgkhxsz\n"
          ]
        }
      ],
      "source": [
        "def codifica(c, x):\n",
        "  d = {} #crear un diccionario que asigne el nuevo valor\n",
        "  for i in range(26): #rango del abecedari\n",
        "    d[chr(97+i)] = c[i] #resignacion\n",
        "  print(d) #nuevo abecedario\n",
        "  s = '' #nueva cadena\n",
        "  for y in x: #reescribir\n",
        "    if(97 <= ord(y) <= 122):\n",
        "      s += d[y]\n",
        "    else: #Si se sale escribe el mismo caracter\n",
        "      s += y\n",
        "  return s\n",
        "\n",
        "# Principal\n",
        "t ='al sur de Colombia'\n",
        "b = 'qwertyuiopasdfghjklzxcvbnm'\n",
        "c = 'zxcvbnmasdfghjklqwertyuiop'\n",
        "a = codifica(b, t)\n",
        "z = codifica(c, t)\n",
        "print(a)\n",
        "print(z)\n",
        "\n",
        "#version recursiva\n",
        "\n",
        "def codificar(c):\n",
        "  d = {} #crear un diccionario que asigne el nuevo valor\n",
        "  for i in range(26): #rango del abecedari\n",
        "    d[chr(97+i)] = c[i] #resignacion\n",
        "  print(d) #nuevo abecedario\n",
        "  return d\n",
        "\n",
        "\n",
        "def cod(x,d):\n",
        "  if len(x)==1:\n",
        "    return d[x[0]]\n",
        "  elif 97 <= ord(x[0]) <= 122:\n",
        "    return d[x[0]] + cod(x[1:],d)\n",
        "  else:\n",
        "    return x[0] + cod(x[1:],d)\n",
        "\n",
        "def codificacion(x,y):\n",
        "  return cod(y,codificar(x))\n",
        "\n",
        "# Principal\n",
        "r ='al sur de Colombia'\n",
        "s = 'qwertyuiopasdfghjklzxcvbnm'\n",
        "y = 'zxcvbnmasdfghjklqwertyuiop'\n",
        "u = codificacion(s, r)\n",
        "i = codificacion(y, r)\n",
        "print(u)\n",
        "print(i)"
      ]
    },
    {
      "cell_type": "markdown",
      "metadata": {
        "id": "kbKUiFCypiAW"
      },
      "source": [
        "## Decodificar\n",
        "\n",
        "\\begin{equation*}\n",
        "  \\begin{array}{crll}\n",
        "    \\text{decodifica: } & \\mathbb{S} \\times \\mathbb{S} & \\longrightarrow & \\mathbb{S} \\\\\n",
        "      & (c, x) & \\longmapsto & \\oplus_{i=0}^{n-1} \\begin{cases}\n",
        "        d^{-1}_{x_i} & \\text{si } 'a' \\le x_i \\le 'z'\\\\\n",
        "        x_{i}  & \\text{en otro caso}\n",
        "      \\end{cases} \\\\\n",
        "  \\end{array}\n",
        "\\end{equation*}\n",
        "\n",
        "\\begin{equation*}\n",
        "  d^{-1}_{c_i} = 'a' + i, \\quad \\forall i \\in \\{0, \\dots, 25\\}\n",
        "\\end{equation*}\n",
        "\n",
        "\\begin{equation*}\n",
        "  n = |x|\n",
        "\\end{equation*}\n",
        "\n"
      ]
    },
    {
      "cell_type": "code",
      "execution_count": null,
      "metadata": {
        "colab": {
          "base_uri": "https://localhost:8080/"
        },
        "id": "8BBWvyQQp2XA",
        "outputId": "b2f19d09-8431-489b-f03f-49fa66b877e5"
      },
      "outputs": [
        {
          "name": "stdout",
          "output_type": "stream",
          "text": [
            "{'q': 'a', 'w': 'b', 'e': 'c', 'r': 'd', 't': 'e', 'y': 'f', 'u': 'g', 'i': 'h', 'o': 'i', 'p': 'j', 'a': 'k', 's': 'l', 'd': 'm', 'f': 'n', 'g': 'o', 'h': 'p', 'j': 'q', 'k': 'r', 'l': 's', 'z': 't', 'x': 'u', 'c': 'v', 'v': 'w', 'b': 'x', 'n': 'y', 'm': 'z'}\n",
            "{'z': 'a', 'x': 'b', 'c': 'c', 'v': 'd', 'b': 'e', 'n': 'f', 'm': 'g', 'a': 'h', 's': 'i', 'd': 'j', 'f': 'k', 'g': 'l', 'h': 'm', 'j': 'n', 'k': 'o', 'l': 'p', 'q': 'q', 'w': 'r', 'e': 's', 'r': 't', 't': 'u', 'y': 'v', 'u': 'w', 'i': 'x', 'o': 'y', 'p': 'z'}\n",
            "al sur de Colombia\n",
            "al sur de Colombia\n",
            "{'q': 'a', 'w': 'b', 'e': 'c', 'r': 'd', 't': 'e', 'y': 'f', 'u': 'g', 'i': 'h', 'o': 'i', 'p': 'j', 'a': 'k', 's': 'l', 'd': 'm', 'f': 'n', 'g': 'o', 'h': 'p', 'j': 'q', 'k': 'r', 'l': 's', 'z': 't', 'x': 'u', 'c': 'v', 'v': 'w', 'b': 'x', 'n': 'y', 'm': 'z'}\n",
            "{'z': 'a', 'x': 'b', 'c': 'c', 'v': 'd', 'b': 'e', 'n': 'f', 'm': 'g', 'a': 'h', 's': 'i', 'd': 'j', 'f': 'k', 'g': 'l', 'h': 'm', 'j': 'n', 'k': 'o', 'l': 'p', 'q': 'q', 'w': 'r', 'e': 's', 'r': 't', 't': 'u', 'y': 'v', 'u': 'w', 'i': 'x', 'o': 'y', 'p': 'z'}\n",
            "al sur de Colombia\n",
            "al sur de Colombia\n"
          ]
        }
      ],
      "source": [
        "def decodifica(c, x):\n",
        "    d = {}  # Diccionario de decodificación\n",
        "    for i in range(26):\n",
        "        d[c[i]] = chr(97 + i)  # Invertimos diccionario original\n",
        "    print(d)\n",
        "    s = ''  # Cadena decodificada\n",
        "    for y in x:  # Recorrer la cadena codificada\n",
        "        if 97 <= ord(y) <= 122:  # Si es una letra minúscula\n",
        "            s += d[y]\n",
        "        else:  # Mantener no  letras minúsculas\n",
        "            s += y\n",
        "    return s\n",
        "\n",
        "# Principal\n",
        "t ='qs lxk rt Cgsgdwoq'\n",
        "v ='zg etw vb Ckgkhxsz'\n",
        "b = 'qwertyuiopasdfghjklzxcvbnm'\n",
        "c = 'zxcvbnmasdfghjklqwertyuiop'\n",
        "a = decodifica(b, t)\n",
        "z = decodifica(c, v)\n",
        "print(a)\n",
        "print(z)\n",
        "\n",
        "#version recursiva\n",
        "\n",
        "def decodificar(c):\n",
        "  f = {} #crear un diccionario que asigne el nuevo valor\n",
        "  for i in range(26): #rango del abecedari\n",
        "    f[c[i]] = chr(97 + i) #resignacion\n",
        "  print(f) #nuevo abecedario\n",
        "  return f\n",
        "\n",
        "\n",
        "def cod(x,d):\n",
        "  if len(x)==1:\n",
        "    return d[x[0]]\n",
        "  elif 97 <= ord(x[0]) <= 122:\n",
        "    return d[x[0]] + cod(x[1:],d)\n",
        "  else:\n",
        "    return x[0] + cod(x[1:],d)\n",
        "\n",
        "def decodificacion(x,y):\n",
        "  return cod(y,decodificar(x))\n",
        "\n",
        "# Principal\n",
        "g ='qs lxk rt Cgsgdwoq'\n",
        "h ='zg etw vb Ckgkhxsz'\n",
        "j = 'qwertyuiopasdfghjklzxcvbnm'\n",
        "k = 'zxcvbnmasdfghjklqwertyuiop'\n",
        "l = decodificacion(j, g)\n",
        "m = decodificacion(k, h)\n",
        "print(l)\n",
        "print(m)\n"
      ]
    },
    {
      "cell_type": "markdown",
      "metadata": {},
      "source": []
    }
  ],
  "metadata": {
    "colab": {
      "collapsed_sections": [
        "QElw4k_KP3e2",
        "vg1wATaMd0pu",
        "-xTnDRTQASuH",
        "atJNcGR4P49X",
        "wilHgPJWwy99",
        "sQj0ExZCaE_P",
        "qFY26f2jvcV9",
        "_lyJX6pe03Lj",
        "PrS7aO5zE7Jx"
      ],
      "provenance": []
    },
    "kernelspec": {
      "display_name": "Python 3",
      "name": "python3"
    },
    "language_info": {
      "codemirror_mode": {
        "name": "ipython",
        "version": 3
      },
      "file_extension": ".py",
      "mimetype": "text/x-python",
      "name": "python",
      "nbconvert_exporter": "python",
      "pygments_lexer": "ipython3",
      "version": "3.13.1"
    }
  },
  "nbformat": 4,
  "nbformat_minor": 0
}
